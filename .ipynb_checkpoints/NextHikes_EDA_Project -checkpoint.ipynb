{
 "cells": [
  {
   "cell_type": "markdown",
   "id": "caafefae",
   "metadata": {},
   "source": [
    "# Load the Data and import the libraries"
   ]
  },
  {
   "cell_type": "code",
   "execution_count": 1,
   "id": "e20ec197",
   "metadata": {},
   "outputs": [],
   "source": [
    "import pandas as pd"
   ]
  },
  {
   "cell_type": "code",
   "execution_count": 2,
   "id": "26819927",
   "metadata": {},
   "outputs": [],
   "source": [
    "import pandas as pd \n",
    "import numpy as np\n",
    "import matplotlib.pyplot as plt\n",
    "%matplotlib inline\n",
    "import seaborn as sns"
   ]
  },
  {
   "cell_type": "code",
   "execution_count": 3,
   "id": "8101e801",
   "metadata": {},
   "outputs": [],
   "source": [
    "df=pd.read_csv('housing_data.csv') #Read the data"
   ]
  },
  {
   "cell_type": "code",
   "execution_count": 4,
   "id": "8ef11763",
   "metadata": {},
   "outputs": [
    {
     "data": {
      "text/html": [
       "<div>\n",
       "<style scoped>\n",
       "    .dataframe tbody tr th:only-of-type {\n",
       "        vertical-align: middle;\n",
       "    }\n",
       "\n",
       "    .dataframe tbody tr th {\n",
       "        vertical-align: top;\n",
       "    }\n",
       "\n",
       "    .dataframe thead th {\n",
       "        text-align: right;\n",
       "    }\n",
       "</style>\n",
       "<table border=\"1\" class=\"dataframe\">\n",
       "  <thead>\n",
       "    <tr style=\"text-align: right;\">\n",
       "      <th></th>\n",
       "      <th>Unnamed: 0</th>\n",
       "      <th>MSSubClass</th>\n",
       "      <th>MSZoning</th>\n",
       "      <th>LotFrontage</th>\n",
       "      <th>LotArea</th>\n",
       "      <th>Street</th>\n",
       "      <th>Alley</th>\n",
       "      <th>LotShape</th>\n",
       "      <th>LandContour</th>\n",
       "      <th>Utilities</th>\n",
       "      <th>...</th>\n",
       "      <th>PoolArea</th>\n",
       "      <th>PoolQC</th>\n",
       "      <th>Fence</th>\n",
       "      <th>MiscFeature</th>\n",
       "      <th>MiscVal</th>\n",
       "      <th>MoSold</th>\n",
       "      <th>YrSold</th>\n",
       "      <th>SaleType</th>\n",
       "      <th>SaleCondition</th>\n",
       "      <th>SalePrice</th>\n",
       "    </tr>\n",
       "  </thead>\n",
       "  <tbody>\n",
       "    <tr>\n",
       "      <th>0</th>\n",
       "      <td>0</td>\n",
       "      <td>SC60</td>\n",
       "      <td>RL</td>\n",
       "      <td>65</td>\n",
       "      <td>8450</td>\n",
       "      <td>Pave</td>\n",
       "      <td>NaN</td>\n",
       "      <td>Reg</td>\n",
       "      <td>Lvl</td>\n",
       "      <td>AllPub</td>\n",
       "      <td>...</td>\n",
       "      <td>0</td>\n",
       "      <td>No</td>\n",
       "      <td>No</td>\n",
       "      <td>No</td>\n",
       "      <td>0</td>\n",
       "      <td>Feb</td>\n",
       "      <td>2008</td>\n",
       "      <td>WD</td>\n",
       "      <td>Normal</td>\n",
       "      <td>208500</td>\n",
       "    </tr>\n",
       "    <tr>\n",
       "      <th>1</th>\n",
       "      <td>1</td>\n",
       "      <td>SC20</td>\n",
       "      <td>RL</td>\n",
       "      <td>80</td>\n",
       "      <td>9600</td>\n",
       "      <td>Pave</td>\n",
       "      <td>NaN</td>\n",
       "      <td>Reg</td>\n",
       "      <td>Lvl</td>\n",
       "      <td>AllPub</td>\n",
       "      <td>...</td>\n",
       "      <td>0</td>\n",
       "      <td>No</td>\n",
       "      <td>No</td>\n",
       "      <td>No</td>\n",
       "      <td>0</td>\n",
       "      <td>May</td>\n",
       "      <td>2007</td>\n",
       "      <td>WD</td>\n",
       "      <td>Normal</td>\n",
       "      <td>181500</td>\n",
       "    </tr>\n",
       "    <tr>\n",
       "      <th>2</th>\n",
       "      <td>2</td>\n",
       "      <td>SC60</td>\n",
       "      <td>RL</td>\n",
       "      <td>68</td>\n",
       "      <td>11250</td>\n",
       "      <td>Pave</td>\n",
       "      <td>NaN</td>\n",
       "      <td>IR1</td>\n",
       "      <td>Lvl</td>\n",
       "      <td>AllPub</td>\n",
       "      <td>...</td>\n",
       "      <td>0</td>\n",
       "      <td>No</td>\n",
       "      <td>No</td>\n",
       "      <td>No</td>\n",
       "      <td>0</td>\n",
       "      <td>Sep</td>\n",
       "      <td>2008</td>\n",
       "      <td>WD</td>\n",
       "      <td>Normal</td>\n",
       "      <td>223500</td>\n",
       "    </tr>\n",
       "    <tr>\n",
       "      <th>3</th>\n",
       "      <td>3</td>\n",
       "      <td>SC70</td>\n",
       "      <td>RL</td>\n",
       "      <td>60</td>\n",
       "      <td>9550</td>\n",
       "      <td>Pave</td>\n",
       "      <td>NaN</td>\n",
       "      <td>IR1</td>\n",
       "      <td>Lvl</td>\n",
       "      <td>AllPub</td>\n",
       "      <td>...</td>\n",
       "      <td>0</td>\n",
       "      <td>No</td>\n",
       "      <td>No</td>\n",
       "      <td>No</td>\n",
       "      <td>0</td>\n",
       "      <td>Feb</td>\n",
       "      <td>2006</td>\n",
       "      <td>WD</td>\n",
       "      <td>Abnorml</td>\n",
       "      <td>140000</td>\n",
       "    </tr>\n",
       "    <tr>\n",
       "      <th>4</th>\n",
       "      <td>4</td>\n",
       "      <td>SC60</td>\n",
       "      <td>RL</td>\n",
       "      <td>84</td>\n",
       "      <td>14260</td>\n",
       "      <td>Pave</td>\n",
       "      <td>NaN</td>\n",
       "      <td>IR1</td>\n",
       "      <td>Lvl</td>\n",
       "      <td>AllPub</td>\n",
       "      <td>...</td>\n",
       "      <td>0</td>\n",
       "      <td>No</td>\n",
       "      <td>No</td>\n",
       "      <td>No</td>\n",
       "      <td>0</td>\n",
       "      <td>Dec</td>\n",
       "      <td>2008</td>\n",
       "      <td>WD</td>\n",
       "      <td>Normal</td>\n",
       "      <td>250000</td>\n",
       "    </tr>\n",
       "    <tr>\n",
       "      <th>...</th>\n",
       "      <td>...</td>\n",
       "      <td>...</td>\n",
       "      <td>...</td>\n",
       "      <td>...</td>\n",
       "      <td>...</td>\n",
       "      <td>...</td>\n",
       "      <td>...</td>\n",
       "      <td>...</td>\n",
       "      <td>...</td>\n",
       "      <td>...</td>\n",
       "      <td>...</td>\n",
       "      <td>...</td>\n",
       "      <td>...</td>\n",
       "      <td>...</td>\n",
       "      <td>...</td>\n",
       "      <td>...</td>\n",
       "      <td>...</td>\n",
       "      <td>...</td>\n",
       "      <td>...</td>\n",
       "      <td>...</td>\n",
       "      <td>...</td>\n",
       "    </tr>\n",
       "    <tr>\n",
       "      <th>1455</th>\n",
       "      <td>1455</td>\n",
       "      <td>SC60</td>\n",
       "      <td>RL</td>\n",
       "      <td>62</td>\n",
       "      <td>7917</td>\n",
       "      <td>Pave</td>\n",
       "      <td>NaN</td>\n",
       "      <td>Reg</td>\n",
       "      <td>Lvl</td>\n",
       "      <td>AllPub</td>\n",
       "      <td>...</td>\n",
       "      <td>0</td>\n",
       "      <td>No</td>\n",
       "      <td>No</td>\n",
       "      <td>No</td>\n",
       "      <td>0</td>\n",
       "      <td>Aug</td>\n",
       "      <td>2007</td>\n",
       "      <td>WD</td>\n",
       "      <td>Normal</td>\n",
       "      <td>175000</td>\n",
       "    </tr>\n",
       "    <tr>\n",
       "      <th>1456</th>\n",
       "      <td>1456</td>\n",
       "      <td>SC20</td>\n",
       "      <td>RL</td>\n",
       "      <td>85</td>\n",
       "      <td>13175</td>\n",
       "      <td>Pave</td>\n",
       "      <td>NaN</td>\n",
       "      <td>Reg</td>\n",
       "      <td>Lvl</td>\n",
       "      <td>AllPub</td>\n",
       "      <td>...</td>\n",
       "      <td>0</td>\n",
       "      <td>No</td>\n",
       "      <td>MnPrv</td>\n",
       "      <td>No</td>\n",
       "      <td>0</td>\n",
       "      <td>Feb</td>\n",
       "      <td>2010</td>\n",
       "      <td>WD</td>\n",
       "      <td>Normal</td>\n",
       "      <td>210000</td>\n",
       "    </tr>\n",
       "    <tr>\n",
       "      <th>1457</th>\n",
       "      <td>1457</td>\n",
       "      <td>SC70</td>\n",
       "      <td>RL</td>\n",
       "      <td>66</td>\n",
       "      <td>9042</td>\n",
       "      <td>Pave</td>\n",
       "      <td>NaN</td>\n",
       "      <td>Reg</td>\n",
       "      <td>Lvl</td>\n",
       "      <td>AllPub</td>\n",
       "      <td>...</td>\n",
       "      <td>0</td>\n",
       "      <td>No</td>\n",
       "      <td>GdPrv</td>\n",
       "      <td>Shed</td>\n",
       "      <td>2500</td>\n",
       "      <td>May</td>\n",
       "      <td>2010</td>\n",
       "      <td>WD</td>\n",
       "      <td>Normal</td>\n",
       "      <td>266500</td>\n",
       "    </tr>\n",
       "    <tr>\n",
       "      <th>1458</th>\n",
       "      <td>1458</td>\n",
       "      <td>SC20</td>\n",
       "      <td>RL</td>\n",
       "      <td>68</td>\n",
       "      <td>9717</td>\n",
       "      <td>Pave</td>\n",
       "      <td>NaN</td>\n",
       "      <td>Reg</td>\n",
       "      <td>Lvl</td>\n",
       "      <td>AllPub</td>\n",
       "      <td>...</td>\n",
       "      <td>0</td>\n",
       "      <td>No</td>\n",
       "      <td>No</td>\n",
       "      <td>No</td>\n",
       "      <td>0</td>\n",
       "      <td>Apr</td>\n",
       "      <td>2010</td>\n",
       "      <td>WD</td>\n",
       "      <td>Normal</td>\n",
       "      <td>142125</td>\n",
       "    </tr>\n",
       "    <tr>\n",
       "      <th>1459</th>\n",
       "      <td>1459</td>\n",
       "      <td>SC20</td>\n",
       "      <td>RL</td>\n",
       "      <td>75</td>\n",
       "      <td>9937</td>\n",
       "      <td>Pave</td>\n",
       "      <td>NaN</td>\n",
       "      <td>Reg</td>\n",
       "      <td>Lvl</td>\n",
       "      <td>AllPub</td>\n",
       "      <td>...</td>\n",
       "      <td>0</td>\n",
       "      <td>No</td>\n",
       "      <td>No</td>\n",
       "      <td>No</td>\n",
       "      <td>0</td>\n",
       "      <td>Jun</td>\n",
       "      <td>2008</td>\n",
       "      <td>WD</td>\n",
       "      <td>Normal</td>\n",
       "      <td>147500</td>\n",
       "    </tr>\n",
       "  </tbody>\n",
       "</table>\n",
       "<p>1460 rows × 81 columns</p>\n",
       "</div>"
      ],
      "text/plain": [
       "      Unnamed: 0 MSSubClass MSZoning  LotFrontage  LotArea Street Alley  \\\n",
       "0              0       SC60       RL           65     8450   Pave   NaN   \n",
       "1              1       SC20       RL           80     9600   Pave   NaN   \n",
       "2              2       SC60       RL           68    11250   Pave   NaN   \n",
       "3              3       SC70       RL           60     9550   Pave   NaN   \n",
       "4              4       SC60       RL           84    14260   Pave   NaN   \n",
       "...          ...        ...      ...          ...      ...    ...   ...   \n",
       "1455        1455       SC60       RL           62     7917   Pave   NaN   \n",
       "1456        1456       SC20       RL           85    13175   Pave   NaN   \n",
       "1457        1457       SC70       RL           66     9042   Pave   NaN   \n",
       "1458        1458       SC20       RL           68     9717   Pave   NaN   \n",
       "1459        1459       SC20       RL           75     9937   Pave   NaN   \n",
       "\n",
       "     LotShape LandContour Utilities  ... PoolArea PoolQC  Fence MiscFeature  \\\n",
       "0         Reg         Lvl    AllPub  ...        0     No     No          No   \n",
       "1         Reg         Lvl    AllPub  ...        0     No     No          No   \n",
       "2         IR1         Lvl    AllPub  ...        0     No     No          No   \n",
       "3         IR1         Lvl    AllPub  ...        0     No     No          No   \n",
       "4         IR1         Lvl    AllPub  ...        0     No     No          No   \n",
       "...       ...         ...       ...  ...      ...    ...    ...         ...   \n",
       "1455      Reg         Lvl    AllPub  ...        0     No     No          No   \n",
       "1456      Reg         Lvl    AllPub  ...        0     No  MnPrv          No   \n",
       "1457      Reg         Lvl    AllPub  ...        0     No  GdPrv        Shed   \n",
       "1458      Reg         Lvl    AllPub  ...        0     No     No          No   \n",
       "1459      Reg         Lvl    AllPub  ...        0     No     No          No   \n",
       "\n",
       "     MiscVal MoSold YrSold  SaleType  SaleCondition  SalePrice  \n",
       "0          0    Feb   2008        WD         Normal     208500  \n",
       "1          0    May   2007        WD         Normal     181500  \n",
       "2          0    Sep   2008        WD         Normal     223500  \n",
       "3          0    Feb   2006        WD        Abnorml     140000  \n",
       "4          0    Dec   2008        WD         Normal     250000  \n",
       "...      ...    ...    ...       ...            ...        ...  \n",
       "1455       0    Aug   2007        WD         Normal     175000  \n",
       "1456       0    Feb   2010        WD         Normal     210000  \n",
       "1457    2500    May   2010        WD         Normal     266500  \n",
       "1458       0    Apr   2010        WD         Normal     142125  \n",
       "1459       0    Jun   2008        WD         Normal     147500  \n",
       "\n",
       "[1460 rows x 81 columns]"
      ]
     },
     "execution_count": 4,
     "metadata": {},
     "output_type": "execute_result"
    }
   ],
   "source": [
    "df"
   ]
  },
  {
   "cell_type": "markdown",
   "id": "499dc4f9",
   "metadata": {},
   "source": [
    "# Check data types"
   ]
  },
  {
   "cell_type": "code",
   "execution_count": 5,
   "id": "354a7661",
   "metadata": {
    "scrolled": true
   },
   "outputs": [
    {
     "name": "stdout",
     "output_type": "stream",
     "text": [
      "<class 'pandas.core.frame.DataFrame'>\n",
      "RangeIndex: 1460 entries, 0 to 1459\n",
      "Data columns (total 81 columns):\n",
      " #   Column         Non-Null Count  Dtype  \n",
      "---  ------         --------------  -----  \n",
      " 0   Unnamed: 0     1460 non-null   int64  \n",
      " 1   MSSubClass     1460 non-null   object \n",
      " 2   MSZoning       1460 non-null   object \n",
      " 3   LotFrontage    1460 non-null   int64  \n",
      " 4   LotArea        1460 non-null   int64  \n",
      " 5   Street         1460 non-null   object \n",
      " 6   Alley          91 non-null     object \n",
      " 7   LotShape       1460 non-null   object \n",
      " 8   LandContour    1460 non-null   object \n",
      " 9   Utilities      1460 non-null   object \n",
      " 10  LotConfig      1460 non-null   object \n",
      " 11  LandSlope      1460 non-null   object \n",
      " 12  Neighborhood   1460 non-null   object \n",
      " 13  Condition1     1460 non-null   object \n",
      " 14  Condition2     1460 non-null   object \n",
      " 15  BldgType       1460 non-null   object \n",
      " 16  HouseStyle     1460 non-null   object \n",
      " 17  OverallQual    1460 non-null   int64  \n",
      " 18  OverallCond    1460 non-null   int64  \n",
      " 19  YearBuilt      1460 non-null   int64  \n",
      " 20  YearRemodAdd   1460 non-null   int64  \n",
      " 21  RoofStyle      1460 non-null   object \n",
      " 22  RoofMatl       1460 non-null   object \n",
      " 23  Exterior1st    1460 non-null   object \n",
      " 24  Exterior2nd    1460 non-null   object \n",
      " 25  MasVnrType     588 non-null    object \n",
      " 26  MasVnrArea     1460 non-null   int64  \n",
      " 27  ExterQual      1460 non-null   object \n",
      " 28  ExterCond      1460 non-null   object \n",
      " 29  Foundation     1460 non-null   object \n",
      " 30  BsmtQual       1460 non-null   object \n",
      " 31  BsmtCond       1460 non-null   object \n",
      " 32  BsmtExposure   1460 non-null   object \n",
      " 33  BsmtFinType1   1460 non-null   object \n",
      " 34  BsmtFinSF1     1460 non-null   int64  \n",
      " 35  BsmtFinType2   1460 non-null   object \n",
      " 36  BsmtFinSF2     1460 non-null   int64  \n",
      " 37  BsmtUnfSF      1460 non-null   int64  \n",
      " 38  TotalBsmtSF    1460 non-null   int64  \n",
      " 39  Heating        1460 non-null   object \n",
      " 40  HeatingQC      1460 non-null   object \n",
      " 41  CentralAir     1460 non-null   object \n",
      " 42  Electrical     1459 non-null   object \n",
      " 43  1stFlrSF       1460 non-null   int64  \n",
      " 44  2ndFlrSF       1460 non-null   int64  \n",
      " 45  LowQualFinSF   1460 non-null   int64  \n",
      " 46  GrLivArea      1460 non-null   int64  \n",
      " 47  BsmtFullBath   1460 non-null   int64  \n",
      " 48  BsmtHalfBath   1460 non-null   int64  \n",
      " 49  FullBath       1460 non-null   int64  \n",
      " 50  HalfBath       1460 non-null   int64  \n",
      " 51  BedroomAbvGr   1460 non-null   int64  \n",
      " 52  KitchenAbvGr   1460 non-null   int64  \n",
      " 53  KitchenQual    1460 non-null   object \n",
      " 54  TotRmsAbvGrd   1460 non-null   int64  \n",
      " 55  Functional     1460 non-null   object \n",
      " 56  Fireplaces     1460 non-null   int64  \n",
      " 57  FireplaceQu    1460 non-null   object \n",
      " 58  GarageType     1460 non-null   object \n",
      " 59  GarageYrBlt    1379 non-null   float64\n",
      " 60  GarageFinish   1460 non-null   object \n",
      " 61  GarageCars     1460 non-null   int64  \n",
      " 62  GarageArea     1460 non-null   int64  \n",
      " 63  GarageQual     1460 non-null   object \n",
      " 64  GarageCond     1460 non-null   object \n",
      " 65  PavedDrive     1460 non-null   object \n",
      " 66  WoodDeckSF     1460 non-null   int64  \n",
      " 67  OpenPorchSF    1460 non-null   int64  \n",
      " 68  EnclosedPorch  1460 non-null   int64  \n",
      " 69  3SsnPorch      1460 non-null   int64  \n",
      " 70  ScreenPorch    1460 non-null   int64  \n",
      " 71  PoolArea       1460 non-null   int64  \n",
      " 72  PoolQC         1460 non-null   object \n",
      " 73  Fence          1460 non-null   object \n",
      " 74  MiscFeature    1460 non-null   object \n",
      " 75  MiscVal        1460 non-null   int64  \n",
      " 76  MoSold         1460 non-null   object \n",
      " 77  YrSold         1460 non-null   int64  \n",
      " 78  SaleType       1460 non-null   object \n",
      " 79  SaleCondition  1460 non-null   object \n",
      " 80  SalePrice      1460 non-null   int64  \n",
      "dtypes: float64(1), int64(35), object(45)\n",
      "memory usage: 924.0+ KB\n"
     ]
    }
   ],
   "source": [
    "df.info()"
   ]
  },
  {
   "cell_type": "markdown",
   "id": "ce748dcd",
   "metadata": {},
   "source": [
    "# Check head"
   ]
  },
  {
   "cell_type": "code",
   "execution_count": 6,
   "id": "f3d40d89",
   "metadata": {},
   "outputs": [
    {
     "data": {
      "text/html": [
       "<div>\n",
       "<style scoped>\n",
       "    .dataframe tbody tr th:only-of-type {\n",
       "        vertical-align: middle;\n",
       "    }\n",
       "\n",
       "    .dataframe tbody tr th {\n",
       "        vertical-align: top;\n",
       "    }\n",
       "\n",
       "    .dataframe thead th {\n",
       "        text-align: right;\n",
       "    }\n",
       "</style>\n",
       "<table border=\"1\" class=\"dataframe\">\n",
       "  <thead>\n",
       "    <tr style=\"text-align: right;\">\n",
       "      <th></th>\n",
       "      <th>Unnamed: 0</th>\n",
       "      <th>MSSubClass</th>\n",
       "      <th>MSZoning</th>\n",
       "      <th>LotFrontage</th>\n",
       "      <th>LotArea</th>\n",
       "      <th>Street</th>\n",
       "      <th>Alley</th>\n",
       "      <th>LotShape</th>\n",
       "      <th>LandContour</th>\n",
       "      <th>Utilities</th>\n",
       "      <th>...</th>\n",
       "      <th>PoolArea</th>\n",
       "      <th>PoolQC</th>\n",
       "      <th>Fence</th>\n",
       "      <th>MiscFeature</th>\n",
       "      <th>MiscVal</th>\n",
       "      <th>MoSold</th>\n",
       "      <th>YrSold</th>\n",
       "      <th>SaleType</th>\n",
       "      <th>SaleCondition</th>\n",
       "      <th>SalePrice</th>\n",
       "    </tr>\n",
       "  </thead>\n",
       "  <tbody>\n",
       "    <tr>\n",
       "      <th>0</th>\n",
       "      <td>0</td>\n",
       "      <td>SC60</td>\n",
       "      <td>RL</td>\n",
       "      <td>65</td>\n",
       "      <td>8450</td>\n",
       "      <td>Pave</td>\n",
       "      <td>NaN</td>\n",
       "      <td>Reg</td>\n",
       "      <td>Lvl</td>\n",
       "      <td>AllPub</td>\n",
       "      <td>...</td>\n",
       "      <td>0</td>\n",
       "      <td>No</td>\n",
       "      <td>No</td>\n",
       "      <td>No</td>\n",
       "      <td>0</td>\n",
       "      <td>Feb</td>\n",
       "      <td>2008</td>\n",
       "      <td>WD</td>\n",
       "      <td>Normal</td>\n",
       "      <td>208500</td>\n",
       "    </tr>\n",
       "    <tr>\n",
       "      <th>1</th>\n",
       "      <td>1</td>\n",
       "      <td>SC20</td>\n",
       "      <td>RL</td>\n",
       "      <td>80</td>\n",
       "      <td>9600</td>\n",
       "      <td>Pave</td>\n",
       "      <td>NaN</td>\n",
       "      <td>Reg</td>\n",
       "      <td>Lvl</td>\n",
       "      <td>AllPub</td>\n",
       "      <td>...</td>\n",
       "      <td>0</td>\n",
       "      <td>No</td>\n",
       "      <td>No</td>\n",
       "      <td>No</td>\n",
       "      <td>0</td>\n",
       "      <td>May</td>\n",
       "      <td>2007</td>\n",
       "      <td>WD</td>\n",
       "      <td>Normal</td>\n",
       "      <td>181500</td>\n",
       "    </tr>\n",
       "    <tr>\n",
       "      <th>2</th>\n",
       "      <td>2</td>\n",
       "      <td>SC60</td>\n",
       "      <td>RL</td>\n",
       "      <td>68</td>\n",
       "      <td>11250</td>\n",
       "      <td>Pave</td>\n",
       "      <td>NaN</td>\n",
       "      <td>IR1</td>\n",
       "      <td>Lvl</td>\n",
       "      <td>AllPub</td>\n",
       "      <td>...</td>\n",
       "      <td>0</td>\n",
       "      <td>No</td>\n",
       "      <td>No</td>\n",
       "      <td>No</td>\n",
       "      <td>0</td>\n",
       "      <td>Sep</td>\n",
       "      <td>2008</td>\n",
       "      <td>WD</td>\n",
       "      <td>Normal</td>\n",
       "      <td>223500</td>\n",
       "    </tr>\n",
       "    <tr>\n",
       "      <th>3</th>\n",
       "      <td>3</td>\n",
       "      <td>SC70</td>\n",
       "      <td>RL</td>\n",
       "      <td>60</td>\n",
       "      <td>9550</td>\n",
       "      <td>Pave</td>\n",
       "      <td>NaN</td>\n",
       "      <td>IR1</td>\n",
       "      <td>Lvl</td>\n",
       "      <td>AllPub</td>\n",
       "      <td>...</td>\n",
       "      <td>0</td>\n",
       "      <td>No</td>\n",
       "      <td>No</td>\n",
       "      <td>No</td>\n",
       "      <td>0</td>\n",
       "      <td>Feb</td>\n",
       "      <td>2006</td>\n",
       "      <td>WD</td>\n",
       "      <td>Abnorml</td>\n",
       "      <td>140000</td>\n",
       "    </tr>\n",
       "    <tr>\n",
       "      <th>4</th>\n",
       "      <td>4</td>\n",
       "      <td>SC60</td>\n",
       "      <td>RL</td>\n",
       "      <td>84</td>\n",
       "      <td>14260</td>\n",
       "      <td>Pave</td>\n",
       "      <td>NaN</td>\n",
       "      <td>IR1</td>\n",
       "      <td>Lvl</td>\n",
       "      <td>AllPub</td>\n",
       "      <td>...</td>\n",
       "      <td>0</td>\n",
       "      <td>No</td>\n",
       "      <td>No</td>\n",
       "      <td>No</td>\n",
       "      <td>0</td>\n",
       "      <td>Dec</td>\n",
       "      <td>2008</td>\n",
       "      <td>WD</td>\n",
       "      <td>Normal</td>\n",
       "      <td>250000</td>\n",
       "    </tr>\n",
       "  </tbody>\n",
       "</table>\n",
       "<p>5 rows × 81 columns</p>\n",
       "</div>"
      ],
      "text/plain": [
       "   Unnamed: 0 MSSubClass MSZoning  LotFrontage  LotArea Street Alley LotShape  \\\n",
       "0           0       SC60       RL           65     8450   Pave   NaN      Reg   \n",
       "1           1       SC20       RL           80     9600   Pave   NaN      Reg   \n",
       "2           2       SC60       RL           68    11250   Pave   NaN      IR1   \n",
       "3           3       SC70       RL           60     9550   Pave   NaN      IR1   \n",
       "4           4       SC60       RL           84    14260   Pave   NaN      IR1   \n",
       "\n",
       "  LandContour Utilities  ... PoolArea PoolQC Fence MiscFeature MiscVal MoSold  \\\n",
       "0         Lvl    AllPub  ...        0     No    No          No       0    Feb   \n",
       "1         Lvl    AllPub  ...        0     No    No          No       0    May   \n",
       "2         Lvl    AllPub  ...        0     No    No          No       0    Sep   \n",
       "3         Lvl    AllPub  ...        0     No    No          No       0    Feb   \n",
       "4         Lvl    AllPub  ...        0     No    No          No       0    Dec   \n",
       "\n",
       "  YrSold  SaleType  SaleCondition  SalePrice  \n",
       "0   2008        WD         Normal     208500  \n",
       "1   2007        WD         Normal     181500  \n",
       "2   2008        WD         Normal     223500  \n",
       "3   2006        WD        Abnorml     140000  \n",
       "4   2008        WD         Normal     250000  \n",
       "\n",
       "[5 rows x 81 columns]"
      ]
     },
     "execution_count": 6,
     "metadata": {},
     "output_type": "execute_result"
    }
   ],
   "source": [
    "df.head()"
   ]
  },
  {
   "cell_type": "markdown",
   "id": "893f1ad0",
   "metadata": {},
   "source": [
    "# Check tail"
   ]
  },
  {
   "cell_type": "code",
   "execution_count": 7,
   "id": "3f5f3ca3",
   "metadata": {
    "scrolled": true
   },
   "outputs": [
    {
     "data": {
      "text/html": [
       "<div>\n",
       "<style scoped>\n",
       "    .dataframe tbody tr th:only-of-type {\n",
       "        vertical-align: middle;\n",
       "    }\n",
       "\n",
       "    .dataframe tbody tr th {\n",
       "        vertical-align: top;\n",
       "    }\n",
       "\n",
       "    .dataframe thead th {\n",
       "        text-align: right;\n",
       "    }\n",
       "</style>\n",
       "<table border=\"1\" class=\"dataframe\">\n",
       "  <thead>\n",
       "    <tr style=\"text-align: right;\">\n",
       "      <th></th>\n",
       "      <th>Unnamed: 0</th>\n",
       "      <th>MSSubClass</th>\n",
       "      <th>MSZoning</th>\n",
       "      <th>LotFrontage</th>\n",
       "      <th>LotArea</th>\n",
       "      <th>Street</th>\n",
       "      <th>Alley</th>\n",
       "      <th>LotShape</th>\n",
       "      <th>LandContour</th>\n",
       "      <th>Utilities</th>\n",
       "      <th>...</th>\n",
       "      <th>PoolArea</th>\n",
       "      <th>PoolQC</th>\n",
       "      <th>Fence</th>\n",
       "      <th>MiscFeature</th>\n",
       "      <th>MiscVal</th>\n",
       "      <th>MoSold</th>\n",
       "      <th>YrSold</th>\n",
       "      <th>SaleType</th>\n",
       "      <th>SaleCondition</th>\n",
       "      <th>SalePrice</th>\n",
       "    </tr>\n",
       "  </thead>\n",
       "  <tbody>\n",
       "    <tr>\n",
       "      <th>1455</th>\n",
       "      <td>1455</td>\n",
       "      <td>SC60</td>\n",
       "      <td>RL</td>\n",
       "      <td>62</td>\n",
       "      <td>7917</td>\n",
       "      <td>Pave</td>\n",
       "      <td>NaN</td>\n",
       "      <td>Reg</td>\n",
       "      <td>Lvl</td>\n",
       "      <td>AllPub</td>\n",
       "      <td>...</td>\n",
       "      <td>0</td>\n",
       "      <td>No</td>\n",
       "      <td>No</td>\n",
       "      <td>No</td>\n",
       "      <td>0</td>\n",
       "      <td>Aug</td>\n",
       "      <td>2007</td>\n",
       "      <td>WD</td>\n",
       "      <td>Normal</td>\n",
       "      <td>175000</td>\n",
       "    </tr>\n",
       "    <tr>\n",
       "      <th>1456</th>\n",
       "      <td>1456</td>\n",
       "      <td>SC20</td>\n",
       "      <td>RL</td>\n",
       "      <td>85</td>\n",
       "      <td>13175</td>\n",
       "      <td>Pave</td>\n",
       "      <td>NaN</td>\n",
       "      <td>Reg</td>\n",
       "      <td>Lvl</td>\n",
       "      <td>AllPub</td>\n",
       "      <td>...</td>\n",
       "      <td>0</td>\n",
       "      <td>No</td>\n",
       "      <td>MnPrv</td>\n",
       "      <td>No</td>\n",
       "      <td>0</td>\n",
       "      <td>Feb</td>\n",
       "      <td>2010</td>\n",
       "      <td>WD</td>\n",
       "      <td>Normal</td>\n",
       "      <td>210000</td>\n",
       "    </tr>\n",
       "    <tr>\n",
       "      <th>1457</th>\n",
       "      <td>1457</td>\n",
       "      <td>SC70</td>\n",
       "      <td>RL</td>\n",
       "      <td>66</td>\n",
       "      <td>9042</td>\n",
       "      <td>Pave</td>\n",
       "      <td>NaN</td>\n",
       "      <td>Reg</td>\n",
       "      <td>Lvl</td>\n",
       "      <td>AllPub</td>\n",
       "      <td>...</td>\n",
       "      <td>0</td>\n",
       "      <td>No</td>\n",
       "      <td>GdPrv</td>\n",
       "      <td>Shed</td>\n",
       "      <td>2500</td>\n",
       "      <td>May</td>\n",
       "      <td>2010</td>\n",
       "      <td>WD</td>\n",
       "      <td>Normal</td>\n",
       "      <td>266500</td>\n",
       "    </tr>\n",
       "    <tr>\n",
       "      <th>1458</th>\n",
       "      <td>1458</td>\n",
       "      <td>SC20</td>\n",
       "      <td>RL</td>\n",
       "      <td>68</td>\n",
       "      <td>9717</td>\n",
       "      <td>Pave</td>\n",
       "      <td>NaN</td>\n",
       "      <td>Reg</td>\n",
       "      <td>Lvl</td>\n",
       "      <td>AllPub</td>\n",
       "      <td>...</td>\n",
       "      <td>0</td>\n",
       "      <td>No</td>\n",
       "      <td>No</td>\n",
       "      <td>No</td>\n",
       "      <td>0</td>\n",
       "      <td>Apr</td>\n",
       "      <td>2010</td>\n",
       "      <td>WD</td>\n",
       "      <td>Normal</td>\n",
       "      <td>142125</td>\n",
       "    </tr>\n",
       "    <tr>\n",
       "      <th>1459</th>\n",
       "      <td>1459</td>\n",
       "      <td>SC20</td>\n",
       "      <td>RL</td>\n",
       "      <td>75</td>\n",
       "      <td>9937</td>\n",
       "      <td>Pave</td>\n",
       "      <td>NaN</td>\n",
       "      <td>Reg</td>\n",
       "      <td>Lvl</td>\n",
       "      <td>AllPub</td>\n",
       "      <td>...</td>\n",
       "      <td>0</td>\n",
       "      <td>No</td>\n",
       "      <td>No</td>\n",
       "      <td>No</td>\n",
       "      <td>0</td>\n",
       "      <td>Jun</td>\n",
       "      <td>2008</td>\n",
       "      <td>WD</td>\n",
       "      <td>Normal</td>\n",
       "      <td>147500</td>\n",
       "    </tr>\n",
       "  </tbody>\n",
       "</table>\n",
       "<p>5 rows × 81 columns</p>\n",
       "</div>"
      ],
      "text/plain": [
       "      Unnamed: 0 MSSubClass MSZoning  LotFrontage  LotArea Street Alley  \\\n",
       "1455        1455       SC60       RL           62     7917   Pave   NaN   \n",
       "1456        1456       SC20       RL           85    13175   Pave   NaN   \n",
       "1457        1457       SC70       RL           66     9042   Pave   NaN   \n",
       "1458        1458       SC20       RL           68     9717   Pave   NaN   \n",
       "1459        1459       SC20       RL           75     9937   Pave   NaN   \n",
       "\n",
       "     LotShape LandContour Utilities  ... PoolArea PoolQC  Fence MiscFeature  \\\n",
       "1455      Reg         Lvl    AllPub  ...        0     No     No          No   \n",
       "1456      Reg         Lvl    AllPub  ...        0     No  MnPrv          No   \n",
       "1457      Reg         Lvl    AllPub  ...        0     No  GdPrv        Shed   \n",
       "1458      Reg         Lvl    AllPub  ...        0     No     No          No   \n",
       "1459      Reg         Lvl    AllPub  ...        0     No     No          No   \n",
       "\n",
       "     MiscVal MoSold YrSold  SaleType  SaleCondition  SalePrice  \n",
       "1455       0    Aug   2007        WD         Normal     175000  \n",
       "1456       0    Feb   2010        WD         Normal     210000  \n",
       "1457    2500    May   2010        WD         Normal     266500  \n",
       "1458       0    Apr   2010        WD         Normal     142125  \n",
       "1459       0    Jun   2008        WD         Normal     147500  \n",
       "\n",
       "[5 rows x 81 columns]"
      ]
     },
     "execution_count": 7,
     "metadata": {},
     "output_type": "execute_result"
    }
   ],
   "source": [
    "df.tail()"
   ]
  },
  {
   "cell_type": "markdown",
   "id": "74d7ac3d",
   "metadata": {},
   "source": [
    "# Check shape"
   ]
  },
  {
   "cell_type": "code",
   "execution_count": 8,
   "id": "e0ad5b41",
   "metadata": {
    "scrolled": true
   },
   "outputs": [
    {
     "data": {
      "text/plain": [
       "(1460, 81)"
      ]
     },
     "execution_count": 8,
     "metadata": {},
     "output_type": "execute_result"
    }
   ],
   "source": [
    "df.shape"
   ]
  },
  {
   "cell_type": "markdown",
   "id": "ccc91a25",
   "metadata": {},
   "source": [
    "# Summary of data"
   ]
  },
  {
   "cell_type": "code",
   "execution_count": 9,
   "id": "ff0af4b0",
   "metadata": {},
   "outputs": [
    {
     "data": {
      "text/html": [
       "<div>\n",
       "<style scoped>\n",
       "    .dataframe tbody tr th:only-of-type {\n",
       "        vertical-align: middle;\n",
       "    }\n",
       "\n",
       "    .dataframe tbody tr th {\n",
       "        vertical-align: top;\n",
       "    }\n",
       "\n",
       "    .dataframe thead th {\n",
       "        text-align: right;\n",
       "    }\n",
       "</style>\n",
       "<table border=\"1\" class=\"dataframe\">\n",
       "  <thead>\n",
       "    <tr style=\"text-align: right;\">\n",
       "      <th></th>\n",
       "      <th>Unnamed: 0</th>\n",
       "      <th>LotFrontage</th>\n",
       "      <th>LotArea</th>\n",
       "      <th>OverallQual</th>\n",
       "      <th>OverallCond</th>\n",
       "      <th>YearBuilt</th>\n",
       "      <th>YearRemodAdd</th>\n",
       "      <th>MasVnrArea</th>\n",
       "      <th>BsmtFinSF1</th>\n",
       "      <th>BsmtFinSF2</th>\n",
       "      <th>...</th>\n",
       "      <th>GarageArea</th>\n",
       "      <th>WoodDeckSF</th>\n",
       "      <th>OpenPorchSF</th>\n",
       "      <th>EnclosedPorch</th>\n",
       "      <th>3SsnPorch</th>\n",
       "      <th>ScreenPorch</th>\n",
       "      <th>PoolArea</th>\n",
       "      <th>MiscVal</th>\n",
       "      <th>YrSold</th>\n",
       "      <th>SalePrice</th>\n",
       "    </tr>\n",
       "  </thead>\n",
       "  <tbody>\n",
       "    <tr>\n",
       "      <th>count</th>\n",
       "      <td>1460.000000</td>\n",
       "      <td>1460.000000</td>\n",
       "      <td>1460.000000</td>\n",
       "      <td>1460.000000</td>\n",
       "      <td>1460.000000</td>\n",
       "      <td>1460.000000</td>\n",
       "      <td>1460.000000</td>\n",
       "      <td>1460.000000</td>\n",
       "      <td>1460.000000</td>\n",
       "      <td>1460.000000</td>\n",
       "      <td>...</td>\n",
       "      <td>1460.000000</td>\n",
       "      <td>1460.000000</td>\n",
       "      <td>1460.000000</td>\n",
       "      <td>1460.000000</td>\n",
       "      <td>1460.000000</td>\n",
       "      <td>1460.000000</td>\n",
       "      <td>1460.000000</td>\n",
       "      <td>1460.000000</td>\n",
       "      <td>1460.000000</td>\n",
       "      <td>1460.000000</td>\n",
       "    </tr>\n",
       "    <tr>\n",
       "      <th>mean</th>\n",
       "      <td>729.500000</td>\n",
       "      <td>57.623288</td>\n",
       "      <td>10516.828082</td>\n",
       "      <td>6.099315</td>\n",
       "      <td>5.575342</td>\n",
       "      <td>1971.267808</td>\n",
       "      <td>1984.865753</td>\n",
       "      <td>103.117123</td>\n",
       "      <td>443.639726</td>\n",
       "      <td>46.549315</td>\n",
       "      <td>...</td>\n",
       "      <td>472.980137</td>\n",
       "      <td>94.244521</td>\n",
       "      <td>46.660274</td>\n",
       "      <td>21.954110</td>\n",
       "      <td>3.409589</td>\n",
       "      <td>15.060959</td>\n",
       "      <td>2.758904</td>\n",
       "      <td>43.489041</td>\n",
       "      <td>2007.815753</td>\n",
       "      <td>180921.195890</td>\n",
       "    </tr>\n",
       "    <tr>\n",
       "      <th>std</th>\n",
       "      <td>421.610009</td>\n",
       "      <td>34.664304</td>\n",
       "      <td>9981.264932</td>\n",
       "      <td>1.382997</td>\n",
       "      <td>1.112799</td>\n",
       "      <td>30.202904</td>\n",
       "      <td>20.645407</td>\n",
       "      <td>180.731373</td>\n",
       "      <td>456.098091</td>\n",
       "      <td>161.319273</td>\n",
       "      <td>...</td>\n",
       "      <td>213.804841</td>\n",
       "      <td>125.338794</td>\n",
       "      <td>66.256028</td>\n",
       "      <td>61.119149</td>\n",
       "      <td>29.317331</td>\n",
       "      <td>55.757415</td>\n",
       "      <td>40.177307</td>\n",
       "      <td>496.123024</td>\n",
       "      <td>1.328095</td>\n",
       "      <td>79442.502883</td>\n",
       "    </tr>\n",
       "    <tr>\n",
       "      <th>min</th>\n",
       "      <td>0.000000</td>\n",
       "      <td>0.000000</td>\n",
       "      <td>1300.000000</td>\n",
       "      <td>1.000000</td>\n",
       "      <td>1.000000</td>\n",
       "      <td>1872.000000</td>\n",
       "      <td>1950.000000</td>\n",
       "      <td>0.000000</td>\n",
       "      <td>0.000000</td>\n",
       "      <td>0.000000</td>\n",
       "      <td>...</td>\n",
       "      <td>0.000000</td>\n",
       "      <td>0.000000</td>\n",
       "      <td>0.000000</td>\n",
       "      <td>0.000000</td>\n",
       "      <td>0.000000</td>\n",
       "      <td>0.000000</td>\n",
       "      <td>0.000000</td>\n",
       "      <td>0.000000</td>\n",
       "      <td>2006.000000</td>\n",
       "      <td>34900.000000</td>\n",
       "    </tr>\n",
       "    <tr>\n",
       "      <th>25%</th>\n",
       "      <td>364.750000</td>\n",
       "      <td>42.000000</td>\n",
       "      <td>7553.500000</td>\n",
       "      <td>5.000000</td>\n",
       "      <td>5.000000</td>\n",
       "      <td>1954.000000</td>\n",
       "      <td>1967.000000</td>\n",
       "      <td>0.000000</td>\n",
       "      <td>0.000000</td>\n",
       "      <td>0.000000</td>\n",
       "      <td>...</td>\n",
       "      <td>334.500000</td>\n",
       "      <td>0.000000</td>\n",
       "      <td>0.000000</td>\n",
       "      <td>0.000000</td>\n",
       "      <td>0.000000</td>\n",
       "      <td>0.000000</td>\n",
       "      <td>0.000000</td>\n",
       "      <td>0.000000</td>\n",
       "      <td>2007.000000</td>\n",
       "      <td>129975.000000</td>\n",
       "    </tr>\n",
       "    <tr>\n",
       "      <th>50%</th>\n",
       "      <td>729.500000</td>\n",
       "      <td>63.000000</td>\n",
       "      <td>9478.500000</td>\n",
       "      <td>6.000000</td>\n",
       "      <td>5.000000</td>\n",
       "      <td>1973.000000</td>\n",
       "      <td>1994.000000</td>\n",
       "      <td>0.000000</td>\n",
       "      <td>383.500000</td>\n",
       "      <td>0.000000</td>\n",
       "      <td>...</td>\n",
       "      <td>480.000000</td>\n",
       "      <td>0.000000</td>\n",
       "      <td>25.000000</td>\n",
       "      <td>0.000000</td>\n",
       "      <td>0.000000</td>\n",
       "      <td>0.000000</td>\n",
       "      <td>0.000000</td>\n",
       "      <td>0.000000</td>\n",
       "      <td>2008.000000</td>\n",
       "      <td>163000.000000</td>\n",
       "    </tr>\n",
       "    <tr>\n",
       "      <th>75%</th>\n",
       "      <td>1094.250000</td>\n",
       "      <td>79.000000</td>\n",
       "      <td>11601.500000</td>\n",
       "      <td>7.000000</td>\n",
       "      <td>6.000000</td>\n",
       "      <td>2000.000000</td>\n",
       "      <td>2004.000000</td>\n",
       "      <td>164.250000</td>\n",
       "      <td>712.250000</td>\n",
       "      <td>0.000000</td>\n",
       "      <td>...</td>\n",
       "      <td>576.000000</td>\n",
       "      <td>168.000000</td>\n",
       "      <td>68.000000</td>\n",
       "      <td>0.000000</td>\n",
       "      <td>0.000000</td>\n",
       "      <td>0.000000</td>\n",
       "      <td>0.000000</td>\n",
       "      <td>0.000000</td>\n",
       "      <td>2009.000000</td>\n",
       "      <td>214000.000000</td>\n",
       "    </tr>\n",
       "    <tr>\n",
       "      <th>max</th>\n",
       "      <td>1459.000000</td>\n",
       "      <td>313.000000</td>\n",
       "      <td>215245.000000</td>\n",
       "      <td>10.000000</td>\n",
       "      <td>9.000000</td>\n",
       "      <td>2010.000000</td>\n",
       "      <td>2010.000000</td>\n",
       "      <td>1600.000000</td>\n",
       "      <td>5644.000000</td>\n",
       "      <td>1474.000000</td>\n",
       "      <td>...</td>\n",
       "      <td>1418.000000</td>\n",
       "      <td>857.000000</td>\n",
       "      <td>547.000000</td>\n",
       "      <td>552.000000</td>\n",
       "      <td>508.000000</td>\n",
       "      <td>480.000000</td>\n",
       "      <td>738.000000</td>\n",
       "      <td>15500.000000</td>\n",
       "      <td>2010.000000</td>\n",
       "      <td>755000.000000</td>\n",
       "    </tr>\n",
       "  </tbody>\n",
       "</table>\n",
       "<p>8 rows × 36 columns</p>\n",
       "</div>"
      ],
      "text/plain": [
       "        Unnamed: 0  LotFrontage        LotArea  OverallQual  OverallCond  \\\n",
       "count  1460.000000  1460.000000    1460.000000  1460.000000  1460.000000   \n",
       "mean    729.500000    57.623288   10516.828082     6.099315     5.575342   \n",
       "std     421.610009    34.664304    9981.264932     1.382997     1.112799   \n",
       "min       0.000000     0.000000    1300.000000     1.000000     1.000000   \n",
       "25%     364.750000    42.000000    7553.500000     5.000000     5.000000   \n",
       "50%     729.500000    63.000000    9478.500000     6.000000     5.000000   \n",
       "75%    1094.250000    79.000000   11601.500000     7.000000     6.000000   \n",
       "max    1459.000000   313.000000  215245.000000    10.000000     9.000000   \n",
       "\n",
       "         YearBuilt  YearRemodAdd   MasVnrArea   BsmtFinSF1   BsmtFinSF2  ...  \\\n",
       "count  1460.000000   1460.000000  1460.000000  1460.000000  1460.000000  ...   \n",
       "mean   1971.267808   1984.865753   103.117123   443.639726    46.549315  ...   \n",
       "std      30.202904     20.645407   180.731373   456.098091   161.319273  ...   \n",
       "min    1872.000000   1950.000000     0.000000     0.000000     0.000000  ...   \n",
       "25%    1954.000000   1967.000000     0.000000     0.000000     0.000000  ...   \n",
       "50%    1973.000000   1994.000000     0.000000   383.500000     0.000000  ...   \n",
       "75%    2000.000000   2004.000000   164.250000   712.250000     0.000000  ...   \n",
       "max    2010.000000   2010.000000  1600.000000  5644.000000  1474.000000  ...   \n",
       "\n",
       "        GarageArea   WoodDeckSF  OpenPorchSF  EnclosedPorch    3SsnPorch  \\\n",
       "count  1460.000000  1460.000000  1460.000000    1460.000000  1460.000000   \n",
       "mean    472.980137    94.244521    46.660274      21.954110     3.409589   \n",
       "std     213.804841   125.338794    66.256028      61.119149    29.317331   \n",
       "min       0.000000     0.000000     0.000000       0.000000     0.000000   \n",
       "25%     334.500000     0.000000     0.000000       0.000000     0.000000   \n",
       "50%     480.000000     0.000000    25.000000       0.000000     0.000000   \n",
       "75%     576.000000   168.000000    68.000000       0.000000     0.000000   \n",
       "max    1418.000000   857.000000   547.000000     552.000000   508.000000   \n",
       "\n",
       "       ScreenPorch     PoolArea       MiscVal       YrSold      SalePrice  \n",
       "count  1460.000000  1460.000000   1460.000000  1460.000000    1460.000000  \n",
       "mean     15.060959     2.758904     43.489041  2007.815753  180921.195890  \n",
       "std      55.757415    40.177307    496.123024     1.328095   79442.502883  \n",
       "min       0.000000     0.000000      0.000000  2006.000000   34900.000000  \n",
       "25%       0.000000     0.000000      0.000000  2007.000000  129975.000000  \n",
       "50%       0.000000     0.000000      0.000000  2008.000000  163000.000000  \n",
       "75%       0.000000     0.000000      0.000000  2009.000000  214000.000000  \n",
       "max     480.000000   738.000000  15500.000000  2010.000000  755000.000000  \n",
       "\n",
       "[8 rows x 36 columns]"
      ]
     },
     "execution_count": 9,
     "metadata": {},
     "output_type": "execute_result"
    }
   ],
   "source": [
    "df.describe()"
   ]
  },
  {
   "cell_type": "code",
   "execution_count": 10,
   "id": "7aa43f0e",
   "metadata": {
    "scrolled": true
   },
   "outputs": [
    {
     "data": {
      "text/plain": [
       "Index(['Unnamed: 0', 'MSSubClass', 'MSZoning', 'LotFrontage', 'LotArea',\n",
       "       'Street', 'Alley', 'LotShape', 'LandContour', 'Utilities', 'LotConfig',\n",
       "       'LandSlope', 'Neighborhood', 'Condition1', 'Condition2', 'BldgType',\n",
       "       'HouseStyle', 'OverallQual', 'OverallCond', 'YearBuilt', 'YearRemodAdd',\n",
       "       'RoofStyle', 'RoofMatl', 'Exterior1st', 'Exterior2nd', 'MasVnrType',\n",
       "       'MasVnrArea', 'ExterQual', 'ExterCond', 'Foundation', 'BsmtQual',\n",
       "       'BsmtCond', 'BsmtExposure', 'BsmtFinType1', 'BsmtFinSF1',\n",
       "       'BsmtFinType2', 'BsmtFinSF2', 'BsmtUnfSF', 'TotalBsmtSF', 'Heating',\n",
       "       'HeatingQC', 'CentralAir', 'Electrical', '1stFlrSF', '2ndFlrSF',\n",
       "       'LowQualFinSF', 'GrLivArea', 'BsmtFullBath', 'BsmtHalfBath', 'FullBath',\n",
       "       'HalfBath', 'BedroomAbvGr', 'KitchenAbvGr', 'KitchenQual',\n",
       "       'TotRmsAbvGrd', 'Functional', 'Fireplaces', 'FireplaceQu', 'GarageType',\n",
       "       'GarageYrBlt', 'GarageFinish', 'GarageCars', 'GarageArea', 'GarageQual',\n",
       "       'GarageCond', 'PavedDrive', 'WoodDeckSF', 'OpenPorchSF',\n",
       "       'EnclosedPorch', '3SsnPorch', 'ScreenPorch', 'PoolArea', 'PoolQC',\n",
       "       'Fence', 'MiscFeature', 'MiscVal', 'MoSold', 'YrSold', 'SaleType',\n",
       "       'SaleCondition', 'SalePrice'],\n",
       "      dtype='object')"
      ]
     },
     "execution_count": 10,
     "metadata": {},
     "output_type": "execute_result"
    }
   ],
   "source": [
    "df.columns"
   ]
  },
  {
   "cell_type": "markdown",
   "id": "5378ec9b",
   "metadata": {},
   "source": [
    "# Dimentions of data"
   ]
  },
  {
   "cell_type": "code",
   "execution_count": 11,
   "id": "5f478078",
   "metadata": {},
   "outputs": [
    {
     "data": {
      "text/plain": [
       "2"
      ]
     },
     "execution_count": 11,
     "metadata": {},
     "output_type": "execute_result"
    }
   ],
   "source": [
    "df.ndim"
   ]
  },
  {
   "cell_type": "code",
   "execution_count": 12,
   "id": "eb5a96f9",
   "metadata": {
    "scrolled": true
   },
   "outputs": [
    {
     "data": {
      "text/plain": [
       "Unnamed: 0        int64\n",
       "MSSubClass       object\n",
       "MSZoning         object\n",
       "LotFrontage       int64\n",
       "LotArea           int64\n",
       "                  ...  \n",
       "MoSold           object\n",
       "YrSold            int64\n",
       "SaleType         object\n",
       "SaleCondition    object\n",
       "SalePrice         int64\n",
       "Length: 81, dtype: object"
      ]
     },
     "execution_count": 12,
     "metadata": {},
     "output_type": "execute_result"
    }
   ],
   "source": [
    "df.dtypes"
   ]
  },
  {
   "cell_type": "code",
   "execution_count": 13,
   "id": "7542188c",
   "metadata": {},
   "outputs": [
    {
     "data": {
      "text/plain": [
       "Unnamed: 0       0.0\n",
       "MSSubClass       0.0\n",
       "MSZoning         0.0\n",
       "LotFrontage      0.0\n",
       "LotArea          0.0\n",
       "                ... \n",
       "MoSold           0.0\n",
       "YrSold           0.0\n",
       "SaleType         0.0\n",
       "SaleCondition    0.0\n",
       "SalePrice        0.0\n",
       "Length: 81, dtype: float64"
      ]
     },
     "execution_count": 13,
     "metadata": {},
     "output_type": "execute_result"
    }
   ],
   "source": [
    "df.isnull().mean()*100"
   ]
  },
  {
   "cell_type": "markdown",
   "id": "9777ba18",
   "metadata": {},
   "source": [
    "# Replaced SC20=1-STORY 1946 & NEWER ALL STYLES"
   ]
  },
  {
   "cell_type": "code",
   "execution_count": 14,
   "id": "cc5ee0c1",
   "metadata": {},
   "outputs": [],
   "source": [
    "df['MSSubClass']=df['MSSubClass'].replace({'SC20':'1-STORY 1946 & NEWER ALL STYLES'})"
   ]
  },
  {
   "cell_type": "markdown",
   "id": "f247f19e",
   "metadata": {},
   "source": [
    "# Replaced SC30=1-STORY 1945 & OLDER\n"
   ]
  },
  {
   "cell_type": "code",
   "execution_count": 15,
   "id": "c2c1b35f",
   "metadata": {},
   "outputs": [],
   "source": [
    "df['MSSubClass']= df['MSSubClass'].replace({'SC30':'1-STORY 1945 & OLDER'})"
   ]
  },
  {
   "cell_type": "markdown",
   "id": "de530e8c",
   "metadata": {},
   "source": [
    "# Replaced SC40=1-STORY W/FINISHED ATTIC ALL AGES"
   ]
  },
  {
   "cell_type": "code",
   "execution_count": 16,
   "id": "17bd6ba9",
   "metadata": {},
   "outputs": [],
   "source": [
    "df['MSSubClass']= df['MSSubClass'].replace({'SC40':'1-STORY W/FINISHED ATTIC ALL AGES'})"
   ]
  },
  {
   "cell_type": "markdown",
   "id": "a2ea0b3a",
   "metadata": {},
   "source": [
    "# Replaced SC45=1-1/2 STORY - UNFINISHED ALL AGES"
   ]
  },
  {
   "cell_type": "code",
   "execution_count": 17,
   "id": "84376b90",
   "metadata": {},
   "outputs": [],
   "source": [
    "df['MSSubClass']= df['MSSubClass'].replace({'SC45':'1/2 STORY - UNFINISHED ALL AGES'})"
   ]
  },
  {
   "cell_type": "markdown",
   "id": "b6055781",
   "metadata": {},
   "source": [
    "# Rplaced SC50=1-1/2 STORY FINISHED ALL AGES"
   ]
  },
  {
   "cell_type": "code",
   "execution_count": 18,
   "id": "65fa60a2",
   "metadata": {},
   "outputs": [],
   "source": [
    "df['MSSubClass']=df['MSSubClass'].replace({'SC50':'1-1/2 STORY FINISHED ALL AGES'})"
   ]
  },
  {
   "cell_type": "markdown",
   "id": "f0f77a83",
   "metadata": {},
   "source": [
    "# Replaced SC60=2-STORY 1946 & NEWER"
   ]
  },
  {
   "cell_type": "code",
   "execution_count": 19,
   "id": "ad9e1ac8",
   "metadata": {
    "scrolled": true
   },
   "outputs": [],
   "source": [
    "df['MSSubClass']=df['MSSubClass'].replace({'SC60':'2-STORY 1946 & NEWER'})"
   ]
  },
  {
   "cell_type": "markdown",
   "id": "ce7f3754",
   "metadata": {},
   "source": [
    "# Replaced SC70=2-STORY 1945 & OLDER"
   ]
  },
  {
   "cell_type": "code",
   "execution_count": 20,
   "id": "7d1169d2",
   "metadata": {},
   "outputs": [],
   "source": [
    "df['MSSubClass']= df['MSSubClass'].replace({'SC70':'2-STORY 1945 & OLDER'})"
   ]
  },
  {
   "cell_type": "markdown",
   "id": "4d62608a",
   "metadata": {},
   "source": [
    "# Replace SC75=2-1/2 STORY ALL AGES"
   ]
  },
  {
   "cell_type": "code",
   "execution_count": 21,
   "id": "2ec62fa1",
   "metadata": {},
   "outputs": [],
   "source": [
    "df['MSSubClass']= df ['MSSubClass'].replace({'SC75':'2-1/2 STORY ALL AGES'})"
   ]
  },
  {
   "cell_type": "markdown",
   "id": "d6e8d7dc",
   "metadata": {},
   "source": [
    "# Replace SC80=SPLIT OR MULTI-LEVEL"
   ]
  },
  {
   "cell_type": "code",
   "execution_count": 22,
   "id": "38f5f92e",
   "metadata": {},
   "outputs": [],
   "source": [
    "df['MSSubClass']=df['MSSubClass'].replace({'SC80':'SPLIT OR MULTI-LEVEL'})"
   ]
  },
  {
   "cell_type": "markdown",
   "id": "b6471c75",
   "metadata": {},
   "source": [
    "# Replace SC85=SPLIT FOYER"
   ]
  },
  {
   "cell_type": "code",
   "execution_count": 23,
   "id": "94d0faa6",
   "metadata": {},
   "outputs": [],
   "source": [
    "df['MSSubClass']= df['MSSubClass'].replace({'SC85':'SPLIT FOYER'})"
   ]
  },
  {
   "cell_type": "markdown",
   "id": "0d39b5c6",
   "metadata": {},
   "source": [
    "# Replace SC90=DUPLEX - ALL STYLES AND AGES"
   ]
  },
  {
   "cell_type": "code",
   "execution_count": 24,
   "id": "1f84d868",
   "metadata": {},
   "outputs": [],
   "source": [
    "df['MSSubClass']=df['MSSubClass'].replace({'SC90':'DUPLEX - ALL STYLES AND AGES'})"
   ]
  },
  {
   "cell_type": "markdown",
   "id": "24a940d2",
   "metadata": {},
   "source": [
    "# Replace SC120=1-STORY PUD (Planned Unit Development) - 1946 & NEWER"
   ]
  },
  {
   "cell_type": "code",
   "execution_count": 25,
   "id": "f2867da2",
   "metadata": {},
   "outputs": [],
   "source": [
    "df['MSSubClass']=df['MSSubClass'].replace({'SC120':'STORY PUD (Planned Unit Development) - 1946 & NEWER'})"
   ]
  },
  {
   "cell_type": "markdown",
   "id": "af996cd8",
   "metadata": {},
   "source": [
    "# Replace SC150=1-1/2 STORY PUD - ALL AGES"
   ]
  },
  {
   "cell_type": "code",
   "execution_count": 26,
   "id": "193ce872",
   "metadata": {},
   "outputs": [],
   "source": [
    "df['MSSubClass']=df['MSSubClass'].replace({'SC150':'1-1/2 STORY PUD - ALL AGES'})"
   ]
  },
  {
   "cell_type": "markdown",
   "id": "1833f900",
   "metadata": {},
   "source": [
    "# Replace SC160=2-STORY PUD - 1946 & NEWER"
   ]
  },
  {
   "cell_type": "code",
   "execution_count": 27,
   "id": "137c985e",
   "metadata": {},
   "outputs": [],
   "source": [
    "df['MSSubClass']=df['MSSubClass'].replace({'SC160':'2-STORY PUD - 1946 & NEWER'})"
   ]
  },
  {
   "cell_type": "markdown",
   "id": "0d3bdd4e",
   "metadata": {},
   "source": [
    "# Replace SC180=PUD - MULTILEVEL - INCL SPLIT LEV/FOYER"
   ]
  },
  {
   "cell_type": "code",
   "execution_count": 28,
   "id": "60d3d019",
   "metadata": {},
   "outputs": [],
   "source": [
    "df['MSSubClass']=df['MSSubClass'].replace({'SC180':'PUD - MULTILEVEL - INCL SPLIT LEV/FOYER'})"
   ]
  },
  {
   "cell_type": "markdown",
   "id": "ef220b51",
   "metadata": {},
   "source": [
    "# Replace SC190=2 FAMILY CONVERSION - ALL STYLES AND AGES"
   ]
  },
  {
   "cell_type": "code",
   "execution_count": 29,
   "id": "ef11d0b7",
   "metadata": {},
   "outputs": [],
   "source": [
    "df['MSSubClass']=df['MSSubClass'].replace({'SC190':'2 FAMILY CONVERSION - ALL STYLES AND AGES'})"
   ]
  },
  {
   "cell_type": "markdown",
   "id": "5f28db91",
   "metadata": {},
   "source": [
    "# Rename MSSubClass: Identifies the type of dwelling involved in the sale."
   ]
  },
  {
   "cell_type": "code",
   "execution_count": 30,
   "id": "899507e8",
   "metadata": {},
   "outputs": [],
   "source": [
    "df.rename(columns={'MSSubClass':'Identifies the type of dwelling involved in the sale.'},inplace=True)"
   ]
  },
  {
   "cell_type": "markdown",
   "id": "51616fed",
   "metadata": {},
   "source": [
    "# Replace and Rename MSZoning: Identifies the general zoning classification of the sale.\n",
    "# A=Agriculture"
   ]
  },
  {
   "cell_type": "code",
   "execution_count": 31,
   "id": "022ec991",
   "metadata": {},
   "outputs": [],
   "source": [
    "df['MSZoning']=df['MSZoning'].replace({'a':'Agriculture'})"
   ]
  },
  {
   "cell_type": "markdown",
   "id": "29a29b6f",
   "metadata": {},
   "source": [
    "# Replace to C=Commercial"
   ]
  },
  {
   "cell_type": "code",
   "execution_count": 32,
   "id": "cd9e9dc8",
   "metadata": {},
   "outputs": [],
   "source": [
    "df['MSZoning']=df['MSZoning'].replace({'c':'Commercial'})"
   ]
  },
  {
   "cell_type": "markdown",
   "id": "6b2f1014",
   "metadata": {},
   "source": [
    "# Replace to FV=Floating Village Residential"
   ]
  },
  {
   "cell_type": "code",
   "execution_count": 33,
   "id": "124de81b",
   "metadata": {},
   "outputs": [],
   "source": [
    "df['MSZoning']=df['MSZoning'].replace({'FV':'Floating Village Residential'})"
   ]
  },
  {
   "cell_type": "markdown",
   "id": "0f958499",
   "metadata": {},
   "source": [
    "# Replace to I=Industrial"
   ]
  },
  {
   "cell_type": "code",
   "execution_count": 34,
   "id": "9c535559",
   "metadata": {},
   "outputs": [],
   "source": [
    "df['MSZoning']=df['MSZoning'].replace({'I':'Industrial'})"
   ]
  },
  {
   "cell_type": "markdown",
   "id": "4e6237e2",
   "metadata": {},
   "source": [
    "# Replace to RH=Residential High-Density"
   ]
  },
  {
   "cell_type": "code",
   "execution_count": 35,
   "id": "00e0a885",
   "metadata": {},
   "outputs": [],
   "source": [
    "df['MSZoning']=df['MSZoning'].replace({'RH':'Residential High-Density'})"
   ]
  },
  {
   "cell_type": "markdown",
   "id": "ab4c6e29",
   "metadata": {},
   "source": [
    "# Replace to RL=Residential Low-Density"
   ]
  },
  {
   "cell_type": "code",
   "execution_count": 36,
   "id": "57874897",
   "metadata": {},
   "outputs": [],
   "source": [
    "df['MSZoning']=df['MSZoning'].replace({'RL':'Residential Low-Density'})"
   ]
  },
  {
   "cell_type": "markdown",
   "id": "16339c3d",
   "metadata": {},
   "source": [
    "# Replace to RP=Residential Low-Density Park"
   ]
  },
  {
   "cell_type": "code",
   "execution_count": 37,
   "id": "826475e6",
   "metadata": {},
   "outputs": [],
   "source": [
    "df['MSZoning']=df['MSZoning'].replace({'RP':'Residential Low-Density Park'})"
   ]
  },
  {
   "cell_type": "code",
   "execution_count": 38,
   "id": "dd774ec6",
   "metadata": {},
   "outputs": [],
   "source": [
    "df.rename(columns={'MSZoning':'Identifies the general zoning classification of the sale.'},inplace=True)"
   ]
  },
  {
   "cell_type": "markdown",
   "id": "0f9afc8e",
   "metadata": {},
   "source": [
    "# Rename the column LotFrontage: Linear feet of street connected to the property"
   ]
  },
  {
   "cell_type": "code",
   "execution_count": 39,
   "id": "b74e223b",
   "metadata": {},
   "outputs": [],
   "source": [
    "df.rename(columns={'LotFrontage':'Linear feet of street connected to the property'},inplace=True)"
   ]
  },
  {
   "cell_type": "markdown",
   "id": "d9740a7c",
   "metadata": {},
   "source": [
    "# Rename the column LotArea: plot size in square feet"
   ]
  },
  {
   "cell_type": "code",
   "execution_count": 40,
   "id": "8753a2f1",
   "metadata": {},
   "outputs": [],
   "source": [
    "df.rename(columns={'LotArea': 'plot size in square feet'},inplace=True)"
   ]
  },
  {
   "cell_type": "code",
   "execution_count": 41,
   "id": "8f883383",
   "metadata": {},
   "outputs": [],
   "source": [
    "df['plot size in square feet']=df['plot size in square feet'].apply(lambda x:f'{x}sqare feet') "
   ]
  },
  {
   "cell_type": "markdown",
   "id": "c5a6cf13",
   "metadata": {},
   "source": [
    "# Rename the column Street= Type of road access to property"
   ]
  },
  {
   "cell_type": "code",
   "execution_count": 42,
   "id": "d9f7e624",
   "metadata": {},
   "outputs": [],
   "source": [
    "df.rename(columns={'Street': 'Type of road access to property'},inplace=True)"
   ]
  },
  {
   "cell_type": "markdown",
   "id": "30124ab3",
   "metadata": {},
   "source": [
    "# Replace to Grvl=Gravel,Pave=Paved"
   ]
  },
  {
   "cell_type": "code",
   "execution_count": 43,
   "id": "81e93432",
   "metadata": {},
   "outputs": [],
   "source": [
    "df['Type of road access to property']=df['Type of road access to property'].replace({'Grvl':'Gravel','Pave':'Paved'})"
   ]
  },
  {
   "cell_type": "markdown",
   "id": "9f679cbf",
   "metadata": {},
   "source": [
    "# Rename the column Alley: Type of alley access to property"
   ]
  },
  {
   "cell_type": "code",
   "execution_count": 44,
   "id": "b4c3c72c",
   "metadata": {},
   "outputs": [],
   "source": [
    "df.rename(columns={'Alley':'Type of alley access to property'},inplace=True)"
   ]
  },
  {
   "cell_type": "markdown",
   "id": "ac90f70a",
   "metadata": {},
   "source": [
    "# Replace to Grvl=Gravel,Pave=Paved,NA=No alley access"
   ]
  },
  {
   "cell_type": "code",
   "execution_count": 45,
   "id": "755261d4",
   "metadata": {},
   "outputs": [],
   "source": [
    "df['Type of alley access to property']=df['Type of alley access to property'].replace({'Grvl':'Gravel','Pave':'Paved','NA':'No alley access'})"
   ]
  },
  {
   "cell_type": "markdown",
   "id": "59926e92",
   "metadata": {},
   "source": [
    "# Replace and Rename LotShape: General shape of property\n",
    "# Reg=Regular       \n",
    "#IR1=Slightly irregular\n",
    "#IR2=Moderately Irregular\n",
    "#IR3=Irregular\n"
   ]
  },
  {
   "cell_type": "code",
   "execution_count": 46,
   "id": "2406e813",
   "metadata": {},
   "outputs": [],
   "source": [
    "df.rename(columns={'LotShape':'General shape of property'},inplace=True)"
   ]
  },
  {
   "cell_type": "code",
   "execution_count": 47,
   "id": "32282988",
   "metadata": {},
   "outputs": [],
   "source": [
    "df['General shape of property']=df['General shape of property'].replace({'Reg':'Regular','IR1':'Slightly irregular','IR2':'Moderately Irregular','IR3':'Irregular'})"
   ]
  },
  {
   "cell_type": "markdown",
   "id": "85d346c3",
   "metadata": {},
   "source": [
    "# Replace and Rename LandContour: Flatness of the property"
   ]
  },
  {
   "cell_type": "markdown",
   "id": "6ea08c97",
   "metadata": {},
   "source": [
    "# Lvl = Near Flat/Level, Bnk = Banked - Quick and significant rise from street grade to building, HLS = Hillside - Significant slope from side to side, Low = Depression"
   ]
  },
  {
   "cell_type": "code",
   "execution_count": 48,
   "id": "ea4df99f",
   "metadata": {},
   "outputs": [],
   "source": [
    "df['LandContour']=df['LandContour'].replace({'Lvl':'Near Flat/Level','Bnk':'Banked - Quick and significant rise from street grade to building','HLS':'Hillside - Significant slope from side to side','Low':'Depression'})"
   ]
  },
  {
   "cell_type": "code",
   "execution_count": 49,
   "id": "6eb65c00",
   "metadata": {},
   "outputs": [],
   "source": [
    "df.rename(columns={'LandContour':'Flatness of the property'},inplace=True)"
   ]
  },
  {
   "cell_type": "markdown",
   "id": "6ad3ed83",
   "metadata": {},
   "source": [
    "# Replace in Utilities:NoSewr=Electricity, Gas, and Water (Septic Tank)\n",
    "#NoSeWa=Electricity and Gas Only\n",
    "#ELO=Electricity only"
   ]
  },
  {
   "cell_type": "code",
   "execution_count": 50,
   "id": "4210b488",
   "metadata": {},
   "outputs": [],
   "source": [
    "df['Utilities']=df['Utilities'].replace({'NoSewr':'Electricity, Gas, and Water (Septic Tank)','NoSeWa':'Electricity and Gas Only','ELO':'Electricity only'})"
   ]
  },
  {
   "cell_type": "markdown",
   "id": "64a20892",
   "metadata": {},
   "source": [
    "# Replace in LotConfig:FR2=Frontage on 2 sides of the property,FR3=Frontage on 3 sides of the property"
   ]
  },
  {
   "cell_type": "code",
   "execution_count": 51,
   "id": "e55da3b0",
   "metadata": {},
   "outputs": [],
   "source": [
    "df['LotConfig']=df['LotConfig'].replace({'FR2':'Frontage on 2 sides of the property','FR3':'Frontage on 3 sides of the property'})"
   ]
  },
  {
   "cell_type": "markdown",
   "id": "1b329ac3",
   "metadata": {},
   "source": [
    "# Rename and Replace LandSlope: Slope of property, Gtl=Gentle slope,Mod=Moderate Slope,Sev=Severe Slope"
   ]
  },
  {
   "cell_type": "code",
   "execution_count": 52,
   "id": "04867256",
   "metadata": {},
   "outputs": [],
   "source": [
    "df.rename(columns={'LandSlope':'Slope of property'},inplace=True)"
   ]
  },
  {
   "cell_type": "code",
   "execution_count": 53,
   "id": "f31a1f92",
   "metadata": {},
   "outputs": [],
   "source": [
    "df['Slope of property']=df['Slope of property'].replace({'Gtl':'Gentle slope','Mod':'Moderate Slope','Sev':'Severe Slope'})"
   ]
  },
  {
   "cell_type": "code",
   "execution_count": 54,
   "id": "37a74d43",
   "metadata": {},
   "outputs": [
    {
     "data": {
      "text/plain": [
       "<bound method IndexOpsMixin.value_counts of 0       Gentle slope\n",
       "1       Gentle slope\n",
       "2       Gentle slope\n",
       "3       Gentle slope\n",
       "4       Gentle slope\n",
       "            ...     \n",
       "1455    Gentle slope\n",
       "1456    Gentle slope\n",
       "1457    Gentle slope\n",
       "1458    Gentle slope\n",
       "1459    Gentle slope\n",
       "Name: Slope of property, Length: 1460, dtype: object>"
      ]
     },
     "execution_count": 54,
     "metadata": {},
     "output_type": "execute_result"
    }
   ],
   "source": [
    "df['Slope of property'].value_counts"
   ]
  },
  {
   "cell_type": "markdown",
   "id": "332ae2b5",
   "metadata": {},
   "source": [
    "# Replace column Condition1&Condition2"
   ]
  },
  {
   "cell_type": "markdown",
   "id": "2c544e4b",
   "metadata": {},
   "source": [
    "# Condition1: Proximity to various conditions, Condition2: Proximity to various conditions (if more than one is present)\n",
    "#Artery=Adjacent to arterial street\n",
    "#Feedr=Adjacent to feeder street \n",
    "#Norm=Normal\n",
    "#RRNn=Within 200' of North-South Railroad\n",
    "#RRAn=Adjacent to North-South Railroad\n",
    "#PosN=Near positive off-site feature--park, greenbelt, etc.\n",
    "#PosA=Adjacent to positive off-site feature\n",
    "#RRNe=Within 200' of East-West Railroad\n",
    "#RRAe=Adjacent to East-West Railroad\n"
   ]
  },
  {
   "cell_type": "code",
   "execution_count": 55,
   "id": "5a1f9ac3",
   "metadata": {},
   "outputs": [],
   "source": [
    "df['Condition1']=df['Condition1'].replace({\"Artery\":\"Adjacent to arterial stree\",\"Feedr\":\"Adjacent to feeder street\",\"Norm\":\"Normal\",\"RRNn\":\"Within 200' of North-South Railroad\",\" RRAn\":\"Adjacent to North-South Railroad\",\"PosN\":\"Near positive off-site feature--park, greenbelt, etc\",\" PosA\":\"Adjacent to positive off-site feature\",\"RRNe\":\"Within 200' of East-West Railroad\",\"RRAe\":\"Adjacent to East-West Railroad\"})"
   ]
  },
  {
   "cell_type": "code",
   "execution_count": 56,
   "id": "075cf320",
   "metadata": {},
   "outputs": [],
   "source": [
    "df['Condition2']=df['Condition2'].replace({\"Artery\":\"Adjacent to arterial stree\",\"Feedr\":\"Adjacent to feeder street\",\"Norm\":\"Normal\",\"RRNn\":\"Within 200' of North-South Railroad\",\" RRAn\":\"Adjacent to North-South Railroad\",\"PosN\":\"Near positive off-site feature--park, greenbelt, etc\",\" PosA\":\"Adjacent to positive off-site feature\",\"RRNe\":\"Within 200' of East-West Railroad\",\"RRAe\":\"Adjacent to East-West Railroad\"})"
   ]
  },
  {
   "cell_type": "markdown",
   "id": "d9ee1709",
   "metadata": {},
   "source": [
    "# Merge the two columns "
   ]
  },
  {
   "cell_type": "code",
   "execution_count": 57,
   "id": "63049187",
   "metadata": {},
   "outputs": [],
   "source": [
    "def add_columns(condition1,condition2):\n",
    "    if condition1!=condition2:\n",
    "        return (condition1+'&'+condition2)\n",
    "    else:\n",
    "        return condition1\n",
    "        "
   ]
  },
  {
   "cell_type": "code",
   "execution_count": 58,
   "id": "451f9497",
   "metadata": {},
   "outputs": [],
   "source": [
    "df['Condition1']=df.apply(lambda x:add_columns(x['Condition1'],x['Condition2']),axis=1)"
   ]
  },
  {
   "cell_type": "code",
   "execution_count": 59,
   "id": "a705f121",
   "metadata": {},
   "outputs": [],
   "source": [
    "df.rename(columns={'Condition1':'Proximity to various conditions'},inplace=True)"
   ]
  },
  {
   "cell_type": "code",
   "execution_count": 60,
   "id": "1f732de8",
   "metadata": {},
   "outputs": [
    {
     "data": {
      "text/plain": [
       "Proximity to various conditions\n",
       "Normal                                                           1260\n",
       "Adjacent to feeder street&Normal                                   76\n",
       "Adjacent to arterial stree&Normal                                  45\n",
       "RRAn&Normal                                                        22\n",
       "Near positive off-site feature--park, greenbelt, etc&Normal        17\n",
       "Adjacent to East-West Railroad&Normal                              11\n",
       "PosA&Normal                                                         8\n",
       "Within 200' of North-South Railroad&Normal                          4\n",
       "RRAn&Adjacent to feeder street                                      4\n",
       "Adjacent to feeder street&Within 200' of North-South Railroad       2\n",
       "Adjacent to arterial stree                                          2\n",
       "Within 200' of East-West Railroad&Normal                            2\n",
       "Near positive off-site feature--park, greenbelt, etc                2\n",
       "Adjacent to feeder street                                           1\n",
       "Within 200' of North-South Railroad&Adjacent to feeder street       1\n",
       "Adjacent to arterial stree&PosA                                     1\n",
       "Adjacent to feeder street&RRAn                                      1\n",
       "Adjacent to feeder street&Adjacent to East-West Railroad            1\n",
       "Name: count, dtype: int64"
      ]
     },
     "execution_count": 60,
     "metadata": {},
     "output_type": "execute_result"
    }
   ],
   "source": [
    "df['Proximity to various conditions'].value_counts()"
   ]
  },
  {
   "cell_type": "code",
   "execution_count": 61,
   "id": "cf62e0d1",
   "metadata": {
    "scrolled": true
   },
   "outputs": [
    {
     "data": {
      "text/html": [
       "<div>\n",
       "<style scoped>\n",
       "    .dataframe tbody tr th:only-of-type {\n",
       "        vertical-align: middle;\n",
       "    }\n",
       "\n",
       "    .dataframe tbody tr th {\n",
       "        vertical-align: top;\n",
       "    }\n",
       "\n",
       "    .dataframe thead th {\n",
       "        text-align: right;\n",
       "    }\n",
       "</style>\n",
       "<table border=\"1\" class=\"dataframe\">\n",
       "  <thead>\n",
       "    <tr style=\"text-align: right;\">\n",
       "      <th></th>\n",
       "      <th>Slope of property</th>\n",
       "      <th>Neighborhood</th>\n",
       "      <th>Proximity to various conditions</th>\n",
       "      <th>Condition2</th>\n",
       "      <th>BldgType</th>\n",
       "      <th>HouseStyle</th>\n",
       "      <th>OverallQual</th>\n",
       "      <th>OverallCond</th>\n",
       "      <th>YearBuilt</th>\n",
       "      <th>YearRemodAdd</th>\n",
       "      <th>RoofStyle</th>\n",
       "      <th>RoofMatl</th>\n",
       "      <th>Exterior1st</th>\n",
       "      <th>Exterior2nd</th>\n",
       "    </tr>\n",
       "  </thead>\n",
       "  <tbody>\n",
       "    <tr>\n",
       "      <th>0</th>\n",
       "      <td>Gentle slope</td>\n",
       "      <td>CollgCr</td>\n",
       "      <td>Normal</td>\n",
       "      <td>Normal</td>\n",
       "      <td>1Fam</td>\n",
       "      <td>2Story</td>\n",
       "      <td>7</td>\n",
       "      <td>5</td>\n",
       "      <td>2003</td>\n",
       "      <td>2003</td>\n",
       "      <td>Gable</td>\n",
       "      <td>CompShg</td>\n",
       "      <td>VinylSd</td>\n",
       "      <td>VinylSd</td>\n",
       "    </tr>\n",
       "    <tr>\n",
       "      <th>1</th>\n",
       "      <td>Gentle slope</td>\n",
       "      <td>Veenker</td>\n",
       "      <td>Adjacent to feeder street&amp;Normal</td>\n",
       "      <td>Normal</td>\n",
       "      <td>1Fam</td>\n",
       "      <td>1Story</td>\n",
       "      <td>6</td>\n",
       "      <td>8</td>\n",
       "      <td>1976</td>\n",
       "      <td>1976</td>\n",
       "      <td>Gable</td>\n",
       "      <td>CompShg</td>\n",
       "      <td>MetalSd</td>\n",
       "      <td>MetalSd</td>\n",
       "    </tr>\n",
       "    <tr>\n",
       "      <th>2</th>\n",
       "      <td>Gentle slope</td>\n",
       "      <td>CollgCr</td>\n",
       "      <td>Normal</td>\n",
       "      <td>Normal</td>\n",
       "      <td>1Fam</td>\n",
       "      <td>2Story</td>\n",
       "      <td>7</td>\n",
       "      <td>5</td>\n",
       "      <td>2001</td>\n",
       "      <td>2002</td>\n",
       "      <td>Gable</td>\n",
       "      <td>CompShg</td>\n",
       "      <td>VinylSd</td>\n",
       "      <td>VinylSd</td>\n",
       "    </tr>\n",
       "    <tr>\n",
       "      <th>3</th>\n",
       "      <td>Gentle slope</td>\n",
       "      <td>Crawfor</td>\n",
       "      <td>Normal</td>\n",
       "      <td>Normal</td>\n",
       "      <td>1Fam</td>\n",
       "      <td>2Story</td>\n",
       "      <td>7</td>\n",
       "      <td>5</td>\n",
       "      <td>1915</td>\n",
       "      <td>1970</td>\n",
       "      <td>Gable</td>\n",
       "      <td>CompShg</td>\n",
       "      <td>Wd Sdng</td>\n",
       "      <td>Wd Shng</td>\n",
       "    </tr>\n",
       "    <tr>\n",
       "      <th>4</th>\n",
       "      <td>Gentle slope</td>\n",
       "      <td>NoRidge</td>\n",
       "      <td>Normal</td>\n",
       "      <td>Normal</td>\n",
       "      <td>1Fam</td>\n",
       "      <td>2Story</td>\n",
       "      <td>8</td>\n",
       "      <td>5</td>\n",
       "      <td>2000</td>\n",
       "      <td>2000</td>\n",
       "      <td>Gable</td>\n",
       "      <td>CompShg</td>\n",
       "      <td>VinylSd</td>\n",
       "      <td>VinylSd</td>\n",
       "    </tr>\n",
       "    <tr>\n",
       "      <th>5</th>\n",
       "      <td>Gentle slope</td>\n",
       "      <td>Mitchel</td>\n",
       "      <td>Normal</td>\n",
       "      <td>Normal</td>\n",
       "      <td>1Fam</td>\n",
       "      <td>1.5Fin</td>\n",
       "      <td>5</td>\n",
       "      <td>5</td>\n",
       "      <td>1993</td>\n",
       "      <td>1995</td>\n",
       "      <td>Gable</td>\n",
       "      <td>CompShg</td>\n",
       "      <td>VinylSd</td>\n",
       "      <td>VinylSd</td>\n",
       "    </tr>\n",
       "    <tr>\n",
       "      <th>6</th>\n",
       "      <td>Gentle slope</td>\n",
       "      <td>Somerst</td>\n",
       "      <td>Normal</td>\n",
       "      <td>Normal</td>\n",
       "      <td>1Fam</td>\n",
       "      <td>1Story</td>\n",
       "      <td>8</td>\n",
       "      <td>5</td>\n",
       "      <td>2004</td>\n",
       "      <td>2005</td>\n",
       "      <td>Gable</td>\n",
       "      <td>CompShg</td>\n",
       "      <td>VinylSd</td>\n",
       "      <td>VinylSd</td>\n",
       "    </tr>\n",
       "    <tr>\n",
       "      <th>7</th>\n",
       "      <td>Gentle slope</td>\n",
       "      <td>NWAmes</td>\n",
       "      <td>Near positive off-site feature--park, greenbel...</td>\n",
       "      <td>Normal</td>\n",
       "      <td>1Fam</td>\n",
       "      <td>2Story</td>\n",
       "      <td>7</td>\n",
       "      <td>6</td>\n",
       "      <td>1973</td>\n",
       "      <td>1973</td>\n",
       "      <td>Gable</td>\n",
       "      <td>CompShg</td>\n",
       "      <td>HdBoard</td>\n",
       "      <td>HdBoard</td>\n",
       "    </tr>\n",
       "    <tr>\n",
       "      <th>8</th>\n",
       "      <td>Gentle slope</td>\n",
       "      <td>OldTown</td>\n",
       "      <td>Adjacent to arterial stree&amp;Normal</td>\n",
       "      <td>Normal</td>\n",
       "      <td>1Fam</td>\n",
       "      <td>1.5Fin</td>\n",
       "      <td>7</td>\n",
       "      <td>5</td>\n",
       "      <td>1931</td>\n",
       "      <td>1950</td>\n",
       "      <td>Gable</td>\n",
       "      <td>CompShg</td>\n",
       "      <td>BrkFace</td>\n",
       "      <td>Wd Shng</td>\n",
       "    </tr>\n",
       "    <tr>\n",
       "      <th>9</th>\n",
       "      <td>Gentle slope</td>\n",
       "      <td>BrkSide</td>\n",
       "      <td>Adjacent to arterial stree</td>\n",
       "      <td>Adjacent to arterial stree</td>\n",
       "      <td>2fmCon</td>\n",
       "      <td>1.5Unf</td>\n",
       "      <td>5</td>\n",
       "      <td>6</td>\n",
       "      <td>1939</td>\n",
       "      <td>1950</td>\n",
       "      <td>Gable</td>\n",
       "      <td>CompShg</td>\n",
       "      <td>MetalSd</td>\n",
       "      <td>MetalSd</td>\n",
       "    </tr>\n",
       "  </tbody>\n",
       "</table>\n",
       "</div>"
      ],
      "text/plain": [
       "  Slope of property Neighborhood  \\\n",
       "0      Gentle slope      CollgCr   \n",
       "1      Gentle slope      Veenker   \n",
       "2      Gentle slope      CollgCr   \n",
       "3      Gentle slope      Crawfor   \n",
       "4      Gentle slope      NoRidge   \n",
       "5      Gentle slope      Mitchel   \n",
       "6      Gentle slope      Somerst   \n",
       "7      Gentle slope       NWAmes   \n",
       "8      Gentle slope      OldTown   \n",
       "9      Gentle slope      BrkSide   \n",
       "\n",
       "                     Proximity to various conditions  \\\n",
       "0                                             Normal   \n",
       "1                   Adjacent to feeder street&Normal   \n",
       "2                                             Normal   \n",
       "3                                             Normal   \n",
       "4                                             Normal   \n",
       "5                                             Normal   \n",
       "6                                             Normal   \n",
       "7  Near positive off-site feature--park, greenbel...   \n",
       "8                  Adjacent to arterial stree&Normal   \n",
       "9                         Adjacent to arterial stree   \n",
       "\n",
       "                   Condition2 BldgType HouseStyle  OverallQual  OverallCond  \\\n",
       "0                      Normal     1Fam     2Story            7            5   \n",
       "1                      Normal     1Fam     1Story            6            8   \n",
       "2                      Normal     1Fam     2Story            7            5   \n",
       "3                      Normal     1Fam     2Story            7            5   \n",
       "4                      Normal     1Fam     2Story            8            5   \n",
       "5                      Normal     1Fam     1.5Fin            5            5   \n",
       "6                      Normal     1Fam     1Story            8            5   \n",
       "7                      Normal     1Fam     2Story            7            6   \n",
       "8                      Normal     1Fam     1.5Fin            7            5   \n",
       "9  Adjacent to arterial stree   2fmCon     1.5Unf            5            6   \n",
       "\n",
       "   YearBuilt  YearRemodAdd RoofStyle RoofMatl Exterior1st Exterior2nd  \n",
       "0       2003          2003     Gable  CompShg     VinylSd     VinylSd  \n",
       "1       1976          1976     Gable  CompShg     MetalSd     MetalSd  \n",
       "2       2001          2002     Gable  CompShg     VinylSd     VinylSd  \n",
       "3       1915          1970     Gable  CompShg     Wd Sdng     Wd Shng  \n",
       "4       2000          2000     Gable  CompShg     VinylSd     VinylSd  \n",
       "5       1993          1995     Gable  CompShg     VinylSd     VinylSd  \n",
       "6       2004          2005     Gable  CompShg     VinylSd     VinylSd  \n",
       "7       1973          1973     Gable  CompShg     HdBoard     HdBoard  \n",
       "8       1931          1950     Gable  CompShg     BrkFace     Wd Shng  \n",
       "9       1939          1950     Gable  CompShg     MetalSd     MetalSd  "
      ]
     },
     "execution_count": 61,
     "metadata": {},
     "output_type": "execute_result"
    }
   ],
   "source": [
    "df.iloc[:10,11:25]"
   ]
  },
  {
   "cell_type": "markdown",
   "id": "3facd921",
   "metadata": {},
   "source": [
    "# Rename and Replace BldgType: Type of dwelling,1Fam=Single-family Detached,2FmCon=Two-family Conversion; originally built as one-family dwellingDuplx=Duplex,TwnhsE=Townhouse End Unit,TwnhsI=Townhouse Inside Unit"
   ]
  },
  {
   "cell_type": "code",
   "execution_count": 62,
   "id": "7fa69ddf",
   "metadata": {},
   "outputs": [],
   "source": [
    "df.rename(columns={'BldgType':'Type of dwelling'},inplace=True)"
   ]
  },
  {
   "cell_type": "code",
   "execution_count": 63,
   "id": "0804a7ec",
   "metadata": {},
   "outputs": [],
   "source": [
    "df[\"Type of dwelling\"]=df[\"Type of dwelling\"].replace({\"1Fam\":\"Single-family Detached\",\"2FmCon\":\"Two-family Conversion; originally built as one-family dwelling\",\"Duplx\":\"Duplex\",\"TwnhsE\":\"Townhouse End Unit\",\"TwnhsI\":\"Townhouse Inside Unit\"})"
   ]
  },
  {
   "cell_type": "code",
   "execution_count": 64,
   "id": "5ac3bb48",
   "metadata": {},
   "outputs": [
    {
     "data": {
      "text/plain": [
       "Type of dwelling\n",
       "Single-family Detached    1220\n",
       "Townhouse End Unit         114\n",
       "Duplex                      52\n",
       "Twnhs                       43\n",
       "2fmCon                      31\n",
       "Name: count, dtype: int64"
      ]
     },
     "execution_count": 64,
     "metadata": {},
     "output_type": "execute_result"
    }
   ],
   "source": [
    "df['Type of dwelling'].value_counts()"
   ]
  },
  {
   "cell_type": "markdown",
   "id": "9ad6c682",
   "metadata": {},
   "source": [
    "# Replace and Rename HouseStyle: Style of dwelling\n",
    " 1Story=One story\n",
    "1.5Fin=One and one-half story: 2nd level finished\n",
    "1.5Unf=One and one-half story: 2nd level unfinished\n",
    "2Story=Two-story\n",
    "2.5Fin=Two and one-half story: 2nd level finished\n",
    "2.5Unf=Two and one-half story: 2nd level unfinished\n",
    "SFoyer=Split Foyer\n",
    "SLvl=Split Level\n"
   ]
  },
  {
   "cell_type": "code",
   "execution_count": 65,
   "id": "a0cdf758",
   "metadata": {},
   "outputs": [],
   "source": [
    "df['HouseStyle']=df['HouseStyle'].replace({'1Story':'One story','1.5Fin':'One and one-half story: 2nd level finished','1.5Unf':'One and one-half story: 2nd level unfinished','2Story':'Two-story','2.5Fin':'Two and one-half story: 2nd level finished','2.5Unf':'Two and one-half story: 2nd level unfinished','SFoyer':'Split Foyer','SLvl':'Split Level'})"
   ]
  },
  {
   "cell_type": "code",
   "execution_count": 66,
   "id": "657d028f",
   "metadata": {},
   "outputs": [],
   "source": [
    "df.rename(columns={'HouseStyle':'Style of dwelling'},inplace=True)"
   ]
  },
  {
   "cell_type": "code",
   "execution_count": 67,
   "id": "9e4ec604",
   "metadata": {},
   "outputs": [
    {
     "data": {
      "text/plain": [
       "Style of dwelling\n",
       "One story                                       726\n",
       "Two-story                                       445\n",
       "One and one-half story: 2nd level finished      154\n",
       "Split Level                                      65\n",
       "Split Foyer                                      37\n",
       "One and one-half story: 2nd level unfinished     14\n",
       "Two and one-half story: 2nd level unfinished     11\n",
       "Two and one-half story: 2nd level finished        8\n",
       "Name: count, dtype: int64"
      ]
     },
     "execution_count": 67,
     "metadata": {},
     "output_type": "execute_result"
    }
   ],
   "source": [
    "df['Style of dwelling'].value_counts()"
   ]
  },
  {
   "cell_type": "markdown",
   "id": "0d86b403",
   "metadata": {},
   "source": [
    "# Replace and Rename OverallQual: Rates the overall material and finish of the house\n",
    "  10 = Very Excellent\n",
    "   9 = Excellent\n",
    "   8 = Very Good\n",
    "   7 = Good\n",
    "   6 = Above Average\n",
    "   5 = Average\n",
    "   4 = Below Average\n",
    "   3 = Fair\n",
    "   2 = Poor\n",
    "   1 = Very Poor\n"
   ]
  },
  {
   "cell_type": "code",
   "execution_count": 68,
   "id": "ed1f74c9",
   "metadata": {},
   "outputs": [],
   "source": [
    "df['OverallQual']=df['OverallQual'].replace({'10':'Very Excellent','9':'Excellent','8':'Very Good','7':'Good','6':'Above Average','5':'Average','4':'Below Average','3':'Fair','2':'Poor','1':'Very Poor'})"
   ]
  },
  {
   "cell_type": "code",
   "execution_count": 69,
   "id": "ee493772",
   "metadata": {},
   "outputs": [],
   "source": [
    "df.rename(columns={'OverallQual':'Rates the overall material and finish of the house'},inplace=True)"
   ]
  },
  {
   "cell_type": "code",
   "execution_count": 70,
   "id": "76add2a6",
   "metadata": {},
   "outputs": [
    {
     "data": {
      "text/plain": [
       "Rates the overall material and finish of the house\n",
       "5     397\n",
       "6     374\n",
       "7     319\n",
       "8     168\n",
       "4     116\n",
       "9      43\n",
       "3      20\n",
       "10     18\n",
       "2       3\n",
       "1       2\n",
       "Name: count, dtype: int64"
      ]
     },
     "execution_count": 70,
     "metadata": {},
     "output_type": "execute_result"
    }
   ],
   "source": [
    "df['Rates the overall material and finish of the house'].value_counts()"
   ]
  },
  {
   "cell_type": "markdown",
   "id": "88ee802d",
   "metadata": {},
   "source": [
    "# Replace and rename OverallCond: Rates the overall condition of the house\n",
    "   10 = Very Excellent\n",
    "   9  = Excellent\n",
    "   8  = Very Good\n",
    "   7  = Good\n",
    "   6  = Above Average\n",
    "   5  = Average\n",
    "   4  = Below Average\n",
    "   3  = Fair\n",
    "   2  = Poor\n",
    "   1  = Very Poor\n"
   ]
  },
  {
   "cell_type": "code",
   "execution_count": 71,
   "id": "00eba6d0",
   "metadata": {},
   "outputs": [],
   "source": [
    "df['OverallCond']=df['OverallCond'].replace({'10':'Very Excellent','9':'Excellent','8':'Very Good','7':'Good','6':'Above Average','5':'Average','4':'Below Average','3':'Fair','2':'Poor','1':'Very Poor'})"
   ]
  },
  {
   "cell_type": "code",
   "execution_count": 72,
   "id": "8676bf68",
   "metadata": {},
   "outputs": [],
   "source": [
    "df.rename(columns={'OverallCond':'Rates the overall condition of the house'},inplace=True)"
   ]
  },
  {
   "cell_type": "code",
   "execution_count": 73,
   "id": "79cbf10e",
   "metadata": {},
   "outputs": [
    {
     "data": {
      "text/plain": [
       "Rates the overall condition of the house\n",
       "5    821\n",
       "6    252\n",
       "7    205\n",
       "8     72\n",
       "4     57\n",
       "3     25\n",
       "9     22\n",
       "2      5\n",
       "1      1\n",
       "Name: count, dtype: int64"
      ]
     },
     "execution_count": 73,
     "metadata": {},
     "output_type": "execute_result"
    }
   ],
   "source": [
    "df['Rates the overall condition of the house'].value_counts()"
   ]
  },
  {
   "cell_type": "markdown",
   "id": "cbe21639",
   "metadata": {},
   "source": [
    "# YearBuilt: Original construction date"
   ]
  },
  {
   "cell_type": "markdown",
   "id": "19ac583f",
   "metadata": {},
   "source": [
    "# YearRemodAdd: Remodel date (same as construction date if no remodeling or additions)"
   ]
  },
  {
   "cell_type": "code",
   "execution_count": 74,
   "id": "5aae6ed5",
   "metadata": {
    "scrolled": true
   },
   "outputs": [
    {
     "data": {
      "text/html": [
       "<div>\n",
       "<style scoped>\n",
       "    .dataframe tbody tr th:only-of-type {\n",
       "        vertical-align: middle;\n",
       "    }\n",
       "\n",
       "    .dataframe tbody tr th {\n",
       "        vertical-align: top;\n",
       "    }\n",
       "\n",
       "    .dataframe thead th {\n",
       "        text-align: right;\n",
       "    }\n",
       "</style>\n",
       "<table border=\"1\" class=\"dataframe\">\n",
       "  <thead>\n",
       "    <tr style=\"text-align: right;\">\n",
       "      <th></th>\n",
       "      <th>Slope of property</th>\n",
       "      <th>Neighborhood</th>\n",
       "      <th>Proximity to various conditions</th>\n",
       "      <th>Condition2</th>\n",
       "      <th>Type of dwelling</th>\n",
       "      <th>Style of dwelling</th>\n",
       "      <th>Rates the overall material and finish of the house</th>\n",
       "      <th>Rates the overall condition of the house</th>\n",
       "      <th>YearBuilt</th>\n",
       "      <th>YearRemodAdd</th>\n",
       "    </tr>\n",
       "  </thead>\n",
       "  <tbody>\n",
       "    <tr>\n",
       "      <th>0</th>\n",
       "      <td>Gentle slope</td>\n",
       "      <td>CollgCr</td>\n",
       "      <td>Normal</td>\n",
       "      <td>Normal</td>\n",
       "      <td>Single-family Detached</td>\n",
       "      <td>Two-story</td>\n",
       "      <td>7</td>\n",
       "      <td>5</td>\n",
       "      <td>2003</td>\n",
       "      <td>2003</td>\n",
       "    </tr>\n",
       "    <tr>\n",
       "      <th>1</th>\n",
       "      <td>Gentle slope</td>\n",
       "      <td>Veenker</td>\n",
       "      <td>Adjacent to feeder street&amp;Normal</td>\n",
       "      <td>Normal</td>\n",
       "      <td>Single-family Detached</td>\n",
       "      <td>One story</td>\n",
       "      <td>6</td>\n",
       "      <td>8</td>\n",
       "      <td>1976</td>\n",
       "      <td>1976</td>\n",
       "    </tr>\n",
       "    <tr>\n",
       "      <th>2</th>\n",
       "      <td>Gentle slope</td>\n",
       "      <td>CollgCr</td>\n",
       "      <td>Normal</td>\n",
       "      <td>Normal</td>\n",
       "      <td>Single-family Detached</td>\n",
       "      <td>Two-story</td>\n",
       "      <td>7</td>\n",
       "      <td>5</td>\n",
       "      <td>2001</td>\n",
       "      <td>2002</td>\n",
       "    </tr>\n",
       "    <tr>\n",
       "      <th>3</th>\n",
       "      <td>Gentle slope</td>\n",
       "      <td>Crawfor</td>\n",
       "      <td>Normal</td>\n",
       "      <td>Normal</td>\n",
       "      <td>Single-family Detached</td>\n",
       "      <td>Two-story</td>\n",
       "      <td>7</td>\n",
       "      <td>5</td>\n",
       "      <td>1915</td>\n",
       "      <td>1970</td>\n",
       "    </tr>\n",
       "    <tr>\n",
       "      <th>4</th>\n",
       "      <td>Gentle slope</td>\n",
       "      <td>NoRidge</td>\n",
       "      <td>Normal</td>\n",
       "      <td>Normal</td>\n",
       "      <td>Single-family Detached</td>\n",
       "      <td>Two-story</td>\n",
       "      <td>8</td>\n",
       "      <td>5</td>\n",
       "      <td>2000</td>\n",
       "      <td>2000</td>\n",
       "    </tr>\n",
       "    <tr>\n",
       "      <th>5</th>\n",
       "      <td>Gentle slope</td>\n",
       "      <td>Mitchel</td>\n",
       "      <td>Normal</td>\n",
       "      <td>Normal</td>\n",
       "      <td>Single-family Detached</td>\n",
       "      <td>One and one-half story: 2nd level finished</td>\n",
       "      <td>5</td>\n",
       "      <td>5</td>\n",
       "      <td>1993</td>\n",
       "      <td>1995</td>\n",
       "    </tr>\n",
       "    <tr>\n",
       "      <th>6</th>\n",
       "      <td>Gentle slope</td>\n",
       "      <td>Somerst</td>\n",
       "      <td>Normal</td>\n",
       "      <td>Normal</td>\n",
       "      <td>Single-family Detached</td>\n",
       "      <td>One story</td>\n",
       "      <td>8</td>\n",
       "      <td>5</td>\n",
       "      <td>2004</td>\n",
       "      <td>2005</td>\n",
       "    </tr>\n",
       "    <tr>\n",
       "      <th>7</th>\n",
       "      <td>Gentle slope</td>\n",
       "      <td>NWAmes</td>\n",
       "      <td>Near positive off-site feature--park, greenbel...</td>\n",
       "      <td>Normal</td>\n",
       "      <td>Single-family Detached</td>\n",
       "      <td>Two-story</td>\n",
       "      <td>7</td>\n",
       "      <td>6</td>\n",
       "      <td>1973</td>\n",
       "      <td>1973</td>\n",
       "    </tr>\n",
       "    <tr>\n",
       "      <th>8</th>\n",
       "      <td>Gentle slope</td>\n",
       "      <td>OldTown</td>\n",
       "      <td>Adjacent to arterial stree&amp;Normal</td>\n",
       "      <td>Normal</td>\n",
       "      <td>Single-family Detached</td>\n",
       "      <td>One and one-half story: 2nd level finished</td>\n",
       "      <td>7</td>\n",
       "      <td>5</td>\n",
       "      <td>1931</td>\n",
       "      <td>1950</td>\n",
       "    </tr>\n",
       "    <tr>\n",
       "      <th>9</th>\n",
       "      <td>Gentle slope</td>\n",
       "      <td>BrkSide</td>\n",
       "      <td>Adjacent to arterial stree</td>\n",
       "      <td>Adjacent to arterial stree</td>\n",
       "      <td>2fmCon</td>\n",
       "      <td>One and one-half story: 2nd level unfinished</td>\n",
       "      <td>5</td>\n",
       "      <td>6</td>\n",
       "      <td>1939</td>\n",
       "      <td>1950</td>\n",
       "    </tr>\n",
       "    <tr>\n",
       "      <th>10</th>\n",
       "      <td>Gentle slope</td>\n",
       "      <td>Sawyer</td>\n",
       "      <td>Normal</td>\n",
       "      <td>Normal</td>\n",
       "      <td>Single-family Detached</td>\n",
       "      <td>One story</td>\n",
       "      <td>5</td>\n",
       "      <td>5</td>\n",
       "      <td>1965</td>\n",
       "      <td>1965</td>\n",
       "    </tr>\n",
       "  </tbody>\n",
       "</table>\n",
       "</div>"
      ],
      "text/plain": [
       "   Slope of property Neighborhood  \\\n",
       "0       Gentle slope      CollgCr   \n",
       "1       Gentle slope      Veenker   \n",
       "2       Gentle slope      CollgCr   \n",
       "3       Gentle slope      Crawfor   \n",
       "4       Gentle slope      NoRidge   \n",
       "5       Gentle slope      Mitchel   \n",
       "6       Gentle slope      Somerst   \n",
       "7       Gentle slope       NWAmes   \n",
       "8       Gentle slope      OldTown   \n",
       "9       Gentle slope      BrkSide   \n",
       "10      Gentle slope       Sawyer   \n",
       "\n",
       "                      Proximity to various conditions  \\\n",
       "0                                              Normal   \n",
       "1                    Adjacent to feeder street&Normal   \n",
       "2                                              Normal   \n",
       "3                                              Normal   \n",
       "4                                              Normal   \n",
       "5                                              Normal   \n",
       "6                                              Normal   \n",
       "7   Near positive off-site feature--park, greenbel...   \n",
       "8                   Adjacent to arterial stree&Normal   \n",
       "9                          Adjacent to arterial stree   \n",
       "10                                             Normal   \n",
       "\n",
       "                    Condition2        Type of dwelling  \\\n",
       "0                       Normal  Single-family Detached   \n",
       "1                       Normal  Single-family Detached   \n",
       "2                       Normal  Single-family Detached   \n",
       "3                       Normal  Single-family Detached   \n",
       "4                       Normal  Single-family Detached   \n",
       "5                       Normal  Single-family Detached   \n",
       "6                       Normal  Single-family Detached   \n",
       "7                       Normal  Single-family Detached   \n",
       "8                       Normal  Single-family Detached   \n",
       "9   Adjacent to arterial stree                  2fmCon   \n",
       "10                      Normal  Single-family Detached   \n",
       "\n",
       "                               Style of dwelling  \\\n",
       "0                                      Two-story   \n",
       "1                                      One story   \n",
       "2                                      Two-story   \n",
       "3                                      Two-story   \n",
       "4                                      Two-story   \n",
       "5     One and one-half story: 2nd level finished   \n",
       "6                                      One story   \n",
       "7                                      Two-story   \n",
       "8     One and one-half story: 2nd level finished   \n",
       "9   One and one-half story: 2nd level unfinished   \n",
       "10                                     One story   \n",
       "\n",
       "    Rates the overall material and finish of the house  \\\n",
       "0                                                   7    \n",
       "1                                                   6    \n",
       "2                                                   7    \n",
       "3                                                   7    \n",
       "4                                                   8    \n",
       "5                                                   5    \n",
       "6                                                   8    \n",
       "7                                                   7    \n",
       "8                                                   7    \n",
       "9                                                   5    \n",
       "10                                                  5    \n",
       "\n",
       "    Rates the overall condition of the house  YearBuilt  YearRemodAdd  \n",
       "0                                          5       2003          2003  \n",
       "1                                          8       1976          1976  \n",
       "2                                          5       2001          2002  \n",
       "3                                          5       1915          1970  \n",
       "4                                          5       2000          2000  \n",
       "5                                          5       1993          1995  \n",
       "6                                          5       2004          2005  \n",
       "7                                          6       1973          1973  \n",
       "8                                          5       1931          1950  \n",
       "9                                          6       1939          1950  \n",
       "10                                         5       1965          1965  "
      ]
     },
     "execution_count": 74,
     "metadata": {},
     "output_type": "execute_result"
    }
   ],
   "source": [
    "df.iloc[:11,11:21]"
   ]
  },
  {
   "cell_type": "code",
   "execution_count": 197,
   "id": "5d73e700",
   "metadata": {},
   "outputs": [],
   "source": [
    "def add_year_built_remodlling(a,b):\n",
    "    if a != b:\n",
    "        return a + '&' + b\n",
    "    else:\n",
    "        return a\n"
   ]
  },
  {
   "cell_type": "code",
   "execution_count": 200,
   "id": "02da452a",
   "metadata": {},
   "outputs": [
    {
     "ename": "KeyError",
     "evalue": "'YearBuilt'",
     "output_type": "error",
     "traceback": [
      "\u001b[1;31m---------------------------------------------------------------------------\u001b[0m",
      "\u001b[1;31mKeyError\u001b[0m                                  Traceback (most recent call last)",
      "File \u001b[1;32m~\\anaconda3\\Lib\\site-packages\\pandas\\core\\indexes\\base.py:3791\u001b[0m, in \u001b[0;36mIndex.get_loc\u001b[1;34m(self, key)\u001b[0m\n\u001b[0;32m   3790\u001b[0m \u001b[38;5;28;01mtry\u001b[39;00m:\n\u001b[1;32m-> 3791\u001b[0m     \u001b[38;5;28;01mreturn\u001b[39;00m \u001b[38;5;28mself\u001b[39m\u001b[38;5;241m.\u001b[39m_engine\u001b[38;5;241m.\u001b[39mget_loc(casted_key)\n\u001b[0;32m   3792\u001b[0m \u001b[38;5;28;01mexcept\u001b[39;00m \u001b[38;5;167;01mKeyError\u001b[39;00m \u001b[38;5;28;01mas\u001b[39;00m err:\n",
      "File \u001b[1;32mindex.pyx:152\u001b[0m, in \u001b[0;36mpandas._libs.index.IndexEngine.get_loc\u001b[1;34m()\u001b[0m\n",
      "File \u001b[1;32mindex.pyx:181\u001b[0m, in \u001b[0;36mpandas._libs.index.IndexEngine.get_loc\u001b[1;34m()\u001b[0m\n",
      "File \u001b[1;32mpandas\\_libs\\hashtable_class_helper.pxi:7080\u001b[0m, in \u001b[0;36mpandas._libs.hashtable.PyObjectHashTable.get_item\u001b[1;34m()\u001b[0m\n",
      "File \u001b[1;32mpandas\\_libs\\hashtable_class_helper.pxi:7088\u001b[0m, in \u001b[0;36mpandas._libs.hashtable.PyObjectHashTable.get_item\u001b[1;34m()\u001b[0m\n",
      "\u001b[1;31mKeyError\u001b[0m: 'YearBuilt'",
      "\nThe above exception was the direct cause of the following exception:\n",
      "\u001b[1;31mKeyError\u001b[0m                                  Traceback (most recent call last)",
      "Cell \u001b[1;32mIn[200], line 1\u001b[0m\n\u001b[1;32m----> 1\u001b[0m df[\u001b[38;5;124m'\u001b[39m\u001b[38;5;124mYearBuilt\u001b[39m\u001b[38;5;124m'\u001b[39m]\u001b[38;5;241m=\u001b[39mdf\u001b[38;5;241m.\u001b[39mapply(\u001b[38;5;28;01mlambda\u001b[39;00m x: add_year_built_remodlling(x[\u001b[38;5;124m'\u001b[39m\u001b[38;5;124mYearBuilt\u001b[39m\u001b[38;5;124m'\u001b[39m],x[\u001b[38;5;124m'\u001b[39m\u001b[38;5;124mYearRemodAdd\u001b[39m\u001b[38;5;124m'\u001b[39m]),axis\u001b[38;5;241m=\u001b[39m\u001b[38;5;241m1\u001b[39m)\n",
      "File \u001b[1;32m~\\anaconda3\\Lib\\site-packages\\pandas\\core\\frame.py:10034\u001b[0m, in \u001b[0;36mDataFrame.apply\u001b[1;34m(self, func, axis, raw, result_type, args, by_row, **kwargs)\u001b[0m\n\u001b[0;32m  10022\u001b[0m \u001b[38;5;28;01mfrom\u001b[39;00m \u001b[38;5;21;01mpandas\u001b[39;00m\u001b[38;5;21;01m.\u001b[39;00m\u001b[38;5;21;01mcore\u001b[39;00m\u001b[38;5;21;01m.\u001b[39;00m\u001b[38;5;21;01mapply\u001b[39;00m \u001b[38;5;28;01mimport\u001b[39;00m frame_apply\n\u001b[0;32m  10024\u001b[0m op \u001b[38;5;241m=\u001b[39m frame_apply(\n\u001b[0;32m  10025\u001b[0m     \u001b[38;5;28mself\u001b[39m,\n\u001b[0;32m  10026\u001b[0m     func\u001b[38;5;241m=\u001b[39mfunc,\n\u001b[1;32m   (...)\u001b[0m\n\u001b[0;32m  10032\u001b[0m     kwargs\u001b[38;5;241m=\u001b[39mkwargs,\n\u001b[0;32m  10033\u001b[0m )\n\u001b[1;32m> 10034\u001b[0m \u001b[38;5;28;01mreturn\u001b[39;00m op\u001b[38;5;241m.\u001b[39mapply()\u001b[38;5;241m.\u001b[39m__finalize__(\u001b[38;5;28mself\u001b[39m, method\u001b[38;5;241m=\u001b[39m\u001b[38;5;124m\"\u001b[39m\u001b[38;5;124mapply\u001b[39m\u001b[38;5;124m\"\u001b[39m)\n",
      "File \u001b[1;32m~\\anaconda3\\Lib\\site-packages\\pandas\\core\\apply.py:837\u001b[0m, in \u001b[0;36mFrameApply.apply\u001b[1;34m(self)\u001b[0m\n\u001b[0;32m    834\u001b[0m \u001b[38;5;28;01melif\u001b[39;00m \u001b[38;5;28mself\u001b[39m\u001b[38;5;241m.\u001b[39mraw:\n\u001b[0;32m    835\u001b[0m     \u001b[38;5;28;01mreturn\u001b[39;00m \u001b[38;5;28mself\u001b[39m\u001b[38;5;241m.\u001b[39mapply_raw()\n\u001b[1;32m--> 837\u001b[0m \u001b[38;5;28;01mreturn\u001b[39;00m \u001b[38;5;28mself\u001b[39m\u001b[38;5;241m.\u001b[39mapply_standard()\n",
      "File \u001b[1;32m~\\anaconda3\\Lib\\site-packages\\pandas\\core\\apply.py:965\u001b[0m, in \u001b[0;36mFrameApply.apply_standard\u001b[1;34m(self)\u001b[0m\n\u001b[0;32m    964\u001b[0m \u001b[38;5;28;01mdef\u001b[39;00m \u001b[38;5;21mapply_standard\u001b[39m(\u001b[38;5;28mself\u001b[39m):\n\u001b[1;32m--> 965\u001b[0m     results, res_index \u001b[38;5;241m=\u001b[39m \u001b[38;5;28mself\u001b[39m\u001b[38;5;241m.\u001b[39mapply_series_generator()\n\u001b[0;32m    967\u001b[0m     \u001b[38;5;66;03m# wrap results\u001b[39;00m\n\u001b[0;32m    968\u001b[0m     \u001b[38;5;28;01mreturn\u001b[39;00m \u001b[38;5;28mself\u001b[39m\u001b[38;5;241m.\u001b[39mwrap_results(results, res_index)\n",
      "File \u001b[1;32m~\\anaconda3\\Lib\\site-packages\\pandas\\core\\apply.py:981\u001b[0m, in \u001b[0;36mFrameApply.apply_series_generator\u001b[1;34m(self)\u001b[0m\n\u001b[0;32m    978\u001b[0m \u001b[38;5;28;01mwith\u001b[39;00m option_context(\u001b[38;5;124m\"\u001b[39m\u001b[38;5;124mmode.chained_assignment\u001b[39m\u001b[38;5;124m\"\u001b[39m, \u001b[38;5;28;01mNone\u001b[39;00m):\n\u001b[0;32m    979\u001b[0m     \u001b[38;5;28;01mfor\u001b[39;00m i, v \u001b[38;5;129;01min\u001b[39;00m \u001b[38;5;28menumerate\u001b[39m(series_gen):\n\u001b[0;32m    980\u001b[0m         \u001b[38;5;66;03m# ignore SettingWithCopy here in case the user mutates\u001b[39;00m\n\u001b[1;32m--> 981\u001b[0m         results[i] \u001b[38;5;241m=\u001b[39m \u001b[38;5;28mself\u001b[39m\u001b[38;5;241m.\u001b[39mfunc(v, \u001b[38;5;241m*\u001b[39m\u001b[38;5;28mself\u001b[39m\u001b[38;5;241m.\u001b[39margs, \u001b[38;5;241m*\u001b[39m\u001b[38;5;241m*\u001b[39m\u001b[38;5;28mself\u001b[39m\u001b[38;5;241m.\u001b[39mkwargs)\n\u001b[0;32m    982\u001b[0m         \u001b[38;5;28;01mif\u001b[39;00m \u001b[38;5;28misinstance\u001b[39m(results[i], ABCSeries):\n\u001b[0;32m    983\u001b[0m             \u001b[38;5;66;03m# If we have a view on v, we need to make a copy because\u001b[39;00m\n\u001b[0;32m    984\u001b[0m             \u001b[38;5;66;03m#  series_generator will swap out the underlying data\u001b[39;00m\n\u001b[0;32m    985\u001b[0m             results[i] \u001b[38;5;241m=\u001b[39m results[i]\u001b[38;5;241m.\u001b[39mcopy(deep\u001b[38;5;241m=\u001b[39m\u001b[38;5;28;01mFalse\u001b[39;00m)\n",
      "Cell \u001b[1;32mIn[200], line 1\u001b[0m, in \u001b[0;36m<lambda>\u001b[1;34m(x)\u001b[0m\n\u001b[1;32m----> 1\u001b[0m df[\u001b[38;5;124m'\u001b[39m\u001b[38;5;124mYearBuilt\u001b[39m\u001b[38;5;124m'\u001b[39m]\u001b[38;5;241m=\u001b[39mdf\u001b[38;5;241m.\u001b[39mapply(\u001b[38;5;28;01mlambda\u001b[39;00m x: add_year_built_remodlling(x[\u001b[38;5;124m'\u001b[39m\u001b[38;5;124mYearBuilt\u001b[39m\u001b[38;5;124m'\u001b[39m],x[\u001b[38;5;124m'\u001b[39m\u001b[38;5;124mYearRemodAdd\u001b[39m\u001b[38;5;124m'\u001b[39m]),axis\u001b[38;5;241m=\u001b[39m\u001b[38;5;241m1\u001b[39m)\n",
      "File \u001b[1;32m~\\anaconda3\\Lib\\site-packages\\pandas\\core\\series.py:1040\u001b[0m, in \u001b[0;36mSeries.__getitem__\u001b[1;34m(self, key)\u001b[0m\n\u001b[0;32m   1037\u001b[0m     \u001b[38;5;28;01mreturn\u001b[39;00m \u001b[38;5;28mself\u001b[39m\u001b[38;5;241m.\u001b[39m_values[key]\n\u001b[0;32m   1039\u001b[0m \u001b[38;5;28;01melif\u001b[39;00m key_is_scalar:\n\u001b[1;32m-> 1040\u001b[0m     \u001b[38;5;28;01mreturn\u001b[39;00m \u001b[38;5;28mself\u001b[39m\u001b[38;5;241m.\u001b[39m_get_value(key)\n\u001b[0;32m   1042\u001b[0m \u001b[38;5;66;03m# Convert generator to list before going through hashable part\u001b[39;00m\n\u001b[0;32m   1043\u001b[0m \u001b[38;5;66;03m# (We will iterate through the generator there to check for slices)\u001b[39;00m\n\u001b[0;32m   1044\u001b[0m \u001b[38;5;28;01mif\u001b[39;00m is_iterator(key):\n",
      "File \u001b[1;32m~\\anaconda3\\Lib\\site-packages\\pandas\\core\\series.py:1156\u001b[0m, in \u001b[0;36mSeries._get_value\u001b[1;34m(self, label, takeable)\u001b[0m\n\u001b[0;32m   1153\u001b[0m     \u001b[38;5;28;01mreturn\u001b[39;00m \u001b[38;5;28mself\u001b[39m\u001b[38;5;241m.\u001b[39m_values[label]\n\u001b[0;32m   1155\u001b[0m \u001b[38;5;66;03m# Similar to Index.get_value, but we do not fall back to positional\u001b[39;00m\n\u001b[1;32m-> 1156\u001b[0m loc \u001b[38;5;241m=\u001b[39m \u001b[38;5;28mself\u001b[39m\u001b[38;5;241m.\u001b[39mindex\u001b[38;5;241m.\u001b[39mget_loc(label)\n\u001b[0;32m   1158\u001b[0m \u001b[38;5;28;01mif\u001b[39;00m is_integer(loc):\n\u001b[0;32m   1159\u001b[0m     \u001b[38;5;28;01mreturn\u001b[39;00m \u001b[38;5;28mself\u001b[39m\u001b[38;5;241m.\u001b[39m_values[loc]\n",
      "File \u001b[1;32m~\\anaconda3\\Lib\\site-packages\\pandas\\core\\indexes\\base.py:3798\u001b[0m, in \u001b[0;36mIndex.get_loc\u001b[1;34m(self, key)\u001b[0m\n\u001b[0;32m   3793\u001b[0m     \u001b[38;5;28;01mif\u001b[39;00m \u001b[38;5;28misinstance\u001b[39m(casted_key, \u001b[38;5;28mslice\u001b[39m) \u001b[38;5;129;01mor\u001b[39;00m (\n\u001b[0;32m   3794\u001b[0m         \u001b[38;5;28misinstance\u001b[39m(casted_key, abc\u001b[38;5;241m.\u001b[39mIterable)\n\u001b[0;32m   3795\u001b[0m         \u001b[38;5;129;01mand\u001b[39;00m \u001b[38;5;28many\u001b[39m(\u001b[38;5;28misinstance\u001b[39m(x, \u001b[38;5;28mslice\u001b[39m) \u001b[38;5;28;01mfor\u001b[39;00m x \u001b[38;5;129;01min\u001b[39;00m casted_key)\n\u001b[0;32m   3796\u001b[0m     ):\n\u001b[0;32m   3797\u001b[0m         \u001b[38;5;28;01mraise\u001b[39;00m InvalidIndexError(key)\n\u001b[1;32m-> 3798\u001b[0m     \u001b[38;5;28;01mraise\u001b[39;00m \u001b[38;5;167;01mKeyError\u001b[39;00m(key) \u001b[38;5;28;01mfrom\u001b[39;00m \u001b[38;5;21;01merr\u001b[39;00m\n\u001b[0;32m   3799\u001b[0m \u001b[38;5;28;01mexcept\u001b[39;00m \u001b[38;5;167;01mTypeError\u001b[39;00m:\n\u001b[0;32m   3800\u001b[0m     \u001b[38;5;66;03m# If we have a listlike key, _check_indexing_error will raise\u001b[39;00m\n\u001b[0;32m   3801\u001b[0m     \u001b[38;5;66;03m#  InvalidIndexError. Otherwise we fall through and re-raise\u001b[39;00m\n\u001b[0;32m   3802\u001b[0m     \u001b[38;5;66;03m#  the TypeError.\u001b[39;00m\n\u001b[0;32m   3803\u001b[0m     \u001b[38;5;28mself\u001b[39m\u001b[38;5;241m.\u001b[39m_check_indexing_error(key)\n",
      "\u001b[1;31mKeyError\u001b[0m: 'YearBuilt'"
     ]
    }
   ],
   "source": [
    "df['YearBuilt']=df.apply(lambda x: add_year_built_remodlling(x['YearBuilt'],x['YearRemodAdd']),axis=1)"
   ]
  },
  {
   "cell_type": "markdown",
   "id": "fe6ebe50",
   "metadata": {},
   "source": [
    "# find uiniqe values"
   ]
  },
  {
   "cell_type": "code",
   "execution_count": 77,
   "id": "57527a57",
   "metadata": {},
   "outputs": [
    {
     "data": {
      "text/plain": [
       "array([2003, 1976, 'a&b', 2000, 1973, 1965, 1962, 1960, 1970, 1967, 2004,\n",
       "       2002, 2007, 1959, 2005, 1955, 1983, 2006, 1966, 1997, 1963, 1964,\n",
       "       1972, 1953, 1998, 1956, 1968, 2009, 1950, 1961, 1993, 1999, 1985,\n",
       "       1979, 1977, 1990, 1969, 1958, 1971, 1952, 2001, 1975, 1984, 1981,\n",
       "       1987, 1986, 1995, 2008, 1980, 1988, 1954, 1957, 1982, 1951, 1989,\n",
       "       1992, 1978, 1996, 2010, 1974, 1991, 1994], dtype=object)"
      ]
     },
     "execution_count": 77,
     "metadata": {},
     "output_type": "execute_result"
    }
   ],
   "source": [
    "df['YearBuilt'].unique()"
   ]
  },
  {
   "cell_type": "code",
   "execution_count": 78,
   "id": "1d13534a",
   "metadata": {},
   "outputs": [],
   "source": [
    "df.rename(columns={'YearBuilt':'Original construction date'},inplace=True)"
   ]
  },
  {
   "cell_type": "code",
   "execution_count": 79,
   "id": "9bca6233",
   "metadata": {},
   "outputs": [
    {
     "data": {
      "text/html": [
       "<div>\n",
       "<style scoped>\n",
       "    .dataframe tbody tr th:only-of-type {\n",
       "        vertical-align: middle;\n",
       "    }\n",
       "\n",
       "    .dataframe tbody tr th {\n",
       "        vertical-align: top;\n",
       "    }\n",
       "\n",
       "    .dataframe thead th {\n",
       "        text-align: right;\n",
       "    }\n",
       "</style>\n",
       "<table border=\"1\" class=\"dataframe\">\n",
       "  <thead>\n",
       "    <tr style=\"text-align: right;\">\n",
       "      <th></th>\n",
       "      <th>Neighborhood</th>\n",
       "      <th>Proximity to various conditions</th>\n",
       "      <th>Condition2</th>\n",
       "      <th>Type of dwelling</th>\n",
       "      <th>Style of dwelling</th>\n",
       "      <th>Rates the overall material and finish of the house</th>\n",
       "      <th>Rates the overall condition of the house</th>\n",
       "      <th>Original construction date</th>\n",
       "      <th>YearRemodAdd</th>\n",
       "      <th>RoofStyle</th>\n",
       "    </tr>\n",
       "  </thead>\n",
       "  <tbody>\n",
       "    <tr>\n",
       "      <th>0</th>\n",
       "      <td>CollgCr</td>\n",
       "      <td>Normal</td>\n",
       "      <td>Normal</td>\n",
       "      <td>Single-family Detached</td>\n",
       "      <td>Two-story</td>\n",
       "      <td>7</td>\n",
       "      <td>5</td>\n",
       "      <td>2003</td>\n",
       "      <td>2003</td>\n",
       "      <td>Gable</td>\n",
       "    </tr>\n",
       "    <tr>\n",
       "      <th>1</th>\n",
       "      <td>Veenker</td>\n",
       "      <td>Adjacent to feeder street&amp;Normal</td>\n",
       "      <td>Normal</td>\n",
       "      <td>Single-family Detached</td>\n",
       "      <td>One story</td>\n",
       "      <td>6</td>\n",
       "      <td>8</td>\n",
       "      <td>1976</td>\n",
       "      <td>1976</td>\n",
       "      <td>Gable</td>\n",
       "    </tr>\n",
       "    <tr>\n",
       "      <th>2</th>\n",
       "      <td>CollgCr</td>\n",
       "      <td>Normal</td>\n",
       "      <td>Normal</td>\n",
       "      <td>Single-family Detached</td>\n",
       "      <td>Two-story</td>\n",
       "      <td>7</td>\n",
       "      <td>5</td>\n",
       "      <td>a&amp;b</td>\n",
       "      <td>2002</td>\n",
       "      <td>Gable</td>\n",
       "    </tr>\n",
       "    <tr>\n",
       "      <th>3</th>\n",
       "      <td>Crawfor</td>\n",
       "      <td>Normal</td>\n",
       "      <td>Normal</td>\n",
       "      <td>Single-family Detached</td>\n",
       "      <td>Two-story</td>\n",
       "      <td>7</td>\n",
       "      <td>5</td>\n",
       "      <td>a&amp;b</td>\n",
       "      <td>1970</td>\n",
       "      <td>Gable</td>\n",
       "    </tr>\n",
       "    <tr>\n",
       "      <th>4</th>\n",
       "      <td>NoRidge</td>\n",
       "      <td>Normal</td>\n",
       "      <td>Normal</td>\n",
       "      <td>Single-family Detached</td>\n",
       "      <td>Two-story</td>\n",
       "      <td>8</td>\n",
       "      <td>5</td>\n",
       "      <td>2000</td>\n",
       "      <td>2000</td>\n",
       "      <td>Gable</td>\n",
       "    </tr>\n",
       "    <tr>\n",
       "      <th>5</th>\n",
       "      <td>Mitchel</td>\n",
       "      <td>Normal</td>\n",
       "      <td>Normal</td>\n",
       "      <td>Single-family Detached</td>\n",
       "      <td>One and one-half story: 2nd level finished</td>\n",
       "      <td>5</td>\n",
       "      <td>5</td>\n",
       "      <td>a&amp;b</td>\n",
       "      <td>1995</td>\n",
       "      <td>Gable</td>\n",
       "    </tr>\n",
       "    <tr>\n",
       "      <th>6</th>\n",
       "      <td>Somerst</td>\n",
       "      <td>Normal</td>\n",
       "      <td>Normal</td>\n",
       "      <td>Single-family Detached</td>\n",
       "      <td>One story</td>\n",
       "      <td>8</td>\n",
       "      <td>5</td>\n",
       "      <td>a&amp;b</td>\n",
       "      <td>2005</td>\n",
       "      <td>Gable</td>\n",
       "    </tr>\n",
       "    <tr>\n",
       "      <th>7</th>\n",
       "      <td>NWAmes</td>\n",
       "      <td>Near positive off-site feature--park, greenbel...</td>\n",
       "      <td>Normal</td>\n",
       "      <td>Single-family Detached</td>\n",
       "      <td>Two-story</td>\n",
       "      <td>7</td>\n",
       "      <td>6</td>\n",
       "      <td>1973</td>\n",
       "      <td>1973</td>\n",
       "      <td>Gable</td>\n",
       "    </tr>\n",
       "    <tr>\n",
       "      <th>8</th>\n",
       "      <td>OldTown</td>\n",
       "      <td>Adjacent to arterial stree&amp;Normal</td>\n",
       "      <td>Normal</td>\n",
       "      <td>Single-family Detached</td>\n",
       "      <td>One and one-half story: 2nd level finished</td>\n",
       "      <td>7</td>\n",
       "      <td>5</td>\n",
       "      <td>a&amp;b</td>\n",
       "      <td>1950</td>\n",
       "      <td>Gable</td>\n",
       "    </tr>\n",
       "    <tr>\n",
       "      <th>9</th>\n",
       "      <td>BrkSide</td>\n",
       "      <td>Adjacent to arterial stree</td>\n",
       "      <td>Adjacent to arterial stree</td>\n",
       "      <td>2fmCon</td>\n",
       "      <td>One and one-half story: 2nd level unfinished</td>\n",
       "      <td>5</td>\n",
       "      <td>6</td>\n",
       "      <td>a&amp;b</td>\n",
       "      <td>1950</td>\n",
       "      <td>Gable</td>\n",
       "    </tr>\n",
       "    <tr>\n",
       "      <th>10</th>\n",
       "      <td>Sawyer</td>\n",
       "      <td>Normal</td>\n",
       "      <td>Normal</td>\n",
       "      <td>Single-family Detached</td>\n",
       "      <td>One story</td>\n",
       "      <td>5</td>\n",
       "      <td>5</td>\n",
       "      <td>1965</td>\n",
       "      <td>1965</td>\n",
       "      <td>Hip</td>\n",
       "    </tr>\n",
       "  </tbody>\n",
       "</table>\n",
       "</div>"
      ],
      "text/plain": [
       "   Neighborhood                    Proximity to various conditions  \\\n",
       "0       CollgCr                                             Normal   \n",
       "1       Veenker                   Adjacent to feeder street&Normal   \n",
       "2       CollgCr                                             Normal   \n",
       "3       Crawfor                                             Normal   \n",
       "4       NoRidge                                             Normal   \n",
       "5       Mitchel                                             Normal   \n",
       "6       Somerst                                             Normal   \n",
       "7        NWAmes  Near positive off-site feature--park, greenbel...   \n",
       "8       OldTown                  Adjacent to arterial stree&Normal   \n",
       "9       BrkSide                         Adjacent to arterial stree   \n",
       "10       Sawyer                                             Normal   \n",
       "\n",
       "                    Condition2        Type of dwelling  \\\n",
       "0                       Normal  Single-family Detached   \n",
       "1                       Normal  Single-family Detached   \n",
       "2                       Normal  Single-family Detached   \n",
       "3                       Normal  Single-family Detached   \n",
       "4                       Normal  Single-family Detached   \n",
       "5                       Normal  Single-family Detached   \n",
       "6                       Normal  Single-family Detached   \n",
       "7                       Normal  Single-family Detached   \n",
       "8                       Normal  Single-family Detached   \n",
       "9   Adjacent to arterial stree                  2fmCon   \n",
       "10                      Normal  Single-family Detached   \n",
       "\n",
       "                               Style of dwelling  \\\n",
       "0                                      Two-story   \n",
       "1                                      One story   \n",
       "2                                      Two-story   \n",
       "3                                      Two-story   \n",
       "4                                      Two-story   \n",
       "5     One and one-half story: 2nd level finished   \n",
       "6                                      One story   \n",
       "7                                      Two-story   \n",
       "8     One and one-half story: 2nd level finished   \n",
       "9   One and one-half story: 2nd level unfinished   \n",
       "10                                     One story   \n",
       "\n",
       "    Rates the overall material and finish of the house  \\\n",
       "0                                                   7    \n",
       "1                                                   6    \n",
       "2                                                   7    \n",
       "3                                                   7    \n",
       "4                                                   8    \n",
       "5                                                   5    \n",
       "6                                                   8    \n",
       "7                                                   7    \n",
       "8                                                   7    \n",
       "9                                                   5    \n",
       "10                                                  5    \n",
       "\n",
       "    Rates the overall condition of the house Original construction date  \\\n",
       "0                                          5                       2003   \n",
       "1                                          8                       1976   \n",
       "2                                          5                        a&b   \n",
       "3                                          5                        a&b   \n",
       "4                                          5                       2000   \n",
       "5                                          5                        a&b   \n",
       "6                                          5                        a&b   \n",
       "7                                          6                       1973   \n",
       "8                                          5                        a&b   \n",
       "9                                          6                        a&b   \n",
       "10                                         5                       1965   \n",
       "\n",
       "    YearRemodAdd RoofStyle  \n",
       "0           2003     Gable  \n",
       "1           1976     Gable  \n",
       "2           2002     Gable  \n",
       "3           1970     Gable  \n",
       "4           2000     Gable  \n",
       "5           1995     Gable  \n",
       "6           2005     Gable  \n",
       "7           1973     Gable  \n",
       "8           1950     Gable  \n",
       "9           1950     Gable  \n",
       "10          1965       Hip  "
      ]
     },
     "execution_count": 79,
     "metadata": {},
     "output_type": "execute_result"
    }
   ],
   "source": [
    "df.iloc[:11,12:22]"
   ]
  },
  {
   "cell_type": "markdown",
   "id": "3859c485",
   "metadata": {},
   "source": [
    "# Rename RoofStyle: Type of roof"
   ]
  },
  {
   "cell_type": "code",
   "execution_count": 80,
   "id": "48446c6a",
   "metadata": {},
   "outputs": [],
   "source": [
    "df.rename(columns={'RoofStyle':'Type of roof'},inplace=True)"
   ]
  },
  {
   "cell_type": "markdown",
   "id": "3fd9b1ee",
   "metadata": {},
   "source": [
    "# Replace and Rename RoofMatl: Roof material\n",
    "ClyTile = Clay or Tile\n",
    "CompShg = Standard (Composite) Shingle\n",
    "Membran = Membrane\n",
    "Metal   = Metal\n",
    "Roll   = Roll\n",
    "Tar&Grv  = Gravel & Tar\n",
    "WdShake = Wood Shakes\n",
    "WdShngl  = Wood Shingles\n"
   ]
  },
  {
   "cell_type": "code",
   "execution_count": 81,
   "id": "4165fcd2",
   "metadata": {},
   "outputs": [],
   "source": [
    "df['RoofMatl']=df['RoofMatl'].replace({'ClyTile':'Clay or Tile','CompShg':'Standard (Composite) Shingle','Membran':'Membrane','Metal':'Metal','Roll':'Roll','Tar&Grv':'Gravel & Tar','WdShake':'Wood Shakes','WdShngl':'Wood Shingles'})"
   ]
  },
  {
   "cell_type": "code",
   "execution_count": 82,
   "id": "9705f7ce",
   "metadata": {},
   "outputs": [],
   "source": [
    "df.rename(columns={'RoofMatl':'Roof material'},inplace=True)"
   ]
  },
  {
   "cell_type": "code",
   "execution_count": 83,
   "id": "bcdfb059",
   "metadata": {},
   "outputs": [
    {
     "data": {
      "text/plain": [
       "Roof material\n",
       "Standard (Composite) Shingle    1434\n",
       "Gravel & Tar                      11\n",
       "Wood Shingles                      6\n",
       "Wood Shakes                        5\n",
       "Metal                              1\n",
       "Membrane                           1\n",
       "Roll                               1\n",
       "Clay or Tile                       1\n",
       "Name: count, dtype: int64"
      ]
     },
     "execution_count": 83,
     "metadata": {},
     "output_type": "execute_result"
    }
   ],
   "source": [
    "df['Roof material'].value_counts()"
   ]
  },
  {
   "cell_type": "markdown",
   "id": "ee9fad95",
   "metadata": {},
   "source": [
    "# Repace and Rename Exterior1st: Exterior covering on the house,Exterior2nd: Exterior covering on house (if more than one material)\n"
   ]
  },
  {
   "cell_type": "code",
   "execution_count": 84,
   "id": "3cd99d21",
   "metadata": {},
   "outputs": [],
   "source": [
    "df['Exterior1st']=df['Exterior1st'].replace({'AsbShng':'Asbestos Shingles','AsphShn':'Asphalt Shingles','BrkComm':'Brick Common','BrkFace':'Brick Face','CBlock':'Cinder Block','CemntBd':'Cement Board','HdBoard':'Hard Board','ImStucc':'Imitation Stucco','MetalSd':'Metal Siding','Other':'Other','Plywood':'Plywood','PreCast':'PreCast','Stone':'Stone','Stucco':'Stucco','VinylSd':'Vinyl Siding','Wd Sdng':'Wood Siding',' WdShing':'Wood Shingles'})"
   ]
  },
  {
   "cell_type": "code",
   "execution_count": 85,
   "id": "2d753fb9",
   "metadata": {},
   "outputs": [],
   "source": [
    "df['Exterior2nd']=df['Exterior2nd'].replace({'AsbShng':'Asbestos Shingles','AsphShn':'Asphalt Shingles','BrkComm':'Brick Common','BrkFace':'Brick Face','CBlock':'Cinder Block','CemntBd':'Cement Board','HdBoard':'Hard Board','ImStucc':'Imitation Stucco','MetalSd':'Metal Siding','Other':'Other','PlyWood':'PlyWood','PreCast':'PreCast','Stone':'Stone','Stucco':'Stucco','VinylSd':'Vinyl Siding','Wd Sdng':'Wood Siding','WdShing':'Wood Shingles'})"
   ]
  },
  {
   "cell_type": "code",
   "execution_count": 86,
   "id": "44cce1fc",
   "metadata": {},
   "outputs": [],
   "source": [
    "def add_exterior(a,b):\n",
    "    if a!=b:\n",
    "        return 'a' +'&'+ 'b'\n",
    "    else:\n",
    "        return a\n",
    "    "
   ]
  },
  {
   "cell_type": "code",
   "execution_count": 87,
   "id": "c90b28a7",
   "metadata": {},
   "outputs": [],
   "source": [
    "df['Exterior1st']=df.apply(lambda x: add_exterior(x['Exterior1st'],x['Exterior2nd']),axis=1)"
   ]
  },
  {
   "cell_type": "code",
   "execution_count": 88,
   "id": "840bde78",
   "metadata": {},
   "outputs": [],
   "source": [
    "df.rename(columns={'Exterior1st':'Exterior covering on the house'},inplace=True)"
   ]
  },
  {
   "cell_type": "code",
   "execution_count": 89,
   "id": "010f24fb",
   "metadata": {},
   "outputs": [],
   "source": [
    "df.rename(columns={'Exterior2nd':'Exterior covering on house (if more than one material)'},inplace=True)"
   ]
  },
  {
   "cell_type": "code",
   "execution_count": 90,
   "id": "885c4a28",
   "metadata": {
    "scrolled": true
   },
   "outputs": [
    {
     "data": {
      "text/html": [
       "<div>\n",
       "<style scoped>\n",
       "    .dataframe tbody tr th:only-of-type {\n",
       "        vertical-align: middle;\n",
       "    }\n",
       "\n",
       "    .dataframe tbody tr th {\n",
       "        vertical-align: top;\n",
       "    }\n",
       "\n",
       "    .dataframe thead th {\n",
       "        text-align: right;\n",
       "    }\n",
       "</style>\n",
       "<table border=\"1\" class=\"dataframe\">\n",
       "  <thead>\n",
       "    <tr style=\"text-align: right;\">\n",
       "      <th></th>\n",
       "      <th>YearRemodAdd</th>\n",
       "      <th>Type of roof</th>\n",
       "      <th>Roof material</th>\n",
       "      <th>Exterior covering on the house</th>\n",
       "      <th>Exterior covering on house (if more than one material)</th>\n",
       "      <th>MasVnrType</th>\n",
       "      <th>MasVnrArea</th>\n",
       "      <th>ExterQual</th>\n",
       "      <th>ExterCond</th>\n",
       "      <th>Foundation</th>\n",
       "      <th>BsmtQual</th>\n",
       "      <th>BsmtCond</th>\n",
       "    </tr>\n",
       "  </thead>\n",
       "  <tbody>\n",
       "    <tr>\n",
       "      <th>0</th>\n",
       "      <td>2003</td>\n",
       "      <td>Gable</td>\n",
       "      <td>Standard (Composite) Shingle</td>\n",
       "      <td>Vinyl Siding</td>\n",
       "      <td>Vinyl Siding</td>\n",
       "      <td>BrkFace</td>\n",
       "      <td>196</td>\n",
       "      <td>Gd</td>\n",
       "      <td>TA</td>\n",
       "      <td>PConc</td>\n",
       "      <td>Gd</td>\n",
       "      <td>TA</td>\n",
       "    </tr>\n",
       "    <tr>\n",
       "      <th>1</th>\n",
       "      <td>1976</td>\n",
       "      <td>Gable</td>\n",
       "      <td>Standard (Composite) Shingle</td>\n",
       "      <td>Metal Siding</td>\n",
       "      <td>Metal Siding</td>\n",
       "      <td>NaN</td>\n",
       "      <td>0</td>\n",
       "      <td>TA</td>\n",
       "      <td>TA</td>\n",
       "      <td>CBlock</td>\n",
       "      <td>Gd</td>\n",
       "      <td>TA</td>\n",
       "    </tr>\n",
       "    <tr>\n",
       "      <th>2</th>\n",
       "      <td>2002</td>\n",
       "      <td>Gable</td>\n",
       "      <td>Standard (Composite) Shingle</td>\n",
       "      <td>Vinyl Siding</td>\n",
       "      <td>Vinyl Siding</td>\n",
       "      <td>BrkFace</td>\n",
       "      <td>162</td>\n",
       "      <td>Gd</td>\n",
       "      <td>TA</td>\n",
       "      <td>PConc</td>\n",
       "      <td>Gd</td>\n",
       "      <td>TA</td>\n",
       "    </tr>\n",
       "    <tr>\n",
       "      <th>3</th>\n",
       "      <td>1970</td>\n",
       "      <td>Gable</td>\n",
       "      <td>Standard (Composite) Shingle</td>\n",
       "      <td>a&amp;b</td>\n",
       "      <td>Wd Shng</td>\n",
       "      <td>NaN</td>\n",
       "      <td>0</td>\n",
       "      <td>TA</td>\n",
       "      <td>TA</td>\n",
       "      <td>BrkTil</td>\n",
       "      <td>TA</td>\n",
       "      <td>Gd</td>\n",
       "    </tr>\n",
       "    <tr>\n",
       "      <th>4</th>\n",
       "      <td>2000</td>\n",
       "      <td>Gable</td>\n",
       "      <td>Standard (Composite) Shingle</td>\n",
       "      <td>Vinyl Siding</td>\n",
       "      <td>Vinyl Siding</td>\n",
       "      <td>BrkFace</td>\n",
       "      <td>350</td>\n",
       "      <td>Gd</td>\n",
       "      <td>TA</td>\n",
       "      <td>PConc</td>\n",
       "      <td>Gd</td>\n",
       "      <td>TA</td>\n",
       "    </tr>\n",
       "    <tr>\n",
       "      <th>5</th>\n",
       "      <td>1995</td>\n",
       "      <td>Gable</td>\n",
       "      <td>Standard (Composite) Shingle</td>\n",
       "      <td>Vinyl Siding</td>\n",
       "      <td>Vinyl Siding</td>\n",
       "      <td>NaN</td>\n",
       "      <td>0</td>\n",
       "      <td>TA</td>\n",
       "      <td>TA</td>\n",
       "      <td>Wood</td>\n",
       "      <td>Gd</td>\n",
       "      <td>TA</td>\n",
       "    </tr>\n",
       "    <tr>\n",
       "      <th>6</th>\n",
       "      <td>2005</td>\n",
       "      <td>Gable</td>\n",
       "      <td>Standard (Composite) Shingle</td>\n",
       "      <td>Vinyl Siding</td>\n",
       "      <td>Vinyl Siding</td>\n",
       "      <td>Stone</td>\n",
       "      <td>186</td>\n",
       "      <td>Gd</td>\n",
       "      <td>TA</td>\n",
       "      <td>PConc</td>\n",
       "      <td>Ex</td>\n",
       "      <td>TA</td>\n",
       "    </tr>\n",
       "    <tr>\n",
       "      <th>7</th>\n",
       "      <td>1973</td>\n",
       "      <td>Gable</td>\n",
       "      <td>Standard (Composite) Shingle</td>\n",
       "      <td>Hard Board</td>\n",
       "      <td>Hard Board</td>\n",
       "      <td>Stone</td>\n",
       "      <td>240</td>\n",
       "      <td>TA</td>\n",
       "      <td>TA</td>\n",
       "      <td>CBlock</td>\n",
       "      <td>Gd</td>\n",
       "      <td>TA</td>\n",
       "    </tr>\n",
       "    <tr>\n",
       "      <th>8</th>\n",
       "      <td>1950</td>\n",
       "      <td>Gable</td>\n",
       "      <td>Standard (Composite) Shingle</td>\n",
       "      <td>a&amp;b</td>\n",
       "      <td>Wd Shng</td>\n",
       "      <td>NaN</td>\n",
       "      <td>0</td>\n",
       "      <td>TA</td>\n",
       "      <td>TA</td>\n",
       "      <td>BrkTil</td>\n",
       "      <td>TA</td>\n",
       "      <td>TA</td>\n",
       "    </tr>\n",
       "    <tr>\n",
       "      <th>9</th>\n",
       "      <td>1950</td>\n",
       "      <td>Gable</td>\n",
       "      <td>Standard (Composite) Shingle</td>\n",
       "      <td>Metal Siding</td>\n",
       "      <td>Metal Siding</td>\n",
       "      <td>NaN</td>\n",
       "      <td>0</td>\n",
       "      <td>TA</td>\n",
       "      <td>TA</td>\n",
       "      <td>BrkTil</td>\n",
       "      <td>TA</td>\n",
       "      <td>TA</td>\n",
       "    </tr>\n",
       "  </tbody>\n",
       "</table>\n",
       "</div>"
      ],
      "text/plain": [
       "   YearRemodAdd Type of roof                 Roof material  \\\n",
       "0          2003        Gable  Standard (Composite) Shingle   \n",
       "1          1976        Gable  Standard (Composite) Shingle   \n",
       "2          2002        Gable  Standard (Composite) Shingle   \n",
       "3          1970        Gable  Standard (Composite) Shingle   \n",
       "4          2000        Gable  Standard (Composite) Shingle   \n",
       "5          1995        Gable  Standard (Composite) Shingle   \n",
       "6          2005        Gable  Standard (Composite) Shingle   \n",
       "7          1973        Gable  Standard (Composite) Shingle   \n",
       "8          1950        Gable  Standard (Composite) Shingle   \n",
       "9          1950        Gable  Standard (Composite) Shingle   \n",
       "\n",
       "  Exterior covering on the house  \\\n",
       "0                   Vinyl Siding   \n",
       "1                   Metal Siding   \n",
       "2                   Vinyl Siding   \n",
       "3                            a&b   \n",
       "4                   Vinyl Siding   \n",
       "5                   Vinyl Siding   \n",
       "6                   Vinyl Siding   \n",
       "7                     Hard Board   \n",
       "8                            a&b   \n",
       "9                   Metal Siding   \n",
       "\n",
       "  Exterior covering on house (if more than one material) MasVnrType  \\\n",
       "0                                       Vinyl Siding        BrkFace   \n",
       "1                                       Metal Siding            NaN   \n",
       "2                                       Vinyl Siding        BrkFace   \n",
       "3                                            Wd Shng            NaN   \n",
       "4                                       Vinyl Siding        BrkFace   \n",
       "5                                       Vinyl Siding            NaN   \n",
       "6                                       Vinyl Siding          Stone   \n",
       "7                                         Hard Board          Stone   \n",
       "8                                            Wd Shng            NaN   \n",
       "9                                       Metal Siding            NaN   \n",
       "\n",
       "   MasVnrArea ExterQual ExterCond Foundation BsmtQual BsmtCond  \n",
       "0         196        Gd        TA      PConc       Gd       TA  \n",
       "1           0        TA        TA     CBlock       Gd       TA  \n",
       "2         162        Gd        TA      PConc       Gd       TA  \n",
       "3           0        TA        TA     BrkTil       TA       Gd  \n",
       "4         350        Gd        TA      PConc       Gd       TA  \n",
       "5           0        TA        TA       Wood       Gd       TA  \n",
       "6         186        Gd        TA      PConc       Ex       TA  \n",
       "7         240        TA        TA     CBlock       Gd       TA  \n",
       "8           0        TA        TA     BrkTil       TA       TA  \n",
       "9           0        TA        TA     BrkTil       TA       TA  "
      ]
     },
     "execution_count": 90,
     "metadata": {},
     "output_type": "execute_result"
    }
   ],
   "source": [
    "df.iloc[:10,20:32]"
   ]
  },
  {
   "cell_type": "markdown",
   "id": "30ddb7ff",
   "metadata": {},
   "source": [
    "# MasVnrType: Masonry veneer type"
   ]
  },
  {
   "cell_type": "markdown",
   "id": "b5367173",
   "metadata": {},
   "source": [
    "# MasVnrArea: Masonry veneer area in square feet"
   ]
  },
  {
   "cell_type": "markdown",
   "id": "e40e2471",
   "metadata": {},
   "source": [
    "# BrkCmn = Brick Common,BrkFace = Brick Face,CBlock  = Cinder Block,None = None,Stone = Stone"
   ]
  },
  {
   "cell_type": "code",
   "execution_count": 91,
   "id": "f36a4596",
   "metadata": {},
   "outputs": [],
   "source": [
    "df['MasVnrType']=df['MasVnrType'].replace({'BrkCmn':'Brick Common','BrkFace':'Brick Face','CBlock':'Cinder Block','None':'None','Stone':'Stone '})"
   ]
  },
  {
   "cell_type": "code",
   "execution_count": 92,
   "id": "c64b531c",
   "metadata": {},
   "outputs": [],
   "source": [
    "df['MasVnrArea']=df['MasVnrArea'].apply(lambda x:f'{x}squarefeet')"
   ]
  },
  {
   "cell_type": "code",
   "execution_count": 93,
   "id": "4060358e",
   "metadata": {},
   "outputs": [],
   "source": [
    "df.rename(columns={'MasVnrType':'Masonry veneer type'},inplace= True)"
   ]
  },
  {
   "cell_type": "code",
   "execution_count": 94,
   "id": "2e580d10",
   "metadata": {},
   "outputs": [],
   "source": [
    "df.rename(columns={'MasVnrArea':'Masonry veneer area in square feet'},inplace=True)"
   ]
  },
  {
   "cell_type": "code",
   "execution_count": 95,
   "id": "62e83df9",
   "metadata": {},
   "outputs": [],
   "source": [
    "df['Masonry veneer area in square feet']=df['Masonry veneer area in square feet'].apply(lambda x:f'{x}sqare feet') "
   ]
  },
  {
   "cell_type": "code",
   "execution_count": 96,
   "id": "d063661e",
   "metadata": {},
   "outputs": [
    {
     "data": {
      "text/plain": [
       "Masonry veneer area in square feet\n",
       "0squarefeetsqare feet      869\n",
       "180squarefeetsqare feet      8\n",
       "72squarefeetsqare feet       8\n",
       "108squarefeetsqare feet      8\n",
       "120squarefeetsqare feet      7\n",
       "                          ... \n",
       "562squarefeetsqare feet      1\n",
       "89squarefeetsqare feet       1\n",
       "921squarefeetsqare feet      1\n",
       "762squarefeetsqare feet      1\n",
       "119squarefeetsqare feet      1\n",
       "Name: count, Length: 327, dtype: int64"
      ]
     },
     "execution_count": 96,
     "metadata": {},
     "output_type": "execute_result"
    }
   ],
   "source": [
    "df['Masonry veneer area in square feet'].value_counts()"
   ]
  },
  {
   "cell_type": "code",
   "execution_count": 97,
   "id": "c4e91fef",
   "metadata": {},
   "outputs": [
    {
     "data": {
      "text/html": [
       "<div>\n",
       "<style scoped>\n",
       "    .dataframe tbody tr th:only-of-type {\n",
       "        vertical-align: middle;\n",
       "    }\n",
       "\n",
       "    .dataframe tbody tr th {\n",
       "        vertical-align: top;\n",
       "    }\n",
       "\n",
       "    .dataframe thead th {\n",
       "        text-align: right;\n",
       "    }\n",
       "</style>\n",
       "<table border=\"1\" class=\"dataframe\">\n",
       "  <thead>\n",
       "    <tr style=\"text-align: right;\">\n",
       "      <th></th>\n",
       "      <th>YearRemodAdd</th>\n",
       "      <th>Type of roof</th>\n",
       "      <th>Roof material</th>\n",
       "      <th>Exterior covering on the house</th>\n",
       "      <th>Exterior covering on house (if more than one material)</th>\n",
       "      <th>Masonry veneer type</th>\n",
       "      <th>Masonry veneer area in square feet</th>\n",
       "      <th>ExterQual</th>\n",
       "      <th>ExterCond</th>\n",
       "      <th>Foundation</th>\n",
       "    </tr>\n",
       "  </thead>\n",
       "  <tbody>\n",
       "    <tr>\n",
       "      <th>0</th>\n",
       "      <td>2003</td>\n",
       "      <td>Gable</td>\n",
       "      <td>Standard (Composite) Shingle</td>\n",
       "      <td>Vinyl Siding</td>\n",
       "      <td>Vinyl Siding</td>\n",
       "      <td>Brick Face</td>\n",
       "      <td>196squarefeetsqare feet</td>\n",
       "      <td>Gd</td>\n",
       "      <td>TA</td>\n",
       "      <td>PConc</td>\n",
       "    </tr>\n",
       "    <tr>\n",
       "      <th>1</th>\n",
       "      <td>1976</td>\n",
       "      <td>Gable</td>\n",
       "      <td>Standard (Composite) Shingle</td>\n",
       "      <td>Metal Siding</td>\n",
       "      <td>Metal Siding</td>\n",
       "      <td>NaN</td>\n",
       "      <td>0squarefeetsqare feet</td>\n",
       "      <td>TA</td>\n",
       "      <td>TA</td>\n",
       "      <td>CBlock</td>\n",
       "    </tr>\n",
       "    <tr>\n",
       "      <th>2</th>\n",
       "      <td>2002</td>\n",
       "      <td>Gable</td>\n",
       "      <td>Standard (Composite) Shingle</td>\n",
       "      <td>Vinyl Siding</td>\n",
       "      <td>Vinyl Siding</td>\n",
       "      <td>Brick Face</td>\n",
       "      <td>162squarefeetsqare feet</td>\n",
       "      <td>Gd</td>\n",
       "      <td>TA</td>\n",
       "      <td>PConc</td>\n",
       "    </tr>\n",
       "    <tr>\n",
       "      <th>3</th>\n",
       "      <td>1970</td>\n",
       "      <td>Gable</td>\n",
       "      <td>Standard (Composite) Shingle</td>\n",
       "      <td>a&amp;b</td>\n",
       "      <td>Wd Shng</td>\n",
       "      <td>NaN</td>\n",
       "      <td>0squarefeetsqare feet</td>\n",
       "      <td>TA</td>\n",
       "      <td>TA</td>\n",
       "      <td>BrkTil</td>\n",
       "    </tr>\n",
       "    <tr>\n",
       "      <th>4</th>\n",
       "      <td>2000</td>\n",
       "      <td>Gable</td>\n",
       "      <td>Standard (Composite) Shingle</td>\n",
       "      <td>Vinyl Siding</td>\n",
       "      <td>Vinyl Siding</td>\n",
       "      <td>Brick Face</td>\n",
       "      <td>350squarefeetsqare feet</td>\n",
       "      <td>Gd</td>\n",
       "      <td>TA</td>\n",
       "      <td>PConc</td>\n",
       "    </tr>\n",
       "  </tbody>\n",
       "</table>\n",
       "</div>"
      ],
      "text/plain": [
       "   YearRemodAdd Type of roof                 Roof material  \\\n",
       "0          2003        Gable  Standard (Composite) Shingle   \n",
       "1          1976        Gable  Standard (Composite) Shingle   \n",
       "2          2002        Gable  Standard (Composite) Shingle   \n",
       "3          1970        Gable  Standard (Composite) Shingle   \n",
       "4          2000        Gable  Standard (Composite) Shingle   \n",
       "\n",
       "  Exterior covering on the house  \\\n",
       "0                   Vinyl Siding   \n",
       "1                   Metal Siding   \n",
       "2                   Vinyl Siding   \n",
       "3                            a&b   \n",
       "4                   Vinyl Siding   \n",
       "\n",
       "  Exterior covering on house (if more than one material) Masonry veneer type  \\\n",
       "0                                       Vinyl Siding              Brick Face   \n",
       "1                                       Metal Siding                     NaN   \n",
       "2                                       Vinyl Siding              Brick Face   \n",
       "3                                            Wd Shng                     NaN   \n",
       "4                                       Vinyl Siding              Brick Face   \n",
       "\n",
       "  Masonry veneer area in square feet ExterQual ExterCond Foundation  \n",
       "0            196squarefeetsqare feet        Gd        TA      PConc  \n",
       "1              0squarefeetsqare feet        TA        TA     CBlock  \n",
       "2            162squarefeetsqare feet        Gd        TA      PConc  \n",
       "3              0squarefeetsqare feet        TA        TA     BrkTil  \n",
       "4            350squarefeetsqare feet        Gd        TA      PConc  "
      ]
     },
     "execution_count": 97,
     "metadata": {},
     "output_type": "execute_result"
    }
   ],
   "source": [
    "df.iloc[:5,20:30]"
   ]
  },
  {
   "cell_type": "markdown",
   "id": "dc98259d",
   "metadata": {},
   "source": [
    "# ExterQual: Evaluates the quality of the material on the exterior"
   ]
  },
  {
   "cell_type": "markdown",
   "id": "240d22ef",
   "metadata": {},
   "source": [
    "# Ex = Excellent,Gd = Good,TA = Average/Typical, Fa = Fair,Po = Poor"
   ]
  },
  {
   "cell_type": "markdown",
   "id": "a1d269b9",
   "metadata": {},
   "source": [
    "# ExterCond: Evaluates the present condition of the material on the exterior"
   ]
  },
  {
   "cell_type": "markdown",
   "id": "5c7ab11a",
   "metadata": {},
   "source": [
    "# Ex = Excellent, Gd = Good, TA = Average/Typical, Fa = Fair, Po = Poor"
   ]
  },
  {
   "cell_type": "code",
   "execution_count": 98,
   "id": "111c6c38",
   "metadata": {},
   "outputs": [],
   "source": [
    "df['ExterQual']=df['ExterQual'].replace({'Ex':'Excellent','Gd':'Good','TA':'Average/Typical','Fa':'Fair','Po':'Poor'})"
   ]
  },
  {
   "cell_type": "code",
   "execution_count": 99,
   "id": "2f8d35b1",
   "metadata": {},
   "outputs": [],
   "source": [
    "df['ExterCond']=df['ExterCond'].replace({'Ex':'Excellent','Gd':'Good','TA':'Average/Typical','Fa':'Fair','Po':'Poor'})"
   ]
  },
  {
   "cell_type": "code",
   "execution_count": 100,
   "id": "d7dad617",
   "metadata": {},
   "outputs": [
    {
     "data": {
      "text/plain": [
       "ExterQual\n",
       "Average/Typical    906\n",
       "Good               488\n",
       "Excellent           52\n",
       "Fair                14\n",
       "Name: count, dtype: int64"
      ]
     },
     "execution_count": 100,
     "metadata": {},
     "output_type": "execute_result"
    }
   ],
   "source": [
    "df['ExterQual'].value_counts()"
   ]
  },
  {
   "cell_type": "code",
   "execution_count": 101,
   "id": "5f02522b",
   "metadata": {},
   "outputs": [],
   "source": [
    "def add_Qual_cond(ExterQual,ExterCond):\n",
    "    if ExterQual != ExterCond:\n",
    "        return 'ExterQual' +'&'+ 'ExterCond'\n",
    "    else:\n",
    "        return ExterQual"
   ]
  },
  {
   "cell_type": "code",
   "execution_count": 102,
   "id": "a78d3339",
   "metadata": {},
   "outputs": [],
   "source": [
    "df['ExterQual']=df.apply(lambda x:add_Qual_cond(x['ExterQual'],['ExterCond']),axis=1)"
   ]
  },
  {
   "cell_type": "code",
   "execution_count": 103,
   "id": "08e348aa",
   "metadata": {},
   "outputs": [],
   "source": [
    "df.rename(columns={'ExterQual':'Evaluates the quality of the material on the exterior'},inplace=True)"
   ]
  },
  {
   "cell_type": "markdown",
   "id": "f178c1ba",
   "metadata": {},
   "source": [
    "# Foundation: Type of foundation"
   ]
  },
  {
   "cell_type": "markdown",
   "id": "38715f24",
   "metadata": {},
   "source": [
    "# BrkTil =  Brick & Tile, CBlock = Cinder Block, PConc  = Poured Contrete, Slab  = Slab, Stone = Stone, Wood =  Wood\n"
   ]
  },
  {
   "cell_type": "code",
   "execution_count": 104,
   "id": "b55a55dd",
   "metadata": {},
   "outputs": [],
   "source": [
    "df['Foundation']=df['Foundation'].replace({'BrkTil':'Brick & Tile','CBlock':'Cinder Block','PConc':'Poured Contrete','Slab':'Slab','Stone':'Stone','Wood':'Wood'})"
   ]
  },
  {
   "cell_type": "code",
   "execution_count": 105,
   "id": "c9c763cb",
   "metadata": {},
   "outputs": [],
   "source": [
    "df.rename(columns={'Foundation':'Type of foundation'},inplace= True)"
   ]
  },
  {
   "cell_type": "markdown",
   "id": "9bda2028",
   "metadata": {},
   "source": [
    "# BsmtQual: Evaluates the height of the basement"
   ]
  },
  {
   "cell_type": "markdown",
   "id": "35be6364",
   "metadata": {},
   "source": [
    "# Ex = Excellent (100+ inches) \n",
    "Gd = Good (90-99 inches)\n",
    "TA = Typical (80-89 inches)\n",
    "Fa = Fair (70-79 inches)\n",
    "Po = Poor (<70 inches\n",
    "NA = No Basement\n"
   ]
  },
  {
   "cell_type": "code",
   "execution_count": 106,
   "id": "15388c40",
   "metadata": {},
   "outputs": [],
   "source": [
    "df['BsmtQual']=df['BsmtQual'].replace({'Ex':'Excellent (100+ inches)','Gd':'Good (90-99 inches)','TA':'Typical (80-89 inches)','Fa':' Fair (70-79 inches)','Po':'Poor (<70 inches)','NA':' No Basement'})"
   ]
  },
  {
   "cell_type": "code",
   "execution_count": 107,
   "id": "0dce1847",
   "metadata": {},
   "outputs": [],
   "source": [
    "df.rename(columns={'BsmtQual':'Evaluates the height of the basement'},inplace=True)"
   ]
  },
  {
   "cell_type": "markdown",
   "id": "05f23056",
   "metadata": {},
   "source": [
    "# BsmtCond: Evaluate the general condition of the basement"
   ]
  },
  {
   "cell_type": "markdown",
   "id": "671eb47f",
   "metadata": {},
   "source": [
    "# Ex  = Excellent, Gd = Good, TA = Typical - slight dampness allowed, Fa = Fair - dampness or some cracking or settling, Po = Poor - Severe cracking, settling, or wetness, NA = No Basement"
   ]
  },
  {
   "cell_type": "code",
   "execution_count": 108,
   "id": "9ab41c14",
   "metadata": {},
   "outputs": [],
   "source": [
    "df['BsmtCond']=df['BsmtCond'].replace({'Ex':'Excellent','Gd':'Good','TA':'Typical - slight dampness allowed','Fa':'Fair - dampness or some cracking or settling','Po':'Poor - Severe cracking, settling, or wetness','NA':'No Basement'})"
   ]
  },
  {
   "cell_type": "code",
   "execution_count": 109,
   "id": "f90f01ba",
   "metadata": {},
   "outputs": [],
   "source": [
    "def add_bsmnt_cond_qual(a,b):\n",
    "    if a != b:\n",
    "        return a+ '&' +b\n",
    "    else:\n",
    "        return a"
   ]
  },
  {
   "cell_type": "code",
   "execution_count": 110,
   "id": "5d7baa8b",
   "metadata": {},
   "outputs": [],
   "source": [
    "df['BsmtCond']=df.apply(lambda x: add_bsmnt_cond_qual(x['BsmtCond'],x['BsmtExposure']),axis=1) "
   ]
  },
  {
   "cell_type": "code",
   "execution_count": 111,
   "id": "f70e6594",
   "metadata": {},
   "outputs": [],
   "source": [
    "df.rename(columns={'BsmtCond':'Evaluate the general condition of the basement'},inplace=True)"
   ]
  },
  {
   "cell_type": "code",
   "execution_count": 112,
   "id": "3afff31d",
   "metadata": {},
   "outputs": [
    {
     "data": {
      "text/plain": [
       "Evaluate the general condition of the basement\n",
       "Typical - slight dampness allowed&No               878\n",
       "Typical - slight dampness allowed&Av               207\n",
       "Typical - slight dampness allowed&Gd               122\n",
       "Typical - slight dampness allowed&Mn               104\n",
       "Fair - dampness or some cracking or settling&No     39\n",
       "No                                                  37\n",
       "Good&No                                             36\n",
       "Good&Av                                             14\n",
       "Good&Gd                                             10\n",
       "Good&Mn                                              5\n",
       "Fair - dampness or some cracking or settling&Mn      5\n",
       "Poor - Severe cracking, settling, or wetness&Gd      1\n",
       "Poor - Severe cracking, settling, or wetness&No      1\n",
       "Fair - dampness or some cracking or settling&Gd      1\n",
       "Name: count, dtype: int64"
      ]
     },
     "execution_count": 112,
     "metadata": {},
     "output_type": "execute_result"
    }
   ],
   "source": [
    "df['Evaluate the general condition of the basement'].value_counts()"
   ]
  },
  {
   "cell_type": "code",
   "execution_count": 113,
   "id": "872d64f5",
   "metadata": {},
   "outputs": [
    {
     "data": {
      "text/html": [
       "<div>\n",
       "<style scoped>\n",
       "    .dataframe tbody tr th:only-of-type {\n",
       "        vertical-align: middle;\n",
       "    }\n",
       "\n",
       "    .dataframe tbody tr th {\n",
       "        vertical-align: top;\n",
       "    }\n",
       "\n",
       "    .dataframe thead th {\n",
       "        text-align: right;\n",
       "    }\n",
       "</style>\n",
       "<table border=\"1\" class=\"dataframe\">\n",
       "  <thead>\n",
       "    <tr style=\"text-align: right;\">\n",
       "      <th></th>\n",
       "      <th>LotConfig</th>\n",
       "      <th>Slope of property</th>\n",
       "      <th>Neighborhood</th>\n",
       "      <th>Proximity to various conditions</th>\n",
       "      <th>Condition2</th>\n",
       "      <th>Type of dwelling</th>\n",
       "      <th>Style of dwelling</th>\n",
       "      <th>Rates the overall material and finish of the house</th>\n",
       "      <th>Rates the overall condition of the house</th>\n",
       "      <th>Original construction date</th>\n",
       "      <th>YearRemodAdd</th>\n",
       "      <th>Type of roof</th>\n",
       "      <th>Roof material</th>\n",
       "      <th>Exterior covering on the house</th>\n",
       "      <th>Exterior covering on house (if more than one material)</th>\n",
       "      <th>Masonry veneer type</th>\n",
       "      <th>Masonry veneer area in square feet</th>\n",
       "      <th>Evaluates the quality of the material on the exterior</th>\n",
       "      <th>ExterCond</th>\n",
       "      <th>Type of foundation</th>\n",
       "    </tr>\n",
       "  </thead>\n",
       "  <tbody>\n",
       "    <tr>\n",
       "      <th>0</th>\n",
       "      <td>Inside</td>\n",
       "      <td>Gentle slope</td>\n",
       "      <td>CollgCr</td>\n",
       "      <td>Normal</td>\n",
       "      <td>Normal</td>\n",
       "      <td>Single-family Detached</td>\n",
       "      <td>Two-story</td>\n",
       "      <td>7</td>\n",
       "      <td>5</td>\n",
       "      <td>2003</td>\n",
       "      <td>2003</td>\n",
       "      <td>Gable</td>\n",
       "      <td>Standard (Composite) Shingle</td>\n",
       "      <td>Vinyl Siding</td>\n",
       "      <td>Vinyl Siding</td>\n",
       "      <td>Brick Face</td>\n",
       "      <td>196squarefeetsqare feet</td>\n",
       "      <td>ExterQual&amp;ExterCond</td>\n",
       "      <td>Average/Typical</td>\n",
       "      <td>Poured Contrete</td>\n",
       "    </tr>\n",
       "    <tr>\n",
       "      <th>1</th>\n",
       "      <td>Frontage on 2 sides of the property</td>\n",
       "      <td>Gentle slope</td>\n",
       "      <td>Veenker</td>\n",
       "      <td>Adjacent to feeder street&amp;Normal</td>\n",
       "      <td>Normal</td>\n",
       "      <td>Single-family Detached</td>\n",
       "      <td>One story</td>\n",
       "      <td>6</td>\n",
       "      <td>8</td>\n",
       "      <td>1976</td>\n",
       "      <td>1976</td>\n",
       "      <td>Gable</td>\n",
       "      <td>Standard (Composite) Shingle</td>\n",
       "      <td>Metal Siding</td>\n",
       "      <td>Metal Siding</td>\n",
       "      <td>NaN</td>\n",
       "      <td>0squarefeetsqare feet</td>\n",
       "      <td>ExterQual&amp;ExterCond</td>\n",
       "      <td>Average/Typical</td>\n",
       "      <td>Cinder Block</td>\n",
       "    </tr>\n",
       "    <tr>\n",
       "      <th>2</th>\n",
       "      <td>Inside</td>\n",
       "      <td>Gentle slope</td>\n",
       "      <td>CollgCr</td>\n",
       "      <td>Normal</td>\n",
       "      <td>Normal</td>\n",
       "      <td>Single-family Detached</td>\n",
       "      <td>Two-story</td>\n",
       "      <td>7</td>\n",
       "      <td>5</td>\n",
       "      <td>a&amp;b</td>\n",
       "      <td>2002</td>\n",
       "      <td>Gable</td>\n",
       "      <td>Standard (Composite) Shingle</td>\n",
       "      <td>Vinyl Siding</td>\n",
       "      <td>Vinyl Siding</td>\n",
       "      <td>Brick Face</td>\n",
       "      <td>162squarefeetsqare feet</td>\n",
       "      <td>ExterQual&amp;ExterCond</td>\n",
       "      <td>Average/Typical</td>\n",
       "      <td>Poured Contrete</td>\n",
       "    </tr>\n",
       "    <tr>\n",
       "      <th>3</th>\n",
       "      <td>Corner</td>\n",
       "      <td>Gentle slope</td>\n",
       "      <td>Crawfor</td>\n",
       "      <td>Normal</td>\n",
       "      <td>Normal</td>\n",
       "      <td>Single-family Detached</td>\n",
       "      <td>Two-story</td>\n",
       "      <td>7</td>\n",
       "      <td>5</td>\n",
       "      <td>a&amp;b</td>\n",
       "      <td>1970</td>\n",
       "      <td>Gable</td>\n",
       "      <td>Standard (Composite) Shingle</td>\n",
       "      <td>a&amp;b</td>\n",
       "      <td>Wd Shng</td>\n",
       "      <td>NaN</td>\n",
       "      <td>0squarefeetsqare feet</td>\n",
       "      <td>ExterQual&amp;ExterCond</td>\n",
       "      <td>Average/Typical</td>\n",
       "      <td>Brick &amp; Tile</td>\n",
       "    </tr>\n",
       "    <tr>\n",
       "      <th>4</th>\n",
       "      <td>Frontage on 2 sides of the property</td>\n",
       "      <td>Gentle slope</td>\n",
       "      <td>NoRidge</td>\n",
       "      <td>Normal</td>\n",
       "      <td>Normal</td>\n",
       "      <td>Single-family Detached</td>\n",
       "      <td>Two-story</td>\n",
       "      <td>8</td>\n",
       "      <td>5</td>\n",
       "      <td>2000</td>\n",
       "      <td>2000</td>\n",
       "      <td>Gable</td>\n",
       "      <td>Standard (Composite) Shingle</td>\n",
       "      <td>Vinyl Siding</td>\n",
       "      <td>Vinyl Siding</td>\n",
       "      <td>Brick Face</td>\n",
       "      <td>350squarefeetsqare feet</td>\n",
       "      <td>ExterQual&amp;ExterCond</td>\n",
       "      <td>Average/Typical</td>\n",
       "      <td>Poured Contrete</td>\n",
       "    </tr>\n",
       "  </tbody>\n",
       "</table>\n",
       "</div>"
      ],
      "text/plain": [
       "                             LotConfig Slope of property Neighborhood  \\\n",
       "0                               Inside      Gentle slope      CollgCr   \n",
       "1  Frontage on 2 sides of the property      Gentle slope      Veenker   \n",
       "2                               Inside      Gentle slope      CollgCr   \n",
       "3                               Corner      Gentle slope      Crawfor   \n",
       "4  Frontage on 2 sides of the property      Gentle slope      NoRidge   \n",
       "\n",
       "    Proximity to various conditions Condition2        Type of dwelling  \\\n",
       "0                            Normal     Normal  Single-family Detached   \n",
       "1  Adjacent to feeder street&Normal     Normal  Single-family Detached   \n",
       "2                            Normal     Normal  Single-family Detached   \n",
       "3                            Normal     Normal  Single-family Detached   \n",
       "4                            Normal     Normal  Single-family Detached   \n",
       "\n",
       "  Style of dwelling  Rates the overall material and finish of the house  \\\n",
       "0         Two-story                                                  7    \n",
       "1         One story                                                  6    \n",
       "2         Two-story                                                  7    \n",
       "3         Two-story                                                  7    \n",
       "4         Two-story                                                  8    \n",
       "\n",
       "   Rates the overall condition of the house Original construction date  \\\n",
       "0                                         5                       2003   \n",
       "1                                         8                       1976   \n",
       "2                                         5                        a&b   \n",
       "3                                         5                        a&b   \n",
       "4                                         5                       2000   \n",
       "\n",
       "   YearRemodAdd Type of roof                 Roof material  \\\n",
       "0          2003        Gable  Standard (Composite) Shingle   \n",
       "1          1976        Gable  Standard (Composite) Shingle   \n",
       "2          2002        Gable  Standard (Composite) Shingle   \n",
       "3          1970        Gable  Standard (Composite) Shingle   \n",
       "4          2000        Gable  Standard (Composite) Shingle   \n",
       "\n",
       "  Exterior covering on the house  \\\n",
       "0                   Vinyl Siding   \n",
       "1                   Metal Siding   \n",
       "2                   Vinyl Siding   \n",
       "3                            a&b   \n",
       "4                   Vinyl Siding   \n",
       "\n",
       "  Exterior covering on house (if more than one material) Masonry veneer type  \\\n",
       "0                                       Vinyl Siding              Brick Face   \n",
       "1                                       Metal Siding                     NaN   \n",
       "2                                       Vinyl Siding              Brick Face   \n",
       "3                                            Wd Shng                     NaN   \n",
       "4                                       Vinyl Siding              Brick Face   \n",
       "\n",
       "  Masonry veneer area in square feet  \\\n",
       "0            196squarefeetsqare feet   \n",
       "1              0squarefeetsqare feet   \n",
       "2            162squarefeetsqare feet   \n",
       "3              0squarefeetsqare feet   \n",
       "4            350squarefeetsqare feet   \n",
       "\n",
       "  Evaluates the quality of the material on the exterior        ExterCond  \\\n",
       "0                                ExterQual&ExterCond     Average/Typical   \n",
       "1                                ExterQual&ExterCond     Average/Typical   \n",
       "2                                ExterQual&ExterCond     Average/Typical   \n",
       "3                                ExterQual&ExterCond     Average/Typical   \n",
       "4                                ExterQual&ExterCond     Average/Typical   \n",
       "\n",
       "  Type of foundation  \n",
       "0    Poured Contrete  \n",
       "1       Cinder Block  \n",
       "2    Poured Contrete  \n",
       "3       Brick & Tile  \n",
       "4    Poured Contrete  "
      ]
     },
     "execution_count": 113,
     "metadata": {},
     "output_type": "execute_result"
    }
   ],
   "source": [
    "df.iloc[:5,10:30]"
   ]
  },
  {
   "cell_type": "markdown",
   "id": "881f5205",
   "metadata": {},
   "source": [
    "# BsmtExposure: Refers to walkout or garden-level walls"
   ]
  },
  {
   "cell_type": "code",
   "execution_count": 114,
   "id": "5b645c50",
   "metadata": {},
   "outputs": [],
   "source": [
    "df.rename(columns={'BsmtExposure':'Refers to walkout or garden-level walls'},inplace=True)"
   ]
  },
  {
   "cell_type": "code",
   "execution_count": 115,
   "id": "e4627b98",
   "metadata": {},
   "outputs": [
    {
     "data": {
      "text/plain": [
       "Refers to walkout or garden-level walls\n",
       "No    991\n",
       "Av    221\n",
       "Gd    134\n",
       "Mn    114\n",
       "Name: count, dtype: int64"
      ]
     },
     "execution_count": 115,
     "metadata": {},
     "output_type": "execute_result"
    }
   ],
   "source": [
    "df['Refers to walkout or garden-level walls'].value_counts()"
   ]
  },
  {
   "cell_type": "markdown",
   "id": "dd71d76f",
   "metadata": {},
   "source": [
    "# BsmtFinType1: Rating of basement finished area"
   ]
  },
  {
   "cell_type": "code",
   "execution_count": 116,
   "id": "c5729607",
   "metadata": {},
   "outputs": [],
   "source": [
    "df.rename(columns={'BsmtFinType1':'Rating of basement finished area'},inplace=True)"
   ]
  },
  {
   "cell_type": "markdown",
   "id": "25594bc8",
   "metadata": {},
   "source": [
    "# BsmtFinSF1: Type 1 finished square feet"
   ]
  },
  {
   "cell_type": "code",
   "execution_count": 117,
   "id": "3a4e7680",
   "metadata": {},
   "outputs": [],
   "source": [
    "df.rename(columns={'BsmtFinSF1':'Type 1 finished square feet'},inplace=True)"
   ]
  },
  {
   "cell_type": "markdown",
   "id": "38d3c0fa",
   "metadata": {},
   "source": [
    "# BsmtFinType2: Rating of basement finished area (if multiple types)"
   ]
  },
  {
   "cell_type": "markdown",
   "id": "cda13c26",
   "metadata": {},
   "source": [
    "# GLQ  = Good Living Quarters, ALQ  = Average Living Quarters, BLQ  = Below Average Living Quarters, Rec  = Average Rec Room, LwQ  = Low Quality, Unf = Unfinished, NA  = No Basement\n"
   ]
  },
  {
   "cell_type": "code",
   "execution_count": 118,
   "id": "160b6d98",
   "metadata": {},
   "outputs": [],
   "source": [
    "df['BsmtFinType2']=df['BsmtFinType2'].replace({'GLQ':'Good Living Quarters','ALQ':'Average Living Quarters','BLQ':'Below Average Living Quarters','Rec':'Average Rec Room','LwQ':'Low Quality','Unf':'Unfinished','NA':'No Basement'})"
   ]
  },
  {
   "cell_type": "code",
   "execution_count": 119,
   "id": "16c0541a",
   "metadata": {},
   "outputs": [],
   "source": [
    "df.rename(columns={'BsmtFinType2':'Rating of basement finished area (if multiple types)'},inplace=True)"
   ]
  },
  {
   "cell_type": "markdown",
   "id": "730d6e9c",
   "metadata": {},
   "source": [
    "# BsmtFinSF2: Type 2 finished square feet"
   ]
  },
  {
   "cell_type": "code",
   "execution_count": 120,
   "id": "9123ccd6",
   "metadata": {},
   "outputs": [],
   "source": [
    "df.rename(columns={'BsmtFinSF2':'Type 2 finished square feet'},inplace = True)"
   ]
  },
  {
   "cell_type": "code",
   "execution_count": 121,
   "id": "02905d15",
   "metadata": {},
   "outputs": [
    {
     "data": {
      "text/plain": [
       "Type 2 finished square feet\n",
       "0       1293\n",
       "180        5\n",
       "374        3\n",
       "551        2\n",
       "147        2\n",
       "        ... \n",
       "532        1\n",
       "165        1\n",
       "1120       1\n",
       "311        1\n",
       "1029       1\n",
       "Name: count, Length: 144, dtype: int64"
      ]
     },
     "execution_count": 121,
     "metadata": {},
     "output_type": "execute_result"
    }
   ],
   "source": [
    "df['Type 2 finished square feet'].value_counts()"
   ]
  },
  {
   "cell_type": "markdown",
   "id": "2492f712",
   "metadata": {},
   "source": [
    "# BsmtUnfSF: Unfinished square feet of basement area"
   ]
  },
  {
   "cell_type": "code",
   "execution_count": 122,
   "id": "bbb01469",
   "metadata": {},
   "outputs": [],
   "source": [
    "df.rename(columns={'BsmtUnfSF':'Unfinished square feet of basement area'},inplace=True)"
   ]
  },
  {
   "cell_type": "markdown",
   "id": "76e7b0ac",
   "metadata": {},
   "source": [
    "# TotalBsmtSF: Total square feet of basement area"
   ]
  },
  {
   "cell_type": "code",
   "execution_count": 123,
   "id": "614bf18b",
   "metadata": {},
   "outputs": [],
   "source": [
    "df.rename(columns={'TotalBsmtSF':'Total square feet of basement area'},inplace=True)"
   ]
  },
  {
   "cell_type": "markdown",
   "id": "616fcbd7",
   "metadata": {},
   "source": [
    "# Heating: Type of heating"
   ]
  },
  {
   "cell_type": "markdown",
   "id": "2aabee9f",
   "metadata": {},
   "source": [
    "# Floor = Floor Furnace\n",
    "GasA = Gas forced warm air furnace\n",
    "GasW = Gas hot water or steam heat\n",
    "Grav  = Gravity furnace\n",
    "OthW  = Hot water or steam heat other than gas\n",
    "Wall  = all furnace"
   ]
  },
  {
   "cell_type": "code",
   "execution_count": 124,
   "id": "6eb39aa7",
   "metadata": {},
   "outputs": [],
   "source": [
    "df['Heating']=df['Heating'].replace({'GasA':'Gas forced warm air furnace','GasW':'Gas hot water or steam heat','Grav':'Gravity furnace','OthW':'Hot water or steam heat other than gas','Wall':'all furnace'})"
   ]
  },
  {
   "cell_type": "code",
   "execution_count": 125,
   "id": "f89bae12",
   "metadata": {},
   "outputs": [],
   "source": [
    "df.rename(columns={'Heating':'Type of heating'},inplace=True)"
   ]
  },
  {
   "cell_type": "markdown",
   "id": "18bfed47",
   "metadata": {},
   "source": [
    "# HeatingQC: Heating quality and condition"
   ]
  },
  {
   "cell_type": "markdown",
   "id": "e5fd8417",
   "metadata": {},
   "source": [
    "# Ex = Excellent, Gd = Good, TA = Average/Typical, Fa = Fair, Po = Poor"
   ]
  },
  {
   "cell_type": "code",
   "execution_count": 126,
   "id": "4737a483",
   "metadata": {},
   "outputs": [],
   "source": [
    "df['HeatingQC']=df['HeatingQC'].replace({'Ex':'Excellent','Gd':'Good','TA':'Average/Typical','Fa':'Fair','Po':'Poor'})"
   ]
  },
  {
   "cell_type": "markdown",
   "id": "5ddfba8d",
   "metadata": {},
   "source": [
    "# CentralAir: Central air conditioning"
   ]
  },
  {
   "cell_type": "markdown",
   "id": "8f6b5377",
   "metadata": {},
   "source": [
    "# N = No, Y = Yes"
   ]
  },
  {
   "cell_type": "code",
   "execution_count": 127,
   "id": "4f081eae",
   "metadata": {},
   "outputs": [],
   "source": [
    "df['CentralAir']=df['CentralAir'].replace({'N':'No','Y':'Yes'})"
   ]
  },
  {
   "cell_type": "code",
   "execution_count": 128,
   "id": "51315037",
   "metadata": {},
   "outputs": [],
   "source": [
    "df.rename(columns={'CentralAir':'Central air conditioning'},inplace=True)"
   ]
  },
  {
   "cell_type": "markdown",
   "id": "5fe9ca61",
   "metadata": {},
   "source": [
    "# Electrical: Electrical system"
   ]
  },
  {
   "cell_type": "code",
   "execution_count": 129,
   "id": "5a5d8711",
   "metadata": {},
   "outputs": [],
   "source": [
    "df.rename({'Electrical':'Electrical system'},inplace=True)"
   ]
  },
  {
   "cell_type": "markdown",
   "id": "e9e18242",
   "metadata": {},
   "source": [
    "# 1stFlrSF:First Floor square feet"
   ]
  },
  {
   "cell_type": "code",
   "execution_count": 130,
   "id": "79093643",
   "metadata": {},
   "outputs": [],
   "source": [
    "df.rename(columns={'1stFlrSF':'First Floor square feet'},inplace=True)"
   ]
  },
  {
   "cell_type": "markdown",
   "id": "e27a046e",
   "metadata": {},
   "source": [
    "# 2ndFlrSF:Second-floor square feet"
   ]
  },
  {
   "cell_type": "code",
   "execution_count": 131,
   "id": "e8bf4404",
   "metadata": {},
   "outputs": [],
   "source": [
    "df.rename(columns={'2ndFlrSF':'Second-floor square feet'},inplace=True)"
   ]
  },
  {
   "cell_type": "markdown",
   "id": "bb5576bd",
   "metadata": {},
   "source": [
    "# LowQualFinSF:Low-quality finished square feet (all floors)"
   ]
  },
  {
   "cell_type": "code",
   "execution_count": 132,
   "id": "a581d7a0",
   "metadata": {},
   "outputs": [],
   "source": [
    "df.rename(columns={'LowQualFinSF':'Low-quality finished square feet (all floors)'},inplace=True)"
   ]
  },
  {
   "cell_type": "code",
   "execution_count": 133,
   "id": "2e6420ce",
   "metadata": {},
   "outputs": [],
   "source": [
    "df['Low-quality finished square feet (all floors)']=df['Low-quality finished square feet (all floors)'].apply(lambda x: f'{x}square feet')"
   ]
  },
  {
   "cell_type": "markdown",
   "id": "ceed5bd5",
   "metadata": {},
   "source": [
    "# GrLivArea: Above grade (ground) living area square feet"
   ]
  },
  {
   "cell_type": "code",
   "execution_count": 134,
   "id": "5d518be1",
   "metadata": {},
   "outputs": [],
   "source": [
    "df.rename(columns={'GrLivArea':'Above grade (ground) living area square feet'},inplace=True)"
   ]
  },
  {
   "cell_type": "code",
   "execution_count": 135,
   "id": "8a20c7cf",
   "metadata": {},
   "outputs": [
    {
     "data": {
      "text/plain": [
       "BsmtFullBath\n",
       "0    856\n",
       "1    588\n",
       "2     15\n",
       "3      1\n",
       "Name: count, dtype: int64"
      ]
     },
     "execution_count": 135,
     "metadata": {},
     "output_type": "execute_result"
    }
   ],
   "source": [
    "df['BsmtFullBath'].value_counts()"
   ]
  },
  {
   "cell_type": "code",
   "execution_count": 136,
   "id": "03aace96",
   "metadata": {},
   "outputs": [
    {
     "data": {
      "text/plain": [
       "BsmtHalfBath\n",
       "0    1378\n",
       "1      80\n",
       "2       2\n",
       "Name: count, dtype: int64"
      ]
     },
     "execution_count": 136,
     "metadata": {},
     "output_type": "execute_result"
    }
   ],
   "source": [
    "df['BsmtHalfBath'].value_counts()"
   ]
  },
  {
   "cell_type": "markdown",
   "id": "faf64c2a",
   "metadata": {},
   "source": [
    "# BsmtFullBath And BsmtHalfBath both column in most value_counts have zero then we can drop the columns"
   ]
  },
  {
   "cell_type": "code",
   "execution_count": 137,
   "id": "a60052e2",
   "metadata": {},
   "outputs": [],
   "source": [
    "df.drop(['BsmtFullBath','BsmtHalfBath'],inplace=True,axis=1)"
   ]
  },
  {
   "cell_type": "markdown",
   "id": "ce8ba746",
   "metadata": {},
   "source": [
    "# FullBath: Full bathrooms above grade"
   ]
  },
  {
   "cell_type": "code",
   "execution_count": 138,
   "id": "d5110a68",
   "metadata": {},
   "outputs": [],
   "source": [
    "df.rename(columns={'FullBath':'Full bathrooms above grade'},inplace=True)"
   ]
  },
  {
   "cell_type": "markdown",
   "id": "5bf1f477",
   "metadata": {},
   "source": [
    "# HalfBath: Half baths above grade"
   ]
  },
  {
   "cell_type": "code",
   "execution_count": 139,
   "id": "785199de",
   "metadata": {},
   "outputs": [],
   "source": [
    "df.rename(columns={'HalfBath':'Half baths above grade'},inplace=True)"
   ]
  },
  {
   "cell_type": "markdown",
   "id": "506d3be9",
   "metadata": {},
   "source": [
    "# Bedroom: Bedrooms above grade (does NOT include basement bedrooms)"
   ]
  },
  {
   "cell_type": "code",
   "execution_count": 140,
   "id": "8a70b3d5",
   "metadata": {},
   "outputs": [],
   "source": [
    "df.rename(columns={'Bedroom':'Bedrooms above grade (does NOT include basement bedrooms)'},inplace=True)"
   ]
  },
  {
   "cell_type": "code",
   "execution_count": 141,
   "id": "b054585f",
   "metadata": {},
   "outputs": [
    {
     "data": {
      "text/html": [
       "<div>\n",
       "<style scoped>\n",
       "    .dataframe tbody tr th:only-of-type {\n",
       "        vertical-align: middle;\n",
       "    }\n",
       "\n",
       "    .dataframe tbody tr th {\n",
       "        vertical-align: top;\n",
       "    }\n",
       "\n",
       "    .dataframe thead th {\n",
       "        text-align: right;\n",
       "    }\n",
       "</style>\n",
       "<table border=\"1\" class=\"dataframe\">\n",
       "  <thead>\n",
       "    <tr style=\"text-align: right;\">\n",
       "      <th></th>\n",
       "      <th>Evaluates the height of the basement</th>\n",
       "      <th>Evaluate the general condition of the basement</th>\n",
       "      <th>Refers to walkout or garden-level walls</th>\n",
       "      <th>Rating of basement finished area</th>\n",
       "      <th>Type 1 finished square feet</th>\n",
       "      <th>Rating of basement finished area (if multiple types)</th>\n",
       "      <th>Type 2 finished square feet</th>\n",
       "      <th>Unfinished square feet of basement area</th>\n",
       "      <th>Total square feet of basement area</th>\n",
       "      <th>Type of heating</th>\n",
       "      <th>HeatingQC</th>\n",
       "      <th>Central air conditioning</th>\n",
       "      <th>Electrical</th>\n",
       "      <th>First Floor square feet</th>\n",
       "      <th>Second-floor square feet</th>\n",
       "      <th>Low-quality finished square feet (all floors)</th>\n",
       "      <th>Above grade (ground) living area square feet</th>\n",
       "      <th>Full bathrooms above grade</th>\n",
       "      <th>Half baths above grade</th>\n",
       "      <th>BedroomAbvGr</th>\n",
       "    </tr>\n",
       "  </thead>\n",
       "  <tbody>\n",
       "    <tr>\n",
       "      <th>0</th>\n",
       "      <td>Good (90-99 inches)</td>\n",
       "      <td>Typical - slight dampness allowed&amp;No</td>\n",
       "      <td>No</td>\n",
       "      <td>GLQ</td>\n",
       "      <td>706</td>\n",
       "      <td>Unfinished</td>\n",
       "      <td>0</td>\n",
       "      <td>150</td>\n",
       "      <td>856</td>\n",
       "      <td>Gas forced warm air furnace</td>\n",
       "      <td>Excellent</td>\n",
       "      <td>Yes</td>\n",
       "      <td>SBrkr</td>\n",
       "      <td>856</td>\n",
       "      <td>854</td>\n",
       "      <td>0square feet</td>\n",
       "      <td>1710</td>\n",
       "      <td>2</td>\n",
       "      <td>1</td>\n",
       "      <td>3</td>\n",
       "    </tr>\n",
       "    <tr>\n",
       "      <th>1</th>\n",
       "      <td>Good (90-99 inches)</td>\n",
       "      <td>Typical - slight dampness allowed&amp;Gd</td>\n",
       "      <td>Gd</td>\n",
       "      <td>ALQ</td>\n",
       "      <td>978</td>\n",
       "      <td>Unfinished</td>\n",
       "      <td>0</td>\n",
       "      <td>284</td>\n",
       "      <td>1262</td>\n",
       "      <td>Gas forced warm air furnace</td>\n",
       "      <td>Excellent</td>\n",
       "      <td>Yes</td>\n",
       "      <td>SBrkr</td>\n",
       "      <td>1262</td>\n",
       "      <td>0</td>\n",
       "      <td>0square feet</td>\n",
       "      <td>1262</td>\n",
       "      <td>2</td>\n",
       "      <td>0</td>\n",
       "      <td>3</td>\n",
       "    </tr>\n",
       "    <tr>\n",
       "      <th>2</th>\n",
       "      <td>Good (90-99 inches)</td>\n",
       "      <td>Typical - slight dampness allowed&amp;Mn</td>\n",
       "      <td>Mn</td>\n",
       "      <td>GLQ</td>\n",
       "      <td>486</td>\n",
       "      <td>Unfinished</td>\n",
       "      <td>0</td>\n",
       "      <td>434</td>\n",
       "      <td>920</td>\n",
       "      <td>Gas forced warm air furnace</td>\n",
       "      <td>Excellent</td>\n",
       "      <td>Yes</td>\n",
       "      <td>SBrkr</td>\n",
       "      <td>920</td>\n",
       "      <td>866</td>\n",
       "      <td>0square feet</td>\n",
       "      <td>1786</td>\n",
       "      <td>2</td>\n",
       "      <td>1</td>\n",
       "      <td>3</td>\n",
       "    </tr>\n",
       "  </tbody>\n",
       "</table>\n",
       "</div>"
      ],
      "text/plain": [
       "  Evaluates the height of the basement  \\\n",
       "0                  Good (90-99 inches)   \n",
       "1                  Good (90-99 inches)   \n",
       "2                  Good (90-99 inches)   \n",
       "\n",
       "  Evaluate the general condition of the basement  \\\n",
       "0           Typical - slight dampness allowed&No   \n",
       "1           Typical - slight dampness allowed&Gd   \n",
       "2           Typical - slight dampness allowed&Mn   \n",
       "\n",
       "  Refers to walkout or garden-level walls Rating of basement finished area  \\\n",
       "0                                      No                              GLQ   \n",
       "1                                      Gd                              ALQ   \n",
       "2                                      Mn                              GLQ   \n",
       "\n",
       "   Type 1 finished square feet  \\\n",
       "0                          706   \n",
       "1                          978   \n",
       "2                          486   \n",
       "\n",
       "  Rating of basement finished area (if multiple types)  \\\n",
       "0                                         Unfinished     \n",
       "1                                         Unfinished     \n",
       "2                                         Unfinished     \n",
       "\n",
       "   Type 2 finished square feet  Unfinished square feet of basement area  \\\n",
       "0                            0                                      150   \n",
       "1                            0                                      284   \n",
       "2                            0                                      434   \n",
       "\n",
       "   Total square feet of basement area              Type of heating  HeatingQC  \\\n",
       "0                                 856  Gas forced warm air furnace  Excellent   \n",
       "1                                1262  Gas forced warm air furnace  Excellent   \n",
       "2                                 920  Gas forced warm air furnace  Excellent   \n",
       "\n",
       "  Central air conditioning Electrical  First Floor square feet  \\\n",
       "0                      Yes      SBrkr                      856   \n",
       "1                      Yes      SBrkr                     1262   \n",
       "2                      Yes      SBrkr                      920   \n",
       "\n",
       "   Second-floor square feet Low-quality finished square feet (all floors)  \\\n",
       "0                       854                                  0square feet   \n",
       "1                         0                                  0square feet   \n",
       "2                       866                                  0square feet   \n",
       "\n",
       "   Above grade (ground) living area square feet  Full bathrooms above grade  \\\n",
       "0                                          1710                           2   \n",
       "1                                          1262                           2   \n",
       "2                                          1786                           2   \n",
       "\n",
       "   Half baths above grade  BedroomAbvGr  \n",
       "0                       1             3  \n",
       "1                       0             3  \n",
       "2                       1             3  "
      ]
     },
     "execution_count": 141,
     "metadata": {},
     "output_type": "execute_result"
    }
   ],
   "source": [
    "df.iloc[:3,30:50]"
   ]
  },
  {
   "cell_type": "markdown",
   "id": "dab0f885",
   "metadata": {},
   "source": [
    "# Kitchen: Kitchens above grade"
   ]
  },
  {
   "cell_type": "code",
   "execution_count": 142,
   "id": "1c5b2b9d",
   "metadata": {},
   "outputs": [],
   "source": [
    "df.rename(columns={'Kitchen':'Kitchens above grade'},inplace=True)"
   ]
  },
  {
   "cell_type": "markdown",
   "id": "3a4f5463",
   "metadata": {},
   "source": [
    "# KitchenQual: Kitchen Quality"
   ]
  },
  {
   "cell_type": "markdown",
   "id": "d347bb02",
   "metadata": {},
   "source": [
    "# Ex = Excellent, Gd = Good, TA = Typical/Average, Fa = Fair, Po = Poor"
   ]
  },
  {
   "cell_type": "code",
   "execution_count": 143,
   "id": "dd59112d",
   "metadata": {},
   "outputs": [],
   "source": [
    "df['KitchenQual']=df['KitchenQual'].replace({'Ex':'Excellent','Gd':'Good','TA':'Typical/Average','Fa':'Fair','Po':'Poor'})"
   ]
  },
  {
   "cell_type": "code",
   "execution_count": 144,
   "id": "ef9c49b7",
   "metadata": {
    "scrolled": true
   },
   "outputs": [
    {
     "data": {
      "text/plain": [
       "KitchenQual\n",
       "Typical/Average    735\n",
       "Good               586\n",
       "Excellent          100\n",
       "Fair                39\n",
       "Name: count, dtype: int64"
      ]
     },
     "execution_count": 144,
     "metadata": {},
     "output_type": "execute_result"
    }
   ],
   "source": [
    "\n",
    "df['KitchenQual'].value_counts()"
   ]
  },
  {
   "cell_type": "markdown",
   "id": "533068e4",
   "metadata": {},
   "source": [
    "# TotRmsAbvGrd: Total rooms above grade (does not include bathrooms)"
   ]
  },
  {
   "cell_type": "code",
   "execution_count": 145,
   "id": "f244f82a",
   "metadata": {},
   "outputs": [],
   "source": [
    "df.rename(columns={'TotRmsAbvGrd':' Total rooms above grade (does not include bathrooms)'},inplace=True)"
   ]
  },
  {
   "cell_type": "markdown",
   "id": "83f116da",
   "metadata": {},
   "source": [
    "# Functional: Home functionality (Assume typical unless deductions are warranted)"
   ]
  },
  {
   "cell_type": "markdown",
   "id": "f47e1e21",
   "metadata": {},
   "source": [
    "# Typ = Typical Functionality, Min1 =  Minor Deductions 1, Min2 = Minor Deductions ,Mod  = Moderate Deductions, Maj1 = Major Deductions 1, Maj2 = Major Deductions 2, Sev  = Severely Damaged, Sal = alvage only\n"
   ]
  },
  {
   "cell_type": "code",
   "execution_count": 146,
   "id": "77d96530",
   "metadata": {},
   "outputs": [],
   "source": [
    "df['Functional']=df['Functional'].replace({'Typ':'Typical Functionality','Min1':'Minor Deductions 1','Min2':' Minor Deductions 2','Mod':' Moderate Deductions','Maj1':'Major Deductions 1','Maj2':'Major Deductions 2','Sev':'Severely Damaged','Sal':'alvage only'})"
   ]
  },
  {
   "cell_type": "code",
   "execution_count": 147,
   "id": "9d7c7116",
   "metadata": {},
   "outputs": [],
   "source": [
    "df.rename(columns={'Functional':'Home functionality (Assume typical unless deductions are warranted)'},inplace=True)"
   ]
  },
  {
   "cell_type": "code",
   "execution_count": 148,
   "id": "c62b3883",
   "metadata": {},
   "outputs": [
    {
     "data": {
      "text/plain": [
       "Home functionality (Assume typical unless deductions are warranted)\n",
       "Typical Functionality    1360\n",
       " Minor Deductions 2        34\n",
       "Minor Deductions 1         31\n",
       " Moderate Deductions       15\n",
       "Major Deductions 1         14\n",
       "Major Deductions 2          5\n",
       "Severely Damaged            1\n",
       "Name: count, dtype: int64"
      ]
     },
     "execution_count": 148,
     "metadata": {},
     "output_type": "execute_result"
    }
   ],
   "source": [
    "df['Home functionality (Assume typical unless deductions are warranted)'].value_counts()"
   ]
  },
  {
   "cell_type": "markdown",
   "id": "a75dce27",
   "metadata": {},
   "source": [
    "# Fireplaces: Number of fireplaces"
   ]
  },
  {
   "cell_type": "code",
   "execution_count": 149,
   "id": "fe06da1b",
   "metadata": {},
   "outputs": [],
   "source": [
    "df.rename(columns={'Fireplaces':'Number of fireplaces'},inplace=True)"
   ]
  },
  {
   "cell_type": "markdown",
   "id": "6827b8fb",
   "metadata": {},
   "source": [
    "# FireplaceQu: Fireplace quality"
   ]
  },
  {
   "cell_type": "code",
   "execution_count": 150,
   "id": "cff5b621",
   "metadata": {},
   "outputs": [],
   "source": [
    "df.rename(columns={'FireplaceQu':'Fireplace quality'},inplace=True)"
   ]
  },
  {
   "cell_type": "markdown",
   "id": "4c7b9392",
   "metadata": {},
   "source": [
    "# Ex = Excellent - Exceptional Masonry Fireplace, Gd = Good - Masonry Fireplace on the main level, TA = Average - Prefabricated Fireplace in the main living area or Masonry Fireplace in the basement, Fa = Fair - Prefabricated Fireplace in the basement, Po = Poor - Ben Franklin Stove, NA = No Fireplace"
   ]
  },
  {
   "cell_type": "code",
   "execution_count": 151,
   "id": "f422bf56",
   "metadata": {},
   "outputs": [],
   "source": [
    "df['Fireplace quality']=df['Fireplace quality'].replace({'Ex':'Excellent - Exceptional Masonry Fireplace','Gd':'Good - Masonry Fireplace on the main level','TA':'Average - Prefabricated Fireplace in the main living area or Masonry Fireplace in the basement','Fa':'Fair - Prefabricated Fireplace in the basement','Po':'Poor - Ben Franklin Stove','NA':'No Faireplace'})"
   ]
  },
  {
   "cell_type": "markdown",
   "id": "f1a678ef",
   "metadata": {},
   "source": [
    "# GarageType: Garage location"
   ]
  },
  {
   "cell_type": "markdown",
   "id": "b5371d04",
   "metadata": {},
   "source": [
    "# 2Types = More than one type of garage,  Attchd = Attached to the home, Basment = Basement Garage, BuiltIn = Built-In (Garage part of the house - typically has room above the garage), CarPort = Car Port, Detchd  = Detached from home, NA = No Garage"
   ]
  },
  {
   "cell_type": "code",
   "execution_count": 152,
   "id": "3cbc8a80",
   "metadata": {},
   "outputs": [],
   "source": [
    "df['GarageType']=df['GarageType'].replace({'2Types':'More than one type of garage','Attchd':'Attached to the home','Basment':'Basement Garage','BuiltIn':'Built-In (Garage part of the house - typically has room above the garage)','CarPort':'Car Port','Detchd':'Detached from home','NA':'No Garage'})"
   ]
  },
  {
   "cell_type": "code",
   "execution_count": 153,
   "id": "f373aa46",
   "metadata": {},
   "outputs": [],
   "source": [
    "df.rename(columns={'GarageType':'Garage location'},inplace=True)"
   ]
  },
  {
   "cell_type": "markdown",
   "id": "25cbe836",
   "metadata": {},
   "source": [
    "# GarageYrBlt: The year garage was built"
   ]
  },
  {
   "cell_type": "markdown",
   "id": "b217b6af",
   "metadata": {},
   "source": [
    "# GarageFinish: Interior finish of the garage, Fin = Finished, RFn = Rough Finished, Unf = Unfinished, NA = No Garage"
   ]
  },
  {
   "cell_type": "code",
   "execution_count": 154,
   "id": "d32f3153",
   "metadata": {},
   "outputs": [],
   "source": [
    "df['GarageYrBlt']=df['GarageYrBlt'].replace({'GarageFinish':'Interior finish of the garage','Fin':'Finished','RFn':'Rough Finished','Unf':'Unfinished','NA':'No Garage'})"
   ]
  },
  {
   "cell_type": "code",
   "execution_count": 155,
   "id": "229501e8",
   "metadata": {},
   "outputs": [],
   "source": [
    "df.rename(columns={'GarageYrBlt':'The year garage was built'},inplace=True)"
   ]
  },
  {
   "cell_type": "markdown",
   "id": "dab20b67",
   "metadata": {},
   "source": [
    "# GarageCars: Size of garage in car capacity"
   ]
  },
  {
   "cell_type": "markdown",
   "id": "bc8e6ba1",
   "metadata": {},
   "source": [
    "# GarageArea: Size of garage in square feet"
   ]
  },
  {
   "cell_type": "markdown",
   "id": "5b88da19",
   "metadata": {},
   "source": [
    "# GarageQual: Garage quality, Ex  = Excellent, Gd = Good, TA = Typical/Average, Fa = Fair, Po = Poor, NA = No Garage\n"
   ]
  },
  {
   "cell_type": "code",
   "execution_count": 156,
   "id": "b375d463",
   "metadata": {},
   "outputs": [],
   "source": [
    "df['GarageQual']=df['GarageQual'].replace({'Ex':'Excellent','Gd':'Good','TA':'Typical/Average','Fa':'Fair','Po':'Poor','NA':'No Garage'})"
   ]
  },
  {
   "cell_type": "code",
   "execution_count": 157,
   "id": "4af4e693",
   "metadata": {},
   "outputs": [],
   "source": [
    "df.rename(columns={'GarageCars':'Size of garage in car capacity'},inplace=True)"
   ]
  },
  {
   "cell_type": "code",
   "execution_count": 158,
   "id": "ece8b6b4",
   "metadata": {},
   "outputs": [],
   "source": [
    "df.rename(columns={'GarageArea':'Size of garage in square feet'},inplace=True)"
   ]
  },
  {
   "cell_type": "code",
   "execution_count": 159,
   "id": "71318c79",
   "metadata": {},
   "outputs": [],
   "source": [
    "df['Size of garage in square feet']=df['Size of garage in square feet'].apply(lambda x: f'{x}square feet')"
   ]
  },
  {
   "cell_type": "markdown",
   "id": "c3f8ed88",
   "metadata": {},
   "source": [
    "# PavedDrive: Paved driveway"
   ]
  },
  {
   "cell_type": "markdown",
   "id": "ea4c5bf6",
   "metadata": {},
   "source": [
    "# Y = Paved, P = Partial Pavement, N = Dirt/Gravel"
   ]
  },
  {
   "cell_type": "code",
   "execution_count": 160,
   "id": "8b859ec3",
   "metadata": {},
   "outputs": [],
   "source": [
    "df['PavedDrive']=df['PavedDrive'].replace({'Y':'Paved','P':'Partial Pavement','N':'Dirt/Gravel'})"
   ]
  },
  {
   "cell_type": "code",
   "execution_count": 161,
   "id": "0fc9cc14",
   "metadata": {},
   "outputs": [],
   "source": [
    "df.rename(columns={'PavedDrive':'Paved driveway'},inplace=True)"
   ]
  },
  {
   "cell_type": "markdown",
   "id": "34d701df",
   "metadata": {},
   "source": [
    "# WoodDeckSF:Wood deck area in square feet"
   ]
  },
  {
   "cell_type": "code",
   "execution_count": 162,
   "id": "05b2095b",
   "metadata": {},
   "outputs": [],
   "source": [
    "df['WoodDeckSF']=df['WoodDeckSF'].apply(lambda x: f'{x}square feet')"
   ]
  },
  {
   "cell_type": "code",
   "execution_count": 163,
   "id": "bd2a5684",
   "metadata": {},
   "outputs": [],
   "source": [
    "df.rename(columns={'WoodDeckSF':'Wood deck area in square feet'},inplace=True)"
   ]
  },
  {
   "cell_type": "markdown",
   "id": "87fef9fc",
   "metadata": {},
   "source": [
    "# OpenPorchSF:Open porch area in square feet"
   ]
  },
  {
   "cell_type": "code",
   "execution_count": 164,
   "id": "5b0d512d",
   "metadata": {},
   "outputs": [],
   "source": [
    "df['OpenPorchSF']=df['OpenPorchSF'].apply(lambda x: f'{x}square feet')"
   ]
  },
  {
   "cell_type": "code",
   "execution_count": 165,
   "id": "3160971f",
   "metadata": {},
   "outputs": [],
   "source": [
    "df.rename(columns={'OpenPorchSF':'Open porch area in square feet'},inplace=True)"
   ]
  },
  {
   "cell_type": "markdown",
   "id": "d6d0b813",
   "metadata": {},
   "source": [
    "# EnclosedPorch:Enclosed porch area in square feet"
   ]
  },
  {
   "cell_type": "code",
   "execution_count": 166,
   "id": "b82cf00d",
   "metadata": {},
   "outputs": [],
   "source": [
    "df['EnclosedPorch']=df['EnclosedPorch'].apply(lambda x: f'{x}square feet')"
   ]
  },
  {
   "cell_type": "code",
   "execution_count": 167,
   "id": "13913c04",
   "metadata": {},
   "outputs": [],
   "source": [
    "df.rename(columns={'EnclosedPorch':'Enclosed porch area in square feet'},inplace=True)"
   ]
  },
  {
   "cell_type": "markdown",
   "id": "2664b61d",
   "metadata": {},
   "source": [
    "# 3SsnPorch:Three-season porch area in square feet"
   ]
  },
  {
   "cell_type": "code",
   "execution_count": 168,
   "id": "9795570d",
   "metadata": {},
   "outputs": [],
   "source": [
    "df['3SsnPorch']=df['3SsnPorch'].apply(lambda x: f'{x}square feet')"
   ]
  },
  {
   "cell_type": "code",
   "execution_count": 169,
   "id": "c4b0cefc",
   "metadata": {},
   "outputs": [],
   "source": [
    "df.rename(columns={'3SsnPorch':'Three-season porch area in square feet'},inplace=True)"
   ]
  },
  {
   "cell_type": "markdown",
   "id": "c593c1c7",
   "metadata": {},
   "source": [
    "# ScreenPorch:Screen porch area in square feet"
   ]
  },
  {
   "cell_type": "code",
   "execution_count": 170,
   "id": "4d71859a",
   "metadata": {},
   "outputs": [],
   "source": [
    "df['ScreenPorch']=df['ScreenPorch'].apply(lambda x: f'{x}square feet')"
   ]
  },
  {
   "cell_type": "code",
   "execution_count": 171,
   "id": "6497be81",
   "metadata": {},
   "outputs": [],
   "source": [
    "df.rename(columns={'ScreenPorch':'Screen porch area in square feet'},inplace=True)"
   ]
  },
  {
   "cell_type": "markdown",
   "id": "b6f5e435",
   "metadata": {},
   "source": [
    "# PoolArea:Pool area in square feet"
   ]
  },
  {
   "cell_type": "code",
   "execution_count": 172,
   "id": "2b49accf",
   "metadata": {},
   "outputs": [],
   "source": [
    "df['PoolArea']=df['PoolArea'].apply(lambda x: f'{x}square feet')"
   ]
  },
  {
   "cell_type": "code",
   "execution_count": 173,
   "id": "76dfc248",
   "metadata": {},
   "outputs": [],
   "source": [
    "df.rename(columns={'PoolArea':'Pool area in square feet'},inplace=True)"
   ]
  },
  {
   "cell_type": "markdown",
   "id": "ea7f4d66",
   "metadata": {},
   "source": [
    "# PoolQC: Pool quality"
   ]
  },
  {
   "cell_type": "markdown",
   "id": "a97e7edb",
   "metadata": {},
   "source": [
    "# Ex = Excellent, Gd = Good, TA = Average/Typical, Fa = Fair,NA = No Pool"
   ]
  },
  {
   "cell_type": "code",
   "execution_count": 174,
   "id": "c0b1388a",
   "metadata": {
    "scrolled": true
   },
   "outputs": [],
   "source": [
    "df['PoolQC']=df['PoolQC'].replace({'Ex':'Excellent','Gd':'Good','TA':'Average/Typical','Fa':'Fair','NA':'No Pool'})"
   ]
  },
  {
   "cell_type": "code",
   "execution_count": 175,
   "id": "e213935b",
   "metadata": {},
   "outputs": [],
   "source": [
    "df.rename(columns={'PoolQC':'Pool quality'},inplace=True)"
   ]
  },
  {
   "cell_type": "markdown",
   "id": "f5066c6e",
   "metadata": {},
   "source": [
    "# Fence: Fence Quality"
   ]
  },
  {
   "cell_type": "markdown",
   "id": "2a0b2ee9",
   "metadata": {},
   "source": [
    "# GdPrv = Good Privacy, MnPrv = Minimum Privacy, GdWo = Good Wood, MnWw = Minimum Wood/Wire, NA  = No Fence"
   ]
  },
  {
   "cell_type": "code",
   "execution_count": 176,
   "id": "d1d0d298",
   "metadata": {},
   "outputs": [],
   "source": [
    "df['Fence']=df['Fence'].replace({'GdPrv':'Good Privacy','MnPrv':'Minimum Privacy','GdWo':'Good Wood','MnWw':'Minimum Wood/Wire','NA':'No Fence'})"
   ]
  },
  {
   "cell_type": "markdown",
   "id": "949b5bf7",
   "metadata": {},
   "source": [
    "# MiscFeature: Miscellaneous feature not covered in other categories"
   ]
  },
  {
   "cell_type": "markdown",
   "id": "a1c91636",
   "metadata": {},
   "source": [
    "# Elev =  Elevator, Gar2 = 2nd Garage (if not described in garage section), Othr = Other, Shed = Shed (over 100 SF), TenC = Tennis Court, NA  = None"
   ]
  },
  {
   "cell_type": "code",
   "execution_count": 177,
   "id": "c0847843",
   "metadata": {},
   "outputs": [],
   "source": [
    "df['MiscFeature']=df['MiscFeature'].replace({'Elev':'Elevator','Gar2':'2nd Garage (if not described in garage section)','Othr':'Other','Shed':'Shed (over 100 SF)','TenC':'Tennis Court','NA':'None'})"
   ]
  },
  {
   "cell_type": "code",
   "execution_count": 178,
   "id": "206c7659",
   "metadata": {},
   "outputs": [],
   "source": [
    "df.rename(columns={'MiscFeature':'Miscellaneous feature not covered in other categories'},inplace=True)"
   ]
  },
  {
   "cell_type": "markdown",
   "id": "ef04d748",
   "metadata": {},
   "source": [
    "# MiscVal: $Value of miscellaneous feature"
   ]
  },
  {
   "cell_type": "code",
   "execution_count": 179,
   "id": "f9ce18ed",
   "metadata": {},
   "outputs": [],
   "source": [
    "df.rename(columns={'MiscVal':' $Value of miscellaneous feature'},inplace=True)"
   ]
  },
  {
   "cell_type": "markdown",
   "id": "9ee6be1e",
   "metadata": {},
   "source": [
    "# MoSold: Month Sold (MM)"
   ]
  },
  {
   "cell_type": "code",
   "execution_count": 180,
   "id": "febd2a74",
   "metadata": {},
   "outputs": [],
   "source": [
    "df.rename(columns={'MoSold':'Month Sold (MM)'},inplace=True)"
   ]
  },
  {
   "cell_type": "markdown",
   "id": "b686c732",
   "metadata": {},
   "source": [
    "# YrSold: Year Sold (YYYY)"
   ]
  },
  {
   "cell_type": "code",
   "execution_count": 181,
   "id": "fe3d0fce",
   "metadata": {},
   "outputs": [],
   "source": [
    "df.rename(columns={'YrSold':'Year Sold (YYYY)'},inplace=True)"
   ]
  },
  {
   "cell_type": "markdown",
   "id": "f4ee978d",
   "metadata": {},
   "source": [
    "# SaleType:Type of sale"
   ]
  },
  {
   "cell_type": "markdown",
   "id": "78559155",
   "metadata": {},
   "source": [
    "# WD = Warranty Deed - Conventional, CWD = Warranty Deed - Cash, VWD = Warranty Deed - VA Loan, New = Home just constructed and sold, COD = Court Officer Deed/Estate, Con = Contract 15% Down payment regular terms,ConLw = Contract Low Down payment and low interest, ConLI = Contract Low Interest, ConLD = Contract Low Down, Oth  = Other"
   ]
  },
  {
   "cell_type": "code",
   "execution_count": 182,
   "id": "290ec208",
   "metadata": {},
   "outputs": [],
   "source": [
    "df['SaleType']=df['SaleType'].replace({'WD':'Warranty Deed - Conventional','CWD':'Warranty Deed - Cash','VWD':'Warranty Deed - VA Loan','New':'Home just constructed and sold','COD':'Court Officer Deed/Estate','Con':'Contract 15% Down payment regular terms','ConLw':'Contract Low Down payment and low interest','ConLI':'Contract Low Interest','ConLD':'Contract Low Down','Oth':'Other'})"
   ]
  },
  {
   "cell_type": "code",
   "execution_count": 183,
   "id": "48af34ac",
   "metadata": {},
   "outputs": [],
   "source": [
    "df.rename(columns={'SaleType':'Type of sale'},inplace=True)"
   ]
  },
  {
   "cell_type": "markdown",
   "id": "acbe6adc",
   "metadata": {},
   "source": [
    "# SaleCondition: Condition of sale"
   ]
  },
  {
   "cell_type": "markdown",
   "id": "1db0d696",
   "metadata": {},
   "source": [
    "# Normal = Normal Sale, Abnorml = Abnormal Sale -  trade, foreclosure, short sale, AdjLand = Adjoining Land Purchase, Alloca = Allocation - two linked properties with separate deeds, typically condo with a garage unit , Family = Sale between family members, Partial = Home was not completed when last assessed (associated with New  Homes)\n"
   ]
  },
  {
   "cell_type": "code",
   "execution_count": 184,
   "id": "659ec120",
   "metadata": {},
   "outputs": [],
   "source": [
    "df['SaleCondition']=df['SaleCondition'].replace({'Normal':'Normal Sale','Abnorml':'Abnormal Sale -  trade, foreclosure, short sale','AdjLand':'Adjoining Land Purchase','Alloca':'Allocation - two linked properties with separate deeds, typically condo with a garage unit','Family':'Sale between family members','Partial':' Home was not completed when last assessed (associated with New  Homes)'})"
   ]
  },
  {
   "cell_type": "code",
   "execution_count": 185,
   "id": "b951bc6b",
   "metadata": {},
   "outputs": [],
   "source": [
    "df.rename(columns={'SaleCondition':'Condition of sale'},inplace=True)"
   ]
  },
  {
   "cell_type": "markdown",
   "id": "f4002338",
   "metadata": {},
   "source": [
    "# Clean the data set"
   ]
  },
  {
   "cell_type": "code",
   "execution_count": 186,
   "id": "2cbebab1",
   "metadata": {},
   "outputs": [],
   "source": [
    "clean_df=df.drop(['Unnamed: 0','Condition2','YearRemodAdd','ExterCond'],axis=1)"
   ]
  },
  {
   "cell_type": "code",
   "execution_count": 187,
   "id": "d549b1ea",
   "metadata": {
    "scrolled": true
   },
   "outputs": [
    {
     "data": {
      "text/html": [
       "<div>\n",
       "<style scoped>\n",
       "    .dataframe tbody tr th:only-of-type {\n",
       "        vertical-align: middle;\n",
       "    }\n",
       "\n",
       "    .dataframe tbody tr th {\n",
       "        vertical-align: top;\n",
       "    }\n",
       "\n",
       "    .dataframe thead th {\n",
       "        text-align: right;\n",
       "    }\n",
       "</style>\n",
       "<table border=\"1\" class=\"dataframe\">\n",
       "  <thead>\n",
       "    <tr style=\"text-align: right;\">\n",
       "      <th></th>\n",
       "      <th>Identifies the type of dwelling involved in the sale.</th>\n",
       "      <th>Identifies the general zoning classification of the sale.</th>\n",
       "      <th>Linear feet of street connected to the property</th>\n",
       "      <th>plot size in square feet</th>\n",
       "      <th>Type of road access to property</th>\n",
       "      <th>Type of alley access to property</th>\n",
       "      <th>General shape of property</th>\n",
       "      <th>Flatness of the property</th>\n",
       "      <th>Utilities</th>\n",
       "      <th>LotConfig</th>\n",
       "      <th>...</th>\n",
       "      <th>Pool area in square feet</th>\n",
       "      <th>Pool quality</th>\n",
       "      <th>Fence</th>\n",
       "      <th>Miscellaneous feature not covered in other categories</th>\n",
       "      <th>$Value of miscellaneous feature</th>\n",
       "      <th>Month Sold (MM)</th>\n",
       "      <th>Year Sold (YYYY)</th>\n",
       "      <th>Type of sale</th>\n",
       "      <th>Condition of sale</th>\n",
       "      <th>SalePrice</th>\n",
       "    </tr>\n",
       "  </thead>\n",
       "  <tbody>\n",
       "    <tr>\n",
       "      <th>0</th>\n",
       "      <td>2-STORY 1946 &amp; NEWER</td>\n",
       "      <td>Residential Low-Density</td>\n",
       "      <td>65</td>\n",
       "      <td>8450sqare feet</td>\n",
       "      <td>Paved</td>\n",
       "      <td>NaN</td>\n",
       "      <td>Regular</td>\n",
       "      <td>Near Flat/Level</td>\n",
       "      <td>AllPub</td>\n",
       "      <td>Inside</td>\n",
       "      <td>...</td>\n",
       "      <td>0square feet</td>\n",
       "      <td>No</td>\n",
       "      <td>No</td>\n",
       "      <td>No</td>\n",
       "      <td>0</td>\n",
       "      <td>Feb</td>\n",
       "      <td>2008</td>\n",
       "      <td>Warranty Deed - Conventional</td>\n",
       "      <td>Normal Sale</td>\n",
       "      <td>208500</td>\n",
       "    </tr>\n",
       "    <tr>\n",
       "      <th>1</th>\n",
       "      <td>1-STORY 1946 &amp; NEWER ALL STYLES</td>\n",
       "      <td>Residential Low-Density</td>\n",
       "      <td>80</td>\n",
       "      <td>9600sqare feet</td>\n",
       "      <td>Paved</td>\n",
       "      <td>NaN</td>\n",
       "      <td>Regular</td>\n",
       "      <td>Near Flat/Level</td>\n",
       "      <td>AllPub</td>\n",
       "      <td>Frontage on 2 sides of the property</td>\n",
       "      <td>...</td>\n",
       "      <td>0square feet</td>\n",
       "      <td>No</td>\n",
       "      <td>No</td>\n",
       "      <td>No</td>\n",
       "      <td>0</td>\n",
       "      <td>May</td>\n",
       "      <td>2007</td>\n",
       "      <td>Warranty Deed - Conventional</td>\n",
       "      <td>Normal Sale</td>\n",
       "      <td>181500</td>\n",
       "    </tr>\n",
       "    <tr>\n",
       "      <th>2</th>\n",
       "      <td>2-STORY 1946 &amp; NEWER</td>\n",
       "      <td>Residential Low-Density</td>\n",
       "      <td>68</td>\n",
       "      <td>11250sqare feet</td>\n",
       "      <td>Paved</td>\n",
       "      <td>NaN</td>\n",
       "      <td>Slightly irregular</td>\n",
       "      <td>Near Flat/Level</td>\n",
       "      <td>AllPub</td>\n",
       "      <td>Inside</td>\n",
       "      <td>...</td>\n",
       "      <td>0square feet</td>\n",
       "      <td>No</td>\n",
       "      <td>No</td>\n",
       "      <td>No</td>\n",
       "      <td>0</td>\n",
       "      <td>Sep</td>\n",
       "      <td>2008</td>\n",
       "      <td>Warranty Deed - Conventional</td>\n",
       "      <td>Normal Sale</td>\n",
       "      <td>223500</td>\n",
       "    </tr>\n",
       "    <tr>\n",
       "      <th>3</th>\n",
       "      <td>2-STORY 1945 &amp; OLDER</td>\n",
       "      <td>Residential Low-Density</td>\n",
       "      <td>60</td>\n",
       "      <td>9550sqare feet</td>\n",
       "      <td>Paved</td>\n",
       "      <td>NaN</td>\n",
       "      <td>Slightly irregular</td>\n",
       "      <td>Near Flat/Level</td>\n",
       "      <td>AllPub</td>\n",
       "      <td>Corner</td>\n",
       "      <td>...</td>\n",
       "      <td>0square feet</td>\n",
       "      <td>No</td>\n",
       "      <td>No</td>\n",
       "      <td>No</td>\n",
       "      <td>0</td>\n",
       "      <td>Feb</td>\n",
       "      <td>2006</td>\n",
       "      <td>Warranty Deed - Conventional</td>\n",
       "      <td>Abnormal Sale -  trade, foreclosure, short sale</td>\n",
       "      <td>140000</td>\n",
       "    </tr>\n",
       "    <tr>\n",
       "      <th>4</th>\n",
       "      <td>2-STORY 1946 &amp; NEWER</td>\n",
       "      <td>Residential Low-Density</td>\n",
       "      <td>84</td>\n",
       "      <td>14260sqare feet</td>\n",
       "      <td>Paved</td>\n",
       "      <td>NaN</td>\n",
       "      <td>Slightly irregular</td>\n",
       "      <td>Near Flat/Level</td>\n",
       "      <td>AllPub</td>\n",
       "      <td>Frontage on 2 sides of the property</td>\n",
       "      <td>...</td>\n",
       "      <td>0square feet</td>\n",
       "      <td>No</td>\n",
       "      <td>No</td>\n",
       "      <td>No</td>\n",
       "      <td>0</td>\n",
       "      <td>Dec</td>\n",
       "      <td>2008</td>\n",
       "      <td>Warranty Deed - Conventional</td>\n",
       "      <td>Normal Sale</td>\n",
       "      <td>250000</td>\n",
       "    </tr>\n",
       "    <tr>\n",
       "      <th>...</th>\n",
       "      <td>...</td>\n",
       "      <td>...</td>\n",
       "      <td>...</td>\n",
       "      <td>...</td>\n",
       "      <td>...</td>\n",
       "      <td>...</td>\n",
       "      <td>...</td>\n",
       "      <td>...</td>\n",
       "      <td>...</td>\n",
       "      <td>...</td>\n",
       "      <td>...</td>\n",
       "      <td>...</td>\n",
       "      <td>...</td>\n",
       "      <td>...</td>\n",
       "      <td>...</td>\n",
       "      <td>...</td>\n",
       "      <td>...</td>\n",
       "      <td>...</td>\n",
       "      <td>...</td>\n",
       "      <td>...</td>\n",
       "      <td>...</td>\n",
       "    </tr>\n",
       "    <tr>\n",
       "      <th>1455</th>\n",
       "      <td>2-STORY 1946 &amp; NEWER</td>\n",
       "      <td>Residential Low-Density</td>\n",
       "      <td>62</td>\n",
       "      <td>7917sqare feet</td>\n",
       "      <td>Paved</td>\n",
       "      <td>NaN</td>\n",
       "      <td>Regular</td>\n",
       "      <td>Near Flat/Level</td>\n",
       "      <td>AllPub</td>\n",
       "      <td>Inside</td>\n",
       "      <td>...</td>\n",
       "      <td>0square feet</td>\n",
       "      <td>No</td>\n",
       "      <td>No</td>\n",
       "      <td>No</td>\n",
       "      <td>0</td>\n",
       "      <td>Aug</td>\n",
       "      <td>2007</td>\n",
       "      <td>Warranty Deed - Conventional</td>\n",
       "      <td>Normal Sale</td>\n",
       "      <td>175000</td>\n",
       "    </tr>\n",
       "    <tr>\n",
       "      <th>1456</th>\n",
       "      <td>1-STORY 1946 &amp; NEWER ALL STYLES</td>\n",
       "      <td>Residential Low-Density</td>\n",
       "      <td>85</td>\n",
       "      <td>13175sqare feet</td>\n",
       "      <td>Paved</td>\n",
       "      <td>NaN</td>\n",
       "      <td>Regular</td>\n",
       "      <td>Near Flat/Level</td>\n",
       "      <td>AllPub</td>\n",
       "      <td>Inside</td>\n",
       "      <td>...</td>\n",
       "      <td>0square feet</td>\n",
       "      <td>No</td>\n",
       "      <td>Minimum Privacy</td>\n",
       "      <td>No</td>\n",
       "      <td>0</td>\n",
       "      <td>Feb</td>\n",
       "      <td>2010</td>\n",
       "      <td>Warranty Deed - Conventional</td>\n",
       "      <td>Normal Sale</td>\n",
       "      <td>210000</td>\n",
       "    </tr>\n",
       "    <tr>\n",
       "      <th>1457</th>\n",
       "      <td>2-STORY 1945 &amp; OLDER</td>\n",
       "      <td>Residential Low-Density</td>\n",
       "      <td>66</td>\n",
       "      <td>9042sqare feet</td>\n",
       "      <td>Paved</td>\n",
       "      <td>NaN</td>\n",
       "      <td>Regular</td>\n",
       "      <td>Near Flat/Level</td>\n",
       "      <td>AllPub</td>\n",
       "      <td>Inside</td>\n",
       "      <td>...</td>\n",
       "      <td>0square feet</td>\n",
       "      <td>No</td>\n",
       "      <td>Good Privacy</td>\n",
       "      <td>Shed (over 100 SF)</td>\n",
       "      <td>2500</td>\n",
       "      <td>May</td>\n",
       "      <td>2010</td>\n",
       "      <td>Warranty Deed - Conventional</td>\n",
       "      <td>Normal Sale</td>\n",
       "      <td>266500</td>\n",
       "    </tr>\n",
       "    <tr>\n",
       "      <th>1458</th>\n",
       "      <td>1-STORY 1946 &amp; NEWER ALL STYLES</td>\n",
       "      <td>Residential Low-Density</td>\n",
       "      <td>68</td>\n",
       "      <td>9717sqare feet</td>\n",
       "      <td>Paved</td>\n",
       "      <td>NaN</td>\n",
       "      <td>Regular</td>\n",
       "      <td>Near Flat/Level</td>\n",
       "      <td>AllPub</td>\n",
       "      <td>Inside</td>\n",
       "      <td>...</td>\n",
       "      <td>0square feet</td>\n",
       "      <td>No</td>\n",
       "      <td>No</td>\n",
       "      <td>No</td>\n",
       "      <td>0</td>\n",
       "      <td>Apr</td>\n",
       "      <td>2010</td>\n",
       "      <td>Warranty Deed - Conventional</td>\n",
       "      <td>Normal Sale</td>\n",
       "      <td>142125</td>\n",
       "    </tr>\n",
       "    <tr>\n",
       "      <th>1459</th>\n",
       "      <td>1-STORY 1946 &amp; NEWER ALL STYLES</td>\n",
       "      <td>Residential Low-Density</td>\n",
       "      <td>75</td>\n",
       "      <td>9937sqare feet</td>\n",
       "      <td>Paved</td>\n",
       "      <td>NaN</td>\n",
       "      <td>Regular</td>\n",
       "      <td>Near Flat/Level</td>\n",
       "      <td>AllPub</td>\n",
       "      <td>Inside</td>\n",
       "      <td>...</td>\n",
       "      <td>0square feet</td>\n",
       "      <td>No</td>\n",
       "      <td>No</td>\n",
       "      <td>No</td>\n",
       "      <td>0</td>\n",
       "      <td>Jun</td>\n",
       "      <td>2008</td>\n",
       "      <td>Warranty Deed - Conventional</td>\n",
       "      <td>Normal Sale</td>\n",
       "      <td>147500</td>\n",
       "    </tr>\n",
       "  </tbody>\n",
       "</table>\n",
       "<p>1460 rows × 75 columns</p>\n",
       "</div>"
      ],
      "text/plain": [
       "     Identifies the type of dwelling involved in the sale.  \\\n",
       "0                                  2-STORY 1946 & NEWER      \n",
       "1                       1-STORY 1946 & NEWER ALL STYLES      \n",
       "2                                  2-STORY 1946 & NEWER      \n",
       "3                                  2-STORY 1945 & OLDER      \n",
       "4                                  2-STORY 1946 & NEWER      \n",
       "...                                                 ...      \n",
       "1455                               2-STORY 1946 & NEWER      \n",
       "1456                    1-STORY 1946 & NEWER ALL STYLES      \n",
       "1457                               2-STORY 1945 & OLDER      \n",
       "1458                    1-STORY 1946 & NEWER ALL STYLES      \n",
       "1459                    1-STORY 1946 & NEWER ALL STYLES      \n",
       "\n",
       "     Identifies the general zoning classification of the sale.  \\\n",
       "0                               Residential Low-Density          \n",
       "1                               Residential Low-Density          \n",
       "2                               Residential Low-Density          \n",
       "3                               Residential Low-Density          \n",
       "4                               Residential Low-Density          \n",
       "...                                                 ...          \n",
       "1455                            Residential Low-Density          \n",
       "1456                            Residential Low-Density          \n",
       "1457                            Residential Low-Density          \n",
       "1458                            Residential Low-Density          \n",
       "1459                            Residential Low-Density          \n",
       "\n",
       "      Linear feet of street connected to the property  \\\n",
       "0                                                  65   \n",
       "1                                                  80   \n",
       "2                                                  68   \n",
       "3                                                  60   \n",
       "4                                                  84   \n",
       "...                                               ...   \n",
       "1455                                               62   \n",
       "1456                                               85   \n",
       "1457                                               66   \n",
       "1458                                               68   \n",
       "1459                                               75   \n",
       "\n",
       "     plot size in square feet Type of road access to property  \\\n",
       "0              8450sqare feet                           Paved   \n",
       "1              9600sqare feet                           Paved   \n",
       "2             11250sqare feet                           Paved   \n",
       "3              9550sqare feet                           Paved   \n",
       "4             14260sqare feet                           Paved   \n",
       "...                       ...                             ...   \n",
       "1455           7917sqare feet                           Paved   \n",
       "1456          13175sqare feet                           Paved   \n",
       "1457           9042sqare feet                           Paved   \n",
       "1458           9717sqare feet                           Paved   \n",
       "1459           9937sqare feet                           Paved   \n",
       "\n",
       "     Type of alley access to property General shape of property  \\\n",
       "0                                 NaN                   Regular   \n",
       "1                                 NaN                   Regular   \n",
       "2                                 NaN        Slightly irregular   \n",
       "3                                 NaN        Slightly irregular   \n",
       "4                                 NaN        Slightly irregular   \n",
       "...                               ...                       ...   \n",
       "1455                              NaN                   Regular   \n",
       "1456                              NaN                   Regular   \n",
       "1457                              NaN                   Regular   \n",
       "1458                              NaN                   Regular   \n",
       "1459                              NaN                   Regular   \n",
       "\n",
       "     Flatness of the property Utilities                            LotConfig  \\\n",
       "0             Near Flat/Level    AllPub                               Inside   \n",
       "1             Near Flat/Level    AllPub  Frontage on 2 sides of the property   \n",
       "2             Near Flat/Level    AllPub                               Inside   \n",
       "3             Near Flat/Level    AllPub                               Corner   \n",
       "4             Near Flat/Level    AllPub  Frontage on 2 sides of the property   \n",
       "...                       ...       ...                                  ...   \n",
       "1455          Near Flat/Level    AllPub                               Inside   \n",
       "1456          Near Flat/Level    AllPub                               Inside   \n",
       "1457          Near Flat/Level    AllPub                               Inside   \n",
       "1458          Near Flat/Level    AllPub                               Inside   \n",
       "1459          Near Flat/Level    AllPub                               Inside   \n",
       "\n",
       "      ... Pool area in square feet Pool quality            Fence  \\\n",
       "0     ...             0square feet           No               No   \n",
       "1     ...             0square feet           No               No   \n",
       "2     ...             0square feet           No               No   \n",
       "3     ...             0square feet           No               No   \n",
       "4     ...             0square feet           No               No   \n",
       "...   ...                      ...          ...              ...   \n",
       "1455  ...             0square feet           No               No   \n",
       "1456  ...             0square feet           No  Minimum Privacy   \n",
       "1457  ...             0square feet           No     Good Privacy   \n",
       "1458  ...             0square feet           No               No   \n",
       "1459  ...             0square feet           No               No   \n",
       "\n",
       "     Miscellaneous feature not covered in other categories  \\\n",
       "0                                                    No      \n",
       "1                                                    No      \n",
       "2                                                    No      \n",
       "3                                                    No      \n",
       "4                                                    No      \n",
       "...                                                 ...      \n",
       "1455                                                 No      \n",
       "1456                                                 No      \n",
       "1457                                 Shed (over 100 SF)      \n",
       "1458                                                 No      \n",
       "1459                                                 No      \n",
       "\n",
       "      $Value of miscellaneous feature  Month Sold (MM)  Year Sold (YYYY)  \\\n",
       "0                                   0              Feb              2008   \n",
       "1                                   0              May              2007   \n",
       "2                                   0              Sep              2008   \n",
       "3                                   0              Feb              2006   \n",
       "4                                   0              Dec              2008   \n",
       "...                               ...              ...               ...   \n",
       "1455                                0              Aug              2007   \n",
       "1456                                0              Feb              2010   \n",
       "1457                             2500              May              2010   \n",
       "1458                                0              Apr              2010   \n",
       "1459                                0              Jun              2008   \n",
       "\n",
       "                      Type of sale  \\\n",
       "0     Warranty Deed - Conventional   \n",
       "1     Warranty Deed - Conventional   \n",
       "2     Warranty Deed - Conventional   \n",
       "3     Warranty Deed - Conventional   \n",
       "4     Warranty Deed - Conventional   \n",
       "...                            ...   \n",
       "1455  Warranty Deed - Conventional   \n",
       "1456  Warranty Deed - Conventional   \n",
       "1457  Warranty Deed - Conventional   \n",
       "1458  Warranty Deed - Conventional   \n",
       "1459  Warranty Deed - Conventional   \n",
       "\n",
       "                                    Condition of sale SalePrice  \n",
       "0                                         Normal Sale    208500  \n",
       "1                                         Normal Sale    181500  \n",
       "2                                         Normal Sale    223500  \n",
       "3     Abnormal Sale -  trade, foreclosure, short sale    140000  \n",
       "4                                         Normal Sale    250000  \n",
       "...                                               ...       ...  \n",
       "1455                                      Normal Sale    175000  \n",
       "1456                                      Normal Sale    210000  \n",
       "1457                                      Normal Sale    266500  \n",
       "1458                                      Normal Sale    142125  \n",
       "1459                                      Normal Sale    147500  \n",
       "\n",
       "[1460 rows x 75 columns]"
      ]
     },
     "execution_count": 187,
     "metadata": {},
     "output_type": "execute_result"
    }
   ],
   "source": [
    "clean_df"
   ]
  },
  {
   "cell_type": "code",
   "execution_count": 188,
   "id": "ac1eb536",
   "metadata": {},
   "outputs": [
    {
     "data": {
      "text/html": [
       "<div>\n",
       "<style scoped>\n",
       "    .dataframe tbody tr th:only-of-type {\n",
       "        vertical-align: middle;\n",
       "    }\n",
       "\n",
       "    .dataframe tbody tr th {\n",
       "        vertical-align: top;\n",
       "    }\n",
       "\n",
       "    .dataframe thead th {\n",
       "        text-align: right;\n",
       "    }\n",
       "</style>\n",
       "<table border=\"1\" class=\"dataframe\">\n",
       "  <thead>\n",
       "    <tr style=\"text-align: right;\">\n",
       "      <th></th>\n",
       "      <th>Identifies the type of dwelling involved in the sale.</th>\n",
       "      <th>Identifies the general zoning classification of the sale.</th>\n",
       "      <th>Linear feet of street connected to the property</th>\n",
       "      <th>plot size in square feet</th>\n",
       "      <th>Type of road access to property</th>\n",
       "      <th>Type of alley access to property</th>\n",
       "      <th>General shape of property</th>\n",
       "      <th>Flatness of the property</th>\n",
       "      <th>Utilities</th>\n",
       "      <th>LotConfig</th>\n",
       "      <th>...</th>\n",
       "      <th>Pool area in square feet</th>\n",
       "      <th>Pool quality</th>\n",
       "      <th>Fence</th>\n",
       "      <th>Miscellaneous feature not covered in other categories</th>\n",
       "      <th>$Value of miscellaneous feature</th>\n",
       "      <th>Month Sold (MM)</th>\n",
       "      <th>Year Sold (YYYY)</th>\n",
       "      <th>Type of sale</th>\n",
       "      <th>Condition of sale</th>\n",
       "      <th>SalePrice</th>\n",
       "    </tr>\n",
       "  </thead>\n",
       "  <tbody>\n",
       "    <tr>\n",
       "      <th>count</th>\n",
       "      <td>1460</td>\n",
       "      <td>1460</td>\n",
       "      <td>1460.000000</td>\n",
       "      <td>1460</td>\n",
       "      <td>1460</td>\n",
       "      <td>91</td>\n",
       "      <td>1460</td>\n",
       "      <td>1460</td>\n",
       "      <td>1460</td>\n",
       "      <td>1460</td>\n",
       "      <td>...</td>\n",
       "      <td>1460</td>\n",
       "      <td>1460</td>\n",
       "      <td>1460</td>\n",
       "      <td>1460</td>\n",
       "      <td>1460.000000</td>\n",
       "      <td>1460</td>\n",
       "      <td>1460.000000</td>\n",
       "      <td>1460</td>\n",
       "      <td>1460</td>\n",
       "      <td>1460.000000</td>\n",
       "    </tr>\n",
       "    <tr>\n",
       "      <th>unique</th>\n",
       "      <td>15</td>\n",
       "      <td>5</td>\n",
       "      <td>NaN</td>\n",
       "      <td>1073</td>\n",
       "      <td>2</td>\n",
       "      <td>2</td>\n",
       "      <td>4</td>\n",
       "      <td>4</td>\n",
       "      <td>2</td>\n",
       "      <td>5</td>\n",
       "      <td>...</td>\n",
       "      <td>8</td>\n",
       "      <td>4</td>\n",
       "      <td>5</td>\n",
       "      <td>5</td>\n",
       "      <td>NaN</td>\n",
       "      <td>12</td>\n",
       "      <td>NaN</td>\n",
       "      <td>9</td>\n",
       "      <td>6</td>\n",
       "      <td>NaN</td>\n",
       "    </tr>\n",
       "    <tr>\n",
       "      <th>top</th>\n",
       "      <td>1-STORY 1946 &amp; NEWER ALL STYLES</td>\n",
       "      <td>Residential Low-Density</td>\n",
       "      <td>NaN</td>\n",
       "      <td>7200sqare feet</td>\n",
       "      <td>Paved</td>\n",
       "      <td>Gravel</td>\n",
       "      <td>Regular</td>\n",
       "      <td>Near Flat/Level</td>\n",
       "      <td>AllPub</td>\n",
       "      <td>Inside</td>\n",
       "      <td>...</td>\n",
       "      <td>0square feet</td>\n",
       "      <td>No</td>\n",
       "      <td>No</td>\n",
       "      <td>No</td>\n",
       "      <td>NaN</td>\n",
       "      <td>Jun</td>\n",
       "      <td>NaN</td>\n",
       "      <td>Warranty Deed - Conventional</td>\n",
       "      <td>Normal Sale</td>\n",
       "      <td>NaN</td>\n",
       "    </tr>\n",
       "    <tr>\n",
       "      <th>freq</th>\n",
       "      <td>536</td>\n",
       "      <td>1151</td>\n",
       "      <td>NaN</td>\n",
       "      <td>25</td>\n",
       "      <td>1454</td>\n",
       "      <td>50</td>\n",
       "      <td>925</td>\n",
       "      <td>1311</td>\n",
       "      <td>1459</td>\n",
       "      <td>1052</td>\n",
       "      <td>...</td>\n",
       "      <td>1453</td>\n",
       "      <td>1453</td>\n",
       "      <td>1179</td>\n",
       "      <td>1406</td>\n",
       "      <td>NaN</td>\n",
       "      <td>253</td>\n",
       "      <td>NaN</td>\n",
       "      <td>1267</td>\n",
       "      <td>1198</td>\n",
       "      <td>NaN</td>\n",
       "    </tr>\n",
       "    <tr>\n",
       "      <th>mean</th>\n",
       "      <td>NaN</td>\n",
       "      <td>NaN</td>\n",
       "      <td>57.623288</td>\n",
       "      <td>NaN</td>\n",
       "      <td>NaN</td>\n",
       "      <td>NaN</td>\n",
       "      <td>NaN</td>\n",
       "      <td>NaN</td>\n",
       "      <td>NaN</td>\n",
       "      <td>NaN</td>\n",
       "      <td>...</td>\n",
       "      <td>NaN</td>\n",
       "      <td>NaN</td>\n",
       "      <td>NaN</td>\n",
       "      <td>NaN</td>\n",
       "      <td>43.489041</td>\n",
       "      <td>NaN</td>\n",
       "      <td>2007.815753</td>\n",
       "      <td>NaN</td>\n",
       "      <td>NaN</td>\n",
       "      <td>180921.195890</td>\n",
       "    </tr>\n",
       "    <tr>\n",
       "      <th>std</th>\n",
       "      <td>NaN</td>\n",
       "      <td>NaN</td>\n",
       "      <td>34.664304</td>\n",
       "      <td>NaN</td>\n",
       "      <td>NaN</td>\n",
       "      <td>NaN</td>\n",
       "      <td>NaN</td>\n",
       "      <td>NaN</td>\n",
       "      <td>NaN</td>\n",
       "      <td>NaN</td>\n",
       "      <td>...</td>\n",
       "      <td>NaN</td>\n",
       "      <td>NaN</td>\n",
       "      <td>NaN</td>\n",
       "      <td>NaN</td>\n",
       "      <td>496.123024</td>\n",
       "      <td>NaN</td>\n",
       "      <td>1.328095</td>\n",
       "      <td>NaN</td>\n",
       "      <td>NaN</td>\n",
       "      <td>79442.502883</td>\n",
       "    </tr>\n",
       "    <tr>\n",
       "      <th>min</th>\n",
       "      <td>NaN</td>\n",
       "      <td>NaN</td>\n",
       "      <td>0.000000</td>\n",
       "      <td>NaN</td>\n",
       "      <td>NaN</td>\n",
       "      <td>NaN</td>\n",
       "      <td>NaN</td>\n",
       "      <td>NaN</td>\n",
       "      <td>NaN</td>\n",
       "      <td>NaN</td>\n",
       "      <td>...</td>\n",
       "      <td>NaN</td>\n",
       "      <td>NaN</td>\n",
       "      <td>NaN</td>\n",
       "      <td>NaN</td>\n",
       "      <td>0.000000</td>\n",
       "      <td>NaN</td>\n",
       "      <td>2006.000000</td>\n",
       "      <td>NaN</td>\n",
       "      <td>NaN</td>\n",
       "      <td>34900.000000</td>\n",
       "    </tr>\n",
       "    <tr>\n",
       "      <th>25%</th>\n",
       "      <td>NaN</td>\n",
       "      <td>NaN</td>\n",
       "      <td>42.000000</td>\n",
       "      <td>NaN</td>\n",
       "      <td>NaN</td>\n",
       "      <td>NaN</td>\n",
       "      <td>NaN</td>\n",
       "      <td>NaN</td>\n",
       "      <td>NaN</td>\n",
       "      <td>NaN</td>\n",
       "      <td>...</td>\n",
       "      <td>NaN</td>\n",
       "      <td>NaN</td>\n",
       "      <td>NaN</td>\n",
       "      <td>NaN</td>\n",
       "      <td>0.000000</td>\n",
       "      <td>NaN</td>\n",
       "      <td>2007.000000</td>\n",
       "      <td>NaN</td>\n",
       "      <td>NaN</td>\n",
       "      <td>129975.000000</td>\n",
       "    </tr>\n",
       "    <tr>\n",
       "      <th>50%</th>\n",
       "      <td>NaN</td>\n",
       "      <td>NaN</td>\n",
       "      <td>63.000000</td>\n",
       "      <td>NaN</td>\n",
       "      <td>NaN</td>\n",
       "      <td>NaN</td>\n",
       "      <td>NaN</td>\n",
       "      <td>NaN</td>\n",
       "      <td>NaN</td>\n",
       "      <td>NaN</td>\n",
       "      <td>...</td>\n",
       "      <td>NaN</td>\n",
       "      <td>NaN</td>\n",
       "      <td>NaN</td>\n",
       "      <td>NaN</td>\n",
       "      <td>0.000000</td>\n",
       "      <td>NaN</td>\n",
       "      <td>2008.000000</td>\n",
       "      <td>NaN</td>\n",
       "      <td>NaN</td>\n",
       "      <td>163000.000000</td>\n",
       "    </tr>\n",
       "    <tr>\n",
       "      <th>75%</th>\n",
       "      <td>NaN</td>\n",
       "      <td>NaN</td>\n",
       "      <td>79.000000</td>\n",
       "      <td>NaN</td>\n",
       "      <td>NaN</td>\n",
       "      <td>NaN</td>\n",
       "      <td>NaN</td>\n",
       "      <td>NaN</td>\n",
       "      <td>NaN</td>\n",
       "      <td>NaN</td>\n",
       "      <td>...</td>\n",
       "      <td>NaN</td>\n",
       "      <td>NaN</td>\n",
       "      <td>NaN</td>\n",
       "      <td>NaN</td>\n",
       "      <td>0.000000</td>\n",
       "      <td>NaN</td>\n",
       "      <td>2009.000000</td>\n",
       "      <td>NaN</td>\n",
       "      <td>NaN</td>\n",
       "      <td>214000.000000</td>\n",
       "    </tr>\n",
       "    <tr>\n",
       "      <th>max</th>\n",
       "      <td>NaN</td>\n",
       "      <td>NaN</td>\n",
       "      <td>313.000000</td>\n",
       "      <td>NaN</td>\n",
       "      <td>NaN</td>\n",
       "      <td>NaN</td>\n",
       "      <td>NaN</td>\n",
       "      <td>NaN</td>\n",
       "      <td>NaN</td>\n",
       "      <td>NaN</td>\n",
       "      <td>...</td>\n",
       "      <td>NaN</td>\n",
       "      <td>NaN</td>\n",
       "      <td>NaN</td>\n",
       "      <td>NaN</td>\n",
       "      <td>15500.000000</td>\n",
       "      <td>NaN</td>\n",
       "      <td>2010.000000</td>\n",
       "      <td>NaN</td>\n",
       "      <td>NaN</td>\n",
       "      <td>755000.000000</td>\n",
       "    </tr>\n",
       "  </tbody>\n",
       "</table>\n",
       "<p>11 rows × 75 columns</p>\n",
       "</div>"
      ],
      "text/plain": [
       "       Identifies the type of dwelling involved in the sale.  \\\n",
       "count                                                1460      \n",
       "unique                                                 15      \n",
       "top                       1-STORY 1946 & NEWER ALL STYLES      \n",
       "freq                                                  536      \n",
       "mean                                                  NaN      \n",
       "std                                                   NaN      \n",
       "min                                                   NaN      \n",
       "25%                                                   NaN      \n",
       "50%                                                   NaN      \n",
       "75%                                                   NaN      \n",
       "max                                                   NaN      \n",
       "\n",
       "       Identifies the general zoning classification of the sale.  \\\n",
       "count                                                1460          \n",
       "unique                                                  5          \n",
       "top                               Residential Low-Density          \n",
       "freq                                                 1151          \n",
       "mean                                                  NaN          \n",
       "std                                                   NaN          \n",
       "min                                                   NaN          \n",
       "25%                                                   NaN          \n",
       "50%                                                   NaN          \n",
       "75%                                                   NaN          \n",
       "max                                                   NaN          \n",
       "\n",
       "        Linear feet of street connected to the property  \\\n",
       "count                                       1460.000000   \n",
       "unique                                              NaN   \n",
       "top                                                 NaN   \n",
       "freq                                                NaN   \n",
       "mean                                          57.623288   \n",
       "std                                           34.664304   \n",
       "min                                            0.000000   \n",
       "25%                                           42.000000   \n",
       "50%                                           63.000000   \n",
       "75%                                           79.000000   \n",
       "max                                          313.000000   \n",
       "\n",
       "       plot size in square feet Type of road access to property  \\\n",
       "count                      1460                            1460   \n",
       "unique                     1073                               2   \n",
       "top              7200sqare feet                           Paved   \n",
       "freq                         25                            1454   \n",
       "mean                        NaN                             NaN   \n",
       "std                         NaN                             NaN   \n",
       "min                         NaN                             NaN   \n",
       "25%                         NaN                             NaN   \n",
       "50%                         NaN                             NaN   \n",
       "75%                         NaN                             NaN   \n",
       "max                         NaN                             NaN   \n",
       "\n",
       "       Type of alley access to property General shape of property  \\\n",
       "count                                91                      1460   \n",
       "unique                                2                         4   \n",
       "top                              Gravel                   Regular   \n",
       "freq                                 50                       925   \n",
       "mean                                NaN                       NaN   \n",
       "std                                 NaN                       NaN   \n",
       "min                                 NaN                       NaN   \n",
       "25%                                 NaN                       NaN   \n",
       "50%                                 NaN                       NaN   \n",
       "75%                                 NaN                       NaN   \n",
       "max                                 NaN                       NaN   \n",
       "\n",
       "       Flatness of the property Utilities LotConfig  ...  \\\n",
       "count                      1460      1460      1460  ...   \n",
       "unique                        4         2         5  ...   \n",
       "top             Near Flat/Level    AllPub    Inside  ...   \n",
       "freq                       1311      1459      1052  ...   \n",
       "mean                        NaN       NaN       NaN  ...   \n",
       "std                         NaN       NaN       NaN  ...   \n",
       "min                         NaN       NaN       NaN  ...   \n",
       "25%                         NaN       NaN       NaN  ...   \n",
       "50%                         NaN       NaN       NaN  ...   \n",
       "75%                         NaN       NaN       NaN  ...   \n",
       "max                         NaN       NaN       NaN  ...   \n",
       "\n",
       "       Pool area in square feet Pool quality Fence  \\\n",
       "count                      1460         1460  1460   \n",
       "unique                        8            4     5   \n",
       "top                0square feet           No    No   \n",
       "freq                       1453         1453  1179   \n",
       "mean                        NaN          NaN   NaN   \n",
       "std                         NaN          NaN   NaN   \n",
       "min                         NaN          NaN   NaN   \n",
       "25%                         NaN          NaN   NaN   \n",
       "50%                         NaN          NaN   NaN   \n",
       "75%                         NaN          NaN   NaN   \n",
       "max                         NaN          NaN   NaN   \n",
       "\n",
       "       Miscellaneous feature not covered in other categories  \\\n",
       "count                                                1460      \n",
       "unique                                                  5      \n",
       "top                                                    No      \n",
       "freq                                                 1406      \n",
       "mean                                                  NaN      \n",
       "std                                                   NaN      \n",
       "min                                                   NaN      \n",
       "25%                                                   NaN      \n",
       "50%                                                   NaN      \n",
       "75%                                                   NaN      \n",
       "max                                                   NaN      \n",
       "\n",
       "        $Value of miscellaneous feature  Month Sold (MM)  Year Sold (YYYY)  \\\n",
       "count                       1460.000000             1460       1460.000000   \n",
       "unique                              NaN               12               NaN   \n",
       "top                                 NaN              Jun               NaN   \n",
       "freq                                NaN              253               NaN   \n",
       "mean                          43.489041              NaN       2007.815753   \n",
       "std                          496.123024              NaN          1.328095   \n",
       "min                            0.000000              NaN       2006.000000   \n",
       "25%                            0.000000              NaN       2007.000000   \n",
       "50%                            0.000000              NaN       2008.000000   \n",
       "75%                            0.000000              NaN       2009.000000   \n",
       "max                        15500.000000              NaN       2010.000000   \n",
       "\n",
       "                        Type of sale Condition of sale      SalePrice  \n",
       "count                           1460              1460    1460.000000  \n",
       "unique                             9                 6            NaN  \n",
       "top     Warranty Deed - Conventional       Normal Sale            NaN  \n",
       "freq                            1267              1198            NaN  \n",
       "mean                             NaN               NaN  180921.195890  \n",
       "std                              NaN               NaN   79442.502883  \n",
       "min                              NaN               NaN   34900.000000  \n",
       "25%                              NaN               NaN  129975.000000  \n",
       "50%                              NaN               NaN  163000.000000  \n",
       "75%                              NaN               NaN  214000.000000  \n",
       "max                              NaN               NaN  755000.000000  \n",
       "\n",
       "[11 rows x 75 columns]"
      ]
     },
     "execution_count": 188,
     "metadata": {},
     "output_type": "execute_result"
    }
   ],
   "source": [
    "clean_df.describe(include = 'all')"
   ]
  },
  {
   "cell_type": "markdown",
   "id": "7a103f07",
   "metadata": {},
   "source": [
    "# Checked missing and duplicates value"
   ]
  },
  {
   "cell_type": "code",
   "execution_count": 189,
   "id": "24dbece7",
   "metadata": {},
   "outputs": [
    {
     "data": {
      "text/plain": [
       "(1460, 75)"
      ]
     },
     "execution_count": 189,
     "metadata": {},
     "output_type": "execute_result"
    }
   ],
   "source": [
    "clean_df.shape"
   ]
  },
  {
   "cell_type": "markdown",
   "id": "9319c0d8",
   "metadata": {},
   "source": [
    "# find the missing values"
   ]
  },
  {
   "cell_type": "code",
   "execution_count": 190,
   "id": "1d8721b0",
   "metadata": {},
   "outputs": [
    {
     "data": {
      "text/plain": [
       "Identifies the type of dwelling involved in the sale.        0\n",
       "Identifies the general zoning classification of the sale.    0\n",
       "Linear feet of street connected to the property              0\n",
       "plot size in square feet                                     0\n",
       "Type of road access to property                              0\n",
       "                                                            ..\n",
       "Month Sold (MM)                                              0\n",
       "Year Sold (YYYY)                                             0\n",
       "Type of sale                                                 0\n",
       "Condition of sale                                            0\n",
       "SalePrice                                                    0\n",
       "Length: 75, dtype: int64"
      ]
     },
     "execution_count": 190,
     "metadata": {},
     "output_type": "execute_result"
    }
   ],
   "source": [
    "clean_df.isnull().sum()"
   ]
  },
  {
   "cell_type": "markdown",
   "id": "02a9770b",
   "metadata": {},
   "source": [
    "# Univariat analysys"
   ]
  },
  {
   "cell_type": "code",
   "execution_count": 191,
   "id": "1034de5e",
   "metadata": {},
   "outputs": [
    {
     "data": {
      "text/html": [
       "<div>\n",
       "<style scoped>\n",
       "    .dataframe tbody tr th:only-of-type {\n",
       "        vertical-align: middle;\n",
       "    }\n",
       "\n",
       "    .dataframe tbody tr th {\n",
       "        vertical-align: top;\n",
       "    }\n",
       "\n",
       "    .dataframe thead th {\n",
       "        text-align: right;\n",
       "    }\n",
       "</style>\n",
       "<table border=\"1\" class=\"dataframe\">\n",
       "  <thead>\n",
       "    <tr style=\"text-align: right;\">\n",
       "      <th></th>\n",
       "      <th>Identifies the type of dwelling involved in the sale.</th>\n",
       "      <th>Identifies the general zoning classification of the sale.</th>\n",
       "      <th>Linear feet of street connected to the property</th>\n",
       "      <th>plot size in square feet</th>\n",
       "      <th>Type of road access to property</th>\n",
       "      <th>Type of alley access to property</th>\n",
       "      <th>General shape of property</th>\n",
       "      <th>Flatness of the property</th>\n",
       "      <th>Utilities</th>\n",
       "      <th>LotConfig</th>\n",
       "      <th>...</th>\n",
       "      <th>Pool area in square feet</th>\n",
       "      <th>Pool quality</th>\n",
       "      <th>Fence</th>\n",
       "      <th>Miscellaneous feature not covered in other categories</th>\n",
       "      <th>$Value of miscellaneous feature</th>\n",
       "      <th>Month Sold (MM)</th>\n",
       "      <th>Year Sold (YYYY)</th>\n",
       "      <th>Type of sale</th>\n",
       "      <th>Condition of sale</th>\n",
       "      <th>SalePrice</th>\n",
       "    </tr>\n",
       "  </thead>\n",
       "  <tbody>\n",
       "    <tr>\n",
       "      <th>0</th>\n",
       "      <td>2-STORY 1946 &amp; NEWER</td>\n",
       "      <td>Residential Low-Density</td>\n",
       "      <td>65</td>\n",
       "      <td>8450sqare feet</td>\n",
       "      <td>Paved</td>\n",
       "      <td>NaN</td>\n",
       "      <td>Regular</td>\n",
       "      <td>Near Flat/Level</td>\n",
       "      <td>AllPub</td>\n",
       "      <td>Inside</td>\n",
       "      <td>...</td>\n",
       "      <td>0square feet</td>\n",
       "      <td>No</td>\n",
       "      <td>No</td>\n",
       "      <td>No</td>\n",
       "      <td>0</td>\n",
       "      <td>Feb</td>\n",
       "      <td>2008</td>\n",
       "      <td>Warranty Deed - Conventional</td>\n",
       "      <td>Normal Sale</td>\n",
       "      <td>208500</td>\n",
       "    </tr>\n",
       "    <tr>\n",
       "      <th>1</th>\n",
       "      <td>1-STORY 1946 &amp; NEWER ALL STYLES</td>\n",
       "      <td>Residential Low-Density</td>\n",
       "      <td>80</td>\n",
       "      <td>9600sqare feet</td>\n",
       "      <td>Paved</td>\n",
       "      <td>NaN</td>\n",
       "      <td>Regular</td>\n",
       "      <td>Near Flat/Level</td>\n",
       "      <td>AllPub</td>\n",
       "      <td>Frontage on 2 sides of the property</td>\n",
       "      <td>...</td>\n",
       "      <td>0square feet</td>\n",
       "      <td>No</td>\n",
       "      <td>No</td>\n",
       "      <td>No</td>\n",
       "      <td>0</td>\n",
       "      <td>May</td>\n",
       "      <td>2007</td>\n",
       "      <td>Warranty Deed - Conventional</td>\n",
       "      <td>Normal Sale</td>\n",
       "      <td>181500</td>\n",
       "    </tr>\n",
       "    <tr>\n",
       "      <th>2</th>\n",
       "      <td>2-STORY 1946 &amp; NEWER</td>\n",
       "      <td>Residential Low-Density</td>\n",
       "      <td>68</td>\n",
       "      <td>11250sqare feet</td>\n",
       "      <td>Paved</td>\n",
       "      <td>NaN</td>\n",
       "      <td>Slightly irregular</td>\n",
       "      <td>Near Flat/Level</td>\n",
       "      <td>AllPub</td>\n",
       "      <td>Inside</td>\n",
       "      <td>...</td>\n",
       "      <td>0square feet</td>\n",
       "      <td>No</td>\n",
       "      <td>No</td>\n",
       "      <td>No</td>\n",
       "      <td>0</td>\n",
       "      <td>Sep</td>\n",
       "      <td>2008</td>\n",
       "      <td>Warranty Deed - Conventional</td>\n",
       "      <td>Normal Sale</td>\n",
       "      <td>223500</td>\n",
       "    </tr>\n",
       "  </tbody>\n",
       "</table>\n",
       "<p>3 rows × 75 columns</p>\n",
       "</div>"
      ],
      "text/plain": [
       "  Identifies the type of dwelling involved in the sale.  \\\n",
       "0                               2-STORY 1946 & NEWER      \n",
       "1                    1-STORY 1946 & NEWER ALL STYLES      \n",
       "2                               2-STORY 1946 & NEWER      \n",
       "\n",
       "  Identifies the general zoning classification of the sale.  \\\n",
       "0                            Residential Low-Density          \n",
       "1                            Residential Low-Density          \n",
       "2                            Residential Low-Density          \n",
       "\n",
       "   Linear feet of street connected to the property plot size in square feet  \\\n",
       "0                                               65           8450sqare feet   \n",
       "1                                               80           9600sqare feet   \n",
       "2                                               68          11250sqare feet   \n",
       "\n",
       "  Type of road access to property Type of alley access to property  \\\n",
       "0                           Paved                              NaN   \n",
       "1                           Paved                              NaN   \n",
       "2                           Paved                              NaN   \n",
       "\n",
       "  General shape of property Flatness of the property Utilities  \\\n",
       "0                   Regular          Near Flat/Level    AllPub   \n",
       "1                   Regular          Near Flat/Level    AllPub   \n",
       "2        Slightly irregular          Near Flat/Level    AllPub   \n",
       "\n",
       "                             LotConfig  ... Pool area in square feet  \\\n",
       "0                               Inside  ...             0square feet   \n",
       "1  Frontage on 2 sides of the property  ...             0square feet   \n",
       "2                               Inside  ...             0square feet   \n",
       "\n",
       "  Pool quality Fence Miscellaneous feature not covered in other categories  \\\n",
       "0           No    No                                                 No      \n",
       "1           No    No                                                 No      \n",
       "2           No    No                                                 No      \n",
       "\n",
       "   $Value of miscellaneous feature  Month Sold (MM)  Year Sold (YYYY)  \\\n",
       "0                                0              Feb              2008   \n",
       "1                                0              May              2007   \n",
       "2                                0              Sep              2008   \n",
       "\n",
       "                   Type of sale Condition of sale SalePrice  \n",
       "0  Warranty Deed - Conventional       Normal Sale    208500  \n",
       "1  Warranty Deed - Conventional       Normal Sale    181500  \n",
       "2  Warranty Deed - Conventional       Normal Sale    223500  \n",
       "\n",
       "[3 rows x 75 columns]"
      ]
     },
     "execution_count": 191,
     "metadata": {},
     "output_type": "execute_result"
    }
   ],
   "source": [
    "clean_df.head(3)"
   ]
  },
  {
   "cell_type": "code",
   "execution_count": 192,
   "id": "db870415",
   "metadata": {},
   "outputs": [
    {
     "data": {
      "text/plain": [
       "<Axes: xlabel='Linear feet of street connected to the property'>"
      ]
     },
     "execution_count": 192,
     "metadata": {},
     "output_type": "execute_result"
    },
    {
     "data": {
      "image/png": "[encoded data removed]",
      "text/plain": [
       "<Figure size 640x480 with 1 Axes>"
      ]
     },
     "metadata": {},
     "output_type": "display_data"
    }
   ],
   "source": [
    "sns.boxplot(data=df,x='Linear feet of street connected to the property')"
   ]
  },
  {
   "cell_type": "code",
   "execution_count": 193,
   "id": "dd0570ef",
   "metadata": {},
   "outputs": [
    {
     "name": "stderr",
     "output_type": "stream",
     "text": [
      "C:\\Users\\DELL\\anaconda3\\Lib\\site-packages\\seaborn\\_oldcore.py:1119: FutureWarning: use_inf_as_na option is deprecated and will be removed in a future version. Convert inf values to NaN before operating instead.\n",
      "  with pd.option_context('mode.use_inf_as_na', True):\n"
     ]
    },
    {
     "data": {
      "text/plain": [
       "([0, 1, 2, 3, 4, 5, 6, 7, 8, 9, 10, 11, 12, 13, 14],\n",
       " [Text(0, 0, '2-STORY 1946 & NEWER'),\n",
       "  Text(1, 0, '1-STORY 1946 & NEWER ALL STYLES'),\n",
       "  Text(2, 0, '2-STORY 1945 & OLDER'),\n",
       "  Text(3, 0, '1-1/2 STORY FINISHED ALL AGES'),\n",
       "  Text(4, 0, '2 FAMILY CONVERSION - ALL STYLES AND AGES'),\n",
       "  Text(5, 0, '1/2 STORY - UNFINISHED ALL AGES'),\n",
       "  Text(6, 0, 'DUPLEX - ALL STYLES AND AGES'),\n",
       "  Text(7, 0, 'STORY PUD (Planned Unit Development) - 1946 & NEWER'),\n",
       "  Text(8, 0, '1-STORY 1945 & OLDER'),\n",
       "  Text(9, 0, 'SPLIT FOYER'),\n",
       "  Text(10, 0, 'SPLIT OR MULTI-LEVEL'),\n",
       "  Text(11, 0, '2-STORY PUD - 1946 & NEWER'),\n",
       "  Text(12, 0, '2-1/2 STORY ALL AGES'),\n",
       "  Text(13, 0, 'PUD - MULTILEVEL - INCL SPLIT LEV/FOYER'),\n",
       "  Text(14, 0, '1-STORY W/FINISHED ATTIC ALL AGES')])"
      ]
     },
     "execution_count": 193,
     "metadata": {},
     "output_type": "execute_result"
    },
    {
     "data": {
      "image/png": "[encoded data removed]",
      "text/plain": [
       "<Figure size 640x480 with 1 Axes>"
      ]
     },
     "metadata": {},
     "output_type": "display_data"
    }
   ],
   "source": [
    "sns.histplot(data=df, x='Identifies the type of dwelling involved in the sale.', kde=False)\n",
    "plt.xticks(rotation = 90)"
   ]
  },
  {
   "cell_type": "code",
   "execution_count": 194,
   "id": "405fef43",
   "metadata": {},
   "outputs": [
    {
     "name": "stderr",
     "output_type": "stream",
     "text": [
      "C:\\Users\\DELL\\anaconda3\\Lib\\site-packages\\seaborn\\_oldcore.py:1119: FutureWarning: use_inf_as_na option is deprecated and will be removed in a future version. Convert inf values to NaN before operating instead.\n",
      "  with pd.option_context('mode.use_inf_as_na', True):\n"
     ]
    },
    {
     "data": {
      "text/plain": [
       "<Axes: xlabel='Pool quality', ylabel='Count'>"
      ]
     },
     "execution_count": 194,
     "metadata": {},
     "output_type": "execute_result"
    },
    {
     "data": {
      "image/png": "[encoded data removed]",
      "text/plain": [
       "<Figure size 640x480 with 1 Axes>"
      ]
     },
     "metadata": {},
     "output_type": "display_data"
    }
   ],
   "source": [
    "sns.histplot(data=df,x='Pool quality')"
   ]
  },
  {
   "cell_type": "code",
   "execution_count": 195,
   "id": "bd6e00b4",
   "metadata": {},
   "outputs": [
    {
     "name": "stderr",
     "output_type": "stream",
     "text": [
      "C:\\Users\\DELL\\anaconda3\\Lib\\site-packages\\seaborn\\_oldcore.py:1119: FutureWarning: use_inf_as_na option is deprecated and will be removed in a future version. Convert inf values to NaN before operating instead.\n",
      "  with pd.option_context('mode.use_inf_as_na', True):\n"
     ]
    },
    {
     "data": {
      "text/plain": [
       "<Axes: xlabel='Type of alley access to property', ylabel='Count'>"
      ]
     },
     "execution_count": 195,
     "metadata": {},
     "output_type": "execute_result"
    },
    {
     "data": {
      "image/png": "[encoded data removed]",
      "text/plain": [
       "<Figure size 640x480 with 1 Axes>"
      ]
     },
     "metadata": {},
     "output_type": "display_data"
    }
   ],
   "source": [
    "sns.histplot(data=clean_df,x='Type of alley access to property')"
   ]
  },
  {
   "cell_type": "code",
   "execution_count": 196,
   "id": "c8c6d80e",
   "metadata": {},
   "outputs": [
    {
     "name": "stderr",
     "output_type": "stream",
     "text": [
      "C:\\Users\\DELL\\anaconda3\\Lib\\site-packages\\seaborn\\_oldcore.py:1119: FutureWarning: use_inf_as_na option is deprecated and will be removed in a future version. Convert inf values to NaN before operating instead.\n",
      "  with pd.option_context('mode.use_inf_as_na', True):\n"
     ]
    },
    {
     "data": {
      "text/plain": [
       "([0, 1, 2, 3],\n",
       " [Text(0, 0, 'Near Flat/Level'),\n",
       "  Text(1, 0, 'Banked - Quick and significant rise from street grade to building'),\n",
       "  Text(2, 0, 'Depression'),\n",
       "  Text(3, 0, 'Hillside - Significant slope from side to side')])"
      ]
     },
     "execution_count": 196,
     "metadata": {},
     "output_type": "execute_result"
    },
    {
     "data": {
      "image/png": "[encoded data removed]",
      "text/plain": [
       "<Figure size 640x480 with 1 Axes>"
      ]
     },
     "metadata": {},
     "output_type": "display_data"
    }
   ],
   "source": [
    "sns.histplot(data=clean_df,x='Flatness of the property')\n",
    "plt.xticks(rotation=90)"
   ]
  },
  {
   "cell_type": "code",
   "execution_count": 202,
   "id": "54d42e23",
   "metadata": {},
   "outputs": [
    {
     "name": "stderr",
     "output_type": "stream",
     "text": [
      "C:\\Users\\DELL\\anaconda3\\Lib\\site-packages\\seaborn\\_oldcore.py:1119: FutureWarning: use_inf_as_na option is deprecated and will be removed in a future version. Convert inf values to NaN before operating instead.\n",
      "  with pd.option_context('mode.use_inf_as_na', True):\n"
     ]
    },
    {
     "data": {
      "text/plain": [
       "([0, 1, 2, 3, 4],\n",
       " [Text(0, 0, 'Inside'),\n",
       "  Text(1, 0, 'Frontage on 2 sides of the property'),\n",
       "  Text(2, 0, 'Corner'),\n",
       "  Text(3, 0, 'CulDSac'),\n",
       "  Text(4, 0, 'Frontage on 3 sides of the property')])"
      ]
     },
     "execution_count": 202,
     "metadata": {},
     "output_type": "execute_result"
    },
    {
     "data": {
      "image/png": "[encoded data removed]",
      "text/plain": [
       "<Figure size 640x480 with 1 Axes>"
      ]
     },
     "metadata": {},
     "output_type": "display_data"
    }
   ],
   "source": [
    "sns.histplot(data=clean_df,x= 'LotConfig')\n",
    "plt.xticks(rotation=90)"
   ]
  },
  {
   "cell_type": "code",
   "execution_count": null,
   "id": "0b908055-9b93-4950-9925-01dbec810e56",
   "metadata": {},
   "outputs": [],
   "source": []
  }
 ],
 "metadata": {
  "kernelspec": {
   "display_name": "Python 3 (ipykernel)",
   "language": "python",
   "name": "python3"
  },
  "language_info": {
   "codemirror_mode": {
    "name": "ipython",
    "version": 3
   },
   "file_extension": ".py",
   "mimetype": "text/x-python",
   "name": "python",
   "nbconvert_exporter": "python",
   "pygments_lexer": "ipython3",
   "version": "3.11.7"
  }
 },
 "nbformat": 4,
 "nbformat_minor": 5
}
